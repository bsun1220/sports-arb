{
 "cells": [
  {
   "cell_type": "code",
   "execution_count": 2,
   "id": "4d13eec7-7212-4e26-8469-dcfda19483e8",
   "metadata": {},
   "outputs": [],
   "source": [
    "from selenium import webdriver\n",
    "from selenium.webdriver.common.keys import Keys\n",
    "import time\n",
    "import pandas as pd\n",
    "import sys\n",
    "sys.path.insert(0, '/Users/bennysun/sports-arb/scripts')\n",
    "from draftkingsscrape import draftking\n",
    "from caesarscrape import caesar\n",
    "from fandualscrape import fandual\n",
    "from pointsbetscrape import pointsbet\n",
    "from match import match_source\n",
    "from sort import sort_data\n",
    "from statistics import stat\n",
    "import copy\n",
    "from complete_task import find"
   ]
  },
  {
   "cell_type": "code",
   "execution_count": 3,
   "id": "f45edfbb-3751-4c0d-a8a7-8a0c954fd6e4",
   "metadata": {},
   "outputs": [
    {
     "name": "stdout",
     "output_type": "stream",
     "text": [
      "AS MONACO VS ASVEL BASKET\n",
      "Spread Information\n",
      "total market opportunity is 1.0697674418604652\n",
      "Moneyline Information\n",
      "total market opportunity is 1.0618955512572534\n",
      "Points Information\n",
      "Total market opportunity is 1.0697674418604652\n",
      "\n",
      "LAS VEGAS AVIATORS AT EL PASO CHIHUAHUAS\n",
      "Spread Information\n",
      "total market opportunity is 1.036281179138322\n",
      "Moneyline Information\n",
      "total market opportunity is 1.0395843641761504\n",
      "Points Information\n",
      "Total market opportunity is 1.0454545454545454\n",
      "\n",
      "AUBURN AT STANFORD\n",
      "Spread Information\n",
      "total market opportunity is 1.0395843641761504\n",
      "Moneyline Information\n",
      "total market opportunity is 1.0347826086956524\n",
      "Points Information\n",
      "Total market opportunity is 1.0476190476190477\n",
      "\n",
      "NOTRE DAME AT OKLAHOMA\n",
      "Spread Information\n",
      "total market opportunity is 1.0697674418604652\n",
      "Moneyline Information\n",
      "total market opportunity is 1.0522875816993464\n",
      "Points Information\n",
      "Total market opportunity is 1.065217391304348\n",
      "\n",
      "AS MONACO BASKET AT LDLC ASVEL LYON-VILLEURBANNE\n",
      "Spread Information\n",
      "total market opportunity is 1.0534795256209444\n",
      "Moneyline Information\n",
      "total market opportunity is 1.0539811066126856\n",
      "Points Information\n",
      "Total market opportunity is 1.060950071641133\n",
      "\n"
     ]
    }
   ],
   "source": [
    "find()"
   ]
  },
  {
   "cell_type": "code",
   "execution_count": 8,
   "id": "75d0468f-d641-4f00-8f7a-f545d1f21207",
   "metadata": {},
   "outputs": [
    {
     "name": "stdout",
     "output_type": "stream",
     "text": [
      "AS MONACO VS ASVEL BASKET\n",
      "Spread Information\n",
      "total market opportunity is 1.0697674418604652\n",
      "Moneyline Information\n",
      "total market opportunity is 1.0618955512572534\n",
      "Points Information\n",
      "total market opportunity is 1.0697674418604652\n",
      "\n",
      "MINNESOTA LYNX AT LAS VEGAS ACES\n",
      "Spread Information\n",
      "total market opportunity is 1.0476190476190477\n",
      "Moneyline Information\n",
      "total market opportunity is 1.0253378378378377\n",
      "Points Information\n",
      "total market opportunity is 1.0383726306056404\n",
      "\n",
      "AS MONACO BASKET AT LDLC ASVEL LYON-VILLEURBANNE\n",
      "Spread Information\n",
      "total market opportunity is 1.060515172900494\n",
      "Moneyline Information\n",
      "total market opportunity is 1.0598086124401913\n",
      "Points Information\n",
      "total market opportunity is 1.060950071641133\n",
      "\n"
     ]
    }
   ],
   "source": [
    "matched = match_source(copy.deepcopy(data1),copy.deepcopy(data2),copy.deepcopy(data3),copy.deepcopy(data4))\n",
    "sort = sort_data(matched)\n",
    "stat(sort)"
   ]
  },
  {
   "cell_type": "code",
   "execution_count": null,
   "id": "e21c8c12-d74e-42c4-a1c7-daa3b5f4ecb7",
   "metadata": {},
   "outputs": [],
   "source": []
  }
 ],
 "metadata": {
  "kernelspec": {
   "display_name": "Python 3 (ipykernel)",
   "language": "python",
   "name": "python3"
  },
  "language_info": {
   "codemirror_mode": {
    "name": "ipython",
    "version": 3
   },
   "file_extension": ".py",
   "mimetype": "text/x-python",
   "name": "python",
   "nbconvert_exporter": "python",
   "pygments_lexer": "ipython3",
   "version": "3.9.7"
  }
 },
 "nbformat": 4,
 "nbformat_minor": 5
}
