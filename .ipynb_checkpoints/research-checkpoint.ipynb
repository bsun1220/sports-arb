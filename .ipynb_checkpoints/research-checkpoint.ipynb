{
 "cells": [
  {
   "cell_type": "code",
   "execution_count": 3,
   "id": "03743d72-a808-441f-94e7-17b669b7b2d1",
   "metadata": {},
   "outputs": [],
   "source": [
    "import sys\n",
    "sys.path.insert(0, '/Users/bennysun/sports-arb/scripts')"
   ]
  },
  {
   "cell_type": "code",
   "execution_count": 2,
   "id": "70b758a1-aa64-4ad3-9629-658cf6f8889d",
   "metadata": {},
   "outputs": [],
   "source": [
    "from convertodds import *"
   ]
  },
  {
   "cell_type": "code",
   "execution_count": 19,
   "id": "cddfa8be-fd42-4553-8769-69bc49d72fea",
   "metadata": {},
   "outputs": [
    {
     "name": "stdout",
     "output_type": "stream",
     "text": [
      "2.4\n",
      "1.9090909090909092\n",
      "2.5\n",
      "2.4\n"
     ]
    }
   ],
   "source": [
    "for i in [140, 140, 150, 140]:\n",
    "    print(american_to_dec(i))"
   ]
  },
  {
   "cell_type": "code",
   "execution_count": 22,
   "id": "2b6ec474-37d5-47f7-ab82-cce51a01e1f2",
   "metadata": {},
   "outputs": [
    {
     "name": "stdout",
     "output_type": "stream",
     "text": [
      "1.625\n",
      "1.5847953216374269\n",
      "1.5714285714285714\n",
      "1.6024096385542168\n"
     ]
    }
   ],
   "source": [
    "for i in [-160, -171, -175, -166]:\n",
    "    print(american_to_dec(i))"
   ]
  },
  {
   "cell_type": "code",
   "execution_count": 8,
   "id": "26f82a85-30f2-452a-b80d-829d3d90ed35",
   "metadata": {},
   "outputs": [
    {
     "name": "stdout",
     "output_type": "stream",
     "text": [
      "Requirement already satisfied: beautifulsoup4 in /Users/bennysun/opt/anaconda3/lib/python3.9/site-packages (4.10.0)\n",
      "Requirement already satisfied: soupsieve>1.2 in /Users/bennysun/opt/anaconda3/lib/python3.9/site-packages (from beautifulsoup4) (2.2.1)\n",
      "Note: you may need to restart the kernel to use updated packages.\n"
     ]
    }
   ],
   "source": [
    "pip install beautifulsoup4"
   ]
  },
  {
   "cell_type": "code",
   "execution_count": 23,
   "id": "81ae4614-9d45-4023-89a9-89bd4e3e45eb",
   "metadata": {},
   "outputs": [
    {
     "data": {
      "text/plain": [
       "1.0153846153846153"
      ]
     },
     "execution_count": 23,
     "metadata": {},
     "output_type": "execute_result"
    }
   ],
   "source": [
    "1/1.625 + 1/2.5"
   ]
  },
  {
   "cell_type": "code",
   "execution_count": 24,
   "id": "8a3d9c72-06b3-48b0-941f-8ac2609ecc8f",
   "metadata": {},
   "outputs": [],
   "source": [
    "import requests"
   ]
  },
  {
   "cell_type": "code",
   "execution_count": 25,
   "id": "150e2aed-78ed-4386-b078-cc2a7294bfbe",
   "metadata": {},
   "outputs": [],
   "source": [
    "page = requests.get(\"https://www.williamhill.com/us/nj/bet/basketball/events/all?id=5806c896-4eec-4de1-874f-afed93114b8c\")"
   ]
  },
  {
   "cell_type": "code",
   "execution_count": 27,
   "id": "c6e3d863-2b7e-4466-bf1f-cd2f4d0fa9b9",
   "metadata": {},
   "outputs": [],
   "source": [
    "from bs4 import BeautifulSoup"
   ]
  },
  {
   "cell_type": "code",
   "execution_count": 28,
   "id": "9b0498fe-87da-4010-a91d-29871d0e885b",
   "metadata": {},
   "outputs": [],
   "source": [
    "soup = BeautifulSoup(page.content, 'html.parser')"
   ]
  },
  {
   "cell_type": "code",
   "execution_count": 29,
   "id": "101f5eb6-e057-4633-af50-d0f0894aa2f0",
   "metadata": {},
   "outputs": [
    {
     "name": "stdout",
     "output_type": "stream",
     "text": [
      "<!DOCTYPE html>\n",
      "<html lang=\"en\">\n",
      " <head>\n",
      "  <title>\n",
      "   Caesars Sportsbook\n",
      "  </title>\n",
      "  <meta charset=\"utf-8\"/>\n",
      "  <meta content=\"IE=edge\" http-equiv=\"X-UA-Compatible\"/>\n",
      "  <meta content=\"user-scalable=no,initial-scale=1,maximum-scale=1,minimum-scale=1,width=device-width,height=device-height,viewport-fit=cover\" name=\"viewport\"/>\n",
      "  <link href=\"https://www.google.com\" rel=\"preconnect\"/>\n",
      "  <link href=\"https://www.williamhill.com/us/build/czr/manifest.json\" rel=\"manifest\">\n",
      "   <link href=\"https://www.williamhill.com/us/build/czr/apple-touch-icon.png\" rel=\"apple-touch-icon\" sizes=\"180x180\"/>\n",
      "   <link href=\"https://www.williamhill.com/us/build/czr/favicon-32x32.png\" rel=\"icon\" sizes=\"32x32\" type=\"image/png\"/>\n",
      "   <link href=\"https://www.williamhill.com/us/build/czr/favicon-16x16.png\" rel=\"icon\" sizes=\"16x16\" type=\"image/png\"/>\n",
      "   <link color=\"#0b1550\" href=\"https://www.williamhill.com/us/build/czr/safari-pinned-tab.svg\" rel=\"mask-icon\"/>\n",
      "   <meta content=\"#0b1550\" name=\"msapplication-TileColor\"/>\n",
      "   <meta content=\"#ffffff\" name=\"theme-color\"/>\n",
      "   <script>\n",
      "    window.dataLayer=window.dataLayer||[]\n",
      "   </script>\n",
      "   <script>\n",
      "    if(void 0===process)var process={}\n",
      "   </script>\n",
      "   <script defer=\"defer\" src=\"https://www.williamhill.com/us/build/czr/static/js/660.66838082.js\">\n",
      "   </script>\n",
      "   <script defer=\"defer\" src=\"https://www.williamhill.com/us/build/czr/static/js/main.34048b86.js\">\n",
      "   </script>\n",
      "   <link href=\"https://www.williamhill.com/us/build/czr/czr.css\" rel=\"stylesheet\"/>\n",
      "   <link href=\"https://www.williamhill.com/us/build/czr/static/css/660.890af720.css\" rel=\"stylesheet\"/>\n",
      "   <link href=\"https://www.williamhill.com/us/build/czr/static/css/main.65e950be.css\" rel=\"stylesheet\"/>\n",
      "  </link>\n",
      " </head>\n",
      " <body>\n",
      "  <noscript>\n",
      "   To use Caesars Sportsbook, please enable JavaScript\n",
      "  </noscript>\n",
      "  <div id=\"app\">\n",
      "  </div>\n",
      "  <div id=\"modal-root\">\n",
      "  </div>\n",
      "  <script>\n",
      "   window.BUILD_INFO={COMMIT_SHA:\"85554ea4\",PIPELINE_ID:\"549963016\"},window.environment=\"prod\",window.newRelicId=\"\",window.brand=\"czr\"\n",
      "  </script>\n",
      "  <script defer=\"defer\" id=\"vs-adobeAnalytics\" src=\"https://www.williamhill.com/us/build/czr/vendorsScripts/adobeAnalytics.js\">\n",
      "  </script>\n",
      "  <script defer=\"defer\" id=\"vs-googleTagManager\" src=\"https://www.williamhill.com/us/build/czr/vendorsScripts/googleTagManager.js\">\n",
      "  </script>\n",
      "  <script defer=\"defer\" id=\"vs-initUsabilla\" src=\"https://www.williamhill.com/us/build/czr/vendorsScripts/initUsabilla.js\">\n",
      "  </script>\n",
      "  <script id=\"vs-newrelic\" src=\"https://www.williamhill.com/us/build/czr/vendorsScripts/newrelic.js\">\n",
      "  </script>\n",
      " </body>\n",
      "</html>\n"
     ]
    }
   ],
   "source": [
    "print(soup.prettify())"
   ]
  },
  {
   "cell_type": "code",
   "execution_count": 30,
   "id": "d47c1b65-9103-46d2-8c1b-d9705f5391eb",
   "metadata": {},
   "outputs": [
    {
     "data": {
      "text/plain": [
       "['html',\n",
       " <html lang=\"en\"><head><title>Caesars Sportsbook</title><meta charset=\"utf-8\"/><meta content=\"IE=edge\" http-equiv=\"X-UA-Compatible\"/><meta content=\"user-scalable=no,initial-scale=1,maximum-scale=1,minimum-scale=1,width=device-width,height=device-height,viewport-fit=cover\" name=\"viewport\"/><link href=\"https://www.google.com\" rel=\"preconnect\"/><link href=\"https://www.williamhill.com/us/build/czr/manifest.json\" rel=\"manifest\"><link href=\"https://www.williamhill.com/us/build/czr/apple-touch-icon.png\" rel=\"apple-touch-icon\" sizes=\"180x180\"/><link href=\"https://www.williamhill.com/us/build/czr/favicon-32x32.png\" rel=\"icon\" sizes=\"32x32\" type=\"image/png\"/><link href=\"https://www.williamhill.com/us/build/czr/favicon-16x16.png\" rel=\"icon\" sizes=\"16x16\" type=\"image/png\"/><link color=\"#0b1550\" href=\"https://www.williamhill.com/us/build/czr/safari-pinned-tab.svg\" rel=\"mask-icon\"/><meta content=\"#0b1550\" name=\"msapplication-TileColor\"/><meta content=\"#ffffff\" name=\"theme-color\"/><script>window.dataLayer=window.dataLayer||[]</script><script>if(void 0===process)var process={}</script><script defer=\"defer\" src=\"https://www.williamhill.com/us/build/czr/static/js/660.66838082.js\"></script><script defer=\"defer\" src=\"https://www.williamhill.com/us/build/czr/static/js/main.34048b86.js\"></script><link href=\"https://www.williamhill.com/us/build/czr/czr.css\" rel=\"stylesheet\"/><link href=\"https://www.williamhill.com/us/build/czr/static/css/660.890af720.css\" rel=\"stylesheet\"/><link href=\"https://www.williamhill.com/us/build/czr/static/css/main.65e950be.css\" rel=\"stylesheet\"/></link></head><body><noscript>To use Caesars Sportsbook, please enable JavaScript</noscript><div id=\"app\"></div><div id=\"modal-root\"></div><script>window.BUILD_INFO={COMMIT_SHA:\"85554ea4\",PIPELINE_ID:\"549963016\"},window.environment=\"prod\",window.newRelicId=\"\",window.brand=\"czr\"</script><script defer=\"defer\" id=\"vs-adobeAnalytics\" src=\"https://www.williamhill.com/us/build/czr/vendorsScripts/adobeAnalytics.js\"></script><script defer=\"defer\" id=\"vs-googleTagManager\" src=\"https://www.williamhill.com/us/build/czr/vendorsScripts/googleTagManager.js\"></script><script defer=\"defer\" id=\"vs-initUsabilla\" src=\"https://www.williamhill.com/us/build/czr/vendorsScripts/initUsabilla.js\"></script><script id=\"vs-newrelic\" src=\"https://www.williamhill.com/us/build/czr/vendorsScripts/newrelic.js\"></script></body></html>]"
      ]
     },
     "execution_count": 30,
     "metadata": {},
     "output_type": "execute_result"
    }
   ],
   "source": [
    "list(soup.children)"
   ]
  },
  {
   "cell_type": "code",
   "execution_count": 32,
   "id": "c96e5eb8-c383-4983-b0bb-e8d5d62d6cf0",
   "metadata": {},
   "outputs": [
    {
     "data": {
      "text/plain": [
       "[]"
      ]
     },
     "execution_count": 32,
     "metadata": {},
     "output_type": "execute_result"
    }
   ],
   "source": [
    "soup.find_all('button')"
   ]
  },
  {
   "cell_type": "code",
   "execution_count": 18,
   "id": "4d13eec7-7212-4e26-8469-dcfda19483e8",
   "metadata": {},
   "outputs": [
    {
     "ename": "ImportError",
     "evalue": "cannot import name 'fandual' from 'fandual' (/Users/bennysun/sports-arb/scripts/fandual.py)",
     "output_type": "error",
     "traceback": [
      "\u001b[0;31m---------------------------------------------------------------------------\u001b[0m",
      "\u001b[0;31mImportError\u001b[0m                               Traceback (most recent call last)",
      "\u001b[0;32m/var/folders/7s/6wrlqwfs5y1g71y3cg83c94c0000gn/T/ipykernel_80498/650254835.py\u001b[0m in \u001b[0;36m<module>\u001b[0;34m\u001b[0m\n\u001b[1;32m      7\u001b[0m \u001b[0;32mfrom\u001b[0m \u001b[0mdraftkingsscrape\u001b[0m \u001b[0;32mimport\u001b[0m \u001b[0mdraftking\u001b[0m\u001b[0;34m\u001b[0m\u001b[0;34m\u001b[0m\u001b[0m\n\u001b[1;32m      8\u001b[0m \u001b[0;32mfrom\u001b[0m \u001b[0mcaesarscrape\u001b[0m \u001b[0;32mimport\u001b[0m \u001b[0mcaesar\u001b[0m\u001b[0;34m\u001b[0m\u001b[0;34m\u001b[0m\u001b[0m\n\u001b[0;32m----> 9\u001b[0;31m \u001b[0;32mfrom\u001b[0m \u001b[0mfandual\u001b[0m \u001b[0;32mimport\u001b[0m \u001b[0mfandual\u001b[0m\u001b[0;34m\u001b[0m\u001b[0;34m\u001b[0m\u001b[0m\n\u001b[0m",
      "\u001b[0;31mImportError\u001b[0m: cannot import name 'fandual' from 'fandual' (/Users/bennysun/sports-arb/scripts/fandual.py)"
     ]
    }
   ],
   "source": [
    "from selenium import webdriver\n",
    "from selenium.webdriver.common.keys import Keys\n",
    "import time\n",
    "import pandas as pd\n",
    "import sys\n",
    "sys.path.insert(0, '/Users/bennysun/sports-arb/scripts')\n",
    "from draftkingsscrape import draftking\n",
    "from caesarscrape import caesar\n",
    "from fandualscrape import fandual"
   ]
  },
  {
   "cell_type": "code",
   "execution_count": 3,
   "id": "47af087b-6999-4eae-b8a1-5b4e4e544e6d",
   "metadata": {},
   "outputs": [],
   "source": [
    "data = get_data()"
   ]
  },
  {
   "cell_type": "code",
   "execution_count": 17,
   "id": "9276d8fa-d40d-4a88-b360-a4033f805962",
   "metadata": {},
   "outputs": [
    {
     "data": {
      "text/plain": [
       "['LDLC ASVEL Lyon-Villeurbanne',\n",
       " 'AS Monaco Basket',\n",
       " '-3.5',\n",
       " '-106',\n",
       " '-158',\n",
       " 'O 160.5',\n",
       " '-111',\n",
       " '+3.5',\n",
       " '-120',\n",
       " '+124',\n",
       " 'U 160.5',\n",
       " '-115']"
      ]
     },
     "execution_count": 17,
     "metadata": {},
     "output_type": "execute_result"
    }
   ],
   "source": [
    "data[2]"
   ]
  },
  {
   "cell_type": "code",
   "execution_count": 3,
   "id": "0c7b09de-a635-4f5b-8e3f-834d9cd4ed56",
   "metadata": {},
   "outputs": [
    {
     "name": "stderr",
     "output_type": "stream",
     "text": [
      "/var/folders/7s/6wrlqwfs5y1g71y3cg83c94c0000gn/T/ipykernel_80402/1001201642.py:1: DeprecationWarning: executable_path has been deprecated, please pass in a Service object\n",
      "  driver = webdriver.Chrome(\"/Users/bennysun/Downloads/chromedriver\")\n"
     ]
    }
   ],
   "source": [
    "driver = webdriver.Chrome(\"/Users/bennysun/Downloads/chromedriver\")\n",
    "driver.get(\"https://sportsbook.fanduel.com/basketball?tab=upcoming\")"
   ]
  },
  {
   "cell_type": "code",
   "execution_count": 15,
   "id": "79512e47-477e-4deb-95da-f6f534b35113",
   "metadata": {},
   "outputs": [
    {
     "name": "stderr",
     "output_type": "stream",
     "text": [
      "/var/folders/7s/6wrlqwfs5y1g71y3cg83c94c0000gn/T/ipykernel_79853/2712016334.py:1: DeprecationWarning: find_elements_by_xpath is deprecated. Please use find_elements(by=By.XPATH, value=xpath) instead\n",
      "  events = driver.find_elements_by_xpath('//div[@class = \"t ab v w x iy h bk iz ai\"]')\n"
     ]
    }
   ],
   "source": [
    "events = driver.find_elements_by_xpath('//div[@class = \"t ab v w x iy h bk iz ai\"]')"
   ]
  },
  {
   "cell_type": "code",
   "execution_count": 18,
   "id": "fb0a9e53-b2e2-4225-bb30-cedd7a623c40",
   "metadata": {},
   "outputs": [
    {
     "data": {
      "text/plain": [
       "['Seattle Storm',\n",
       " 'Connecticut Sun',\n",
       " '+7.5',\n",
       " '-114',\n",
       " '+260',\n",
       " 'O 161.5',\n",
       " '-112',\n",
       " '-7.5',\n",
       " '-106',\n",
       " '-340',\n",
       " 'U 161.5',\n",
       " '-108']"
      ]
     },
     "execution_count": 18,
     "metadata": {},
     "output_type": "execute_result"
    }
   ],
   "source": [
    "events[0].text.split(\"\\n\")"
   ]
  },
  {
   "cell_type": "code",
   "execution_count": null,
   "id": "0ce5886e-000e-4e1e-ad65-627a426e3059",
   "metadata": {},
   "outputs": [],
   "source": [
    "events = "
   ]
  }
 ],
 "metadata": {
  "kernelspec": {
   "display_name": "Python 3 (ipykernel)",
   "language": "python",
   "name": "python3"
  },
  "language_info": {
   "codemirror_mode": {
    "name": "ipython",
    "version": 3
   },
   "file_extension": ".py",
   "mimetype": "text/x-python",
   "name": "python",
   "nbconvert_exporter": "python",
   "pygments_lexer": "ipython3",
   "version": "3.9.7"
  }
 },
 "nbformat": 4,
 "nbformat_minor": 5
}
