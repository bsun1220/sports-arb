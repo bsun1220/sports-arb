{
 "cells": [
  {
   "cell_type": "code",
   "execution_count": 3,
   "id": "03743d72-a808-441f-94e7-17b669b7b2d1",
   "metadata": {},
   "outputs": [],
   "source": [
    "import sys\n",
    "sys.path.insert(0, '/Users/bennysun/sports-arb/scripts')"
   ]
  },
  {
   "cell_type": "code",
   "execution_count": 2,
   "id": "70b758a1-aa64-4ad3-9629-658cf6f8889d",
   "metadata": {},
   "outputs": [],
   "source": [
    "from convertodds import *"
   ]
  },
  {
   "cell_type": "code",
   "execution_count": 19,
   "id": "cddfa8be-fd42-4553-8769-69bc49d72fea",
   "metadata": {},
   "outputs": [
    {
     "name": "stdout",
     "output_type": "stream",
     "text": [
      "2.4\n",
      "1.9090909090909092\n",
      "2.5\n",
      "2.4\n"
     ]
    }
   ],
   "source": [
    "for i in [140, 140, 150, 140]:\n",
    "    print(american_to_dec(i))"
   ]
  },
  {
   "cell_type": "code",
   "execution_count": 22,
   "id": "2b6ec474-37d5-47f7-ab82-cce51a01e1f2",
   "metadata": {},
   "outputs": [
    {
     "name": "stdout",
     "output_type": "stream",
     "text": [
      "1.625\n",
      "1.5847953216374269\n",
      "1.5714285714285714\n",
      "1.6024096385542168\n"
     ]
    }
   ],
   "source": [
    "for i in [-160, -171, -175, -166]:\n",
    "    print(american_to_dec(i))"
   ]
  },
  {
   "cell_type": "code",
   "execution_count": 8,
   "id": "26f82a85-30f2-452a-b80d-829d3d90ed35",
   "metadata": {},
   "outputs": [
    {
     "name": "stdout",
     "output_type": "stream",
     "text": [
      "Requirement already satisfied: beautifulsoup4 in /Users/bennysun/opt/anaconda3/lib/python3.9/site-packages (4.10.0)\n",
      "Requirement already satisfied: soupsieve>1.2 in /Users/bennysun/opt/anaconda3/lib/python3.9/site-packages (from beautifulsoup4) (2.2.1)\n",
      "Note: you may need to restart the kernel to use updated packages.\n"
     ]
    }
   ],
   "source": [
    "pip install beautifulsoup4"
   ]
  },
  {
   "cell_type": "code",
   "execution_count": 23,
   "id": "81ae4614-9d45-4023-89a9-89bd4e3e45eb",
   "metadata": {},
   "outputs": [
    {
     "data": {
      "text/plain": [
       "1.0153846153846153"
      ]
     },
     "execution_count": 23,
     "metadata": {},
     "output_type": "execute_result"
    }
   ],
   "source": [
    "1/1.625 + 1/2.5"
   ]
  },
  {
   "cell_type": "code",
   "execution_count": 24,
   "id": "8a3d9c72-06b3-48b0-941f-8ac2609ecc8f",
   "metadata": {},
   "outputs": [],
   "source": [
    "import requests"
   ]
  },
  {
   "cell_type": "code",
   "execution_count": 25,
   "id": "150e2aed-78ed-4386-b078-cc2a7294bfbe",
   "metadata": {},
   "outputs": [],
   "source": [
    "page = requests.get(\"https://www.williamhill.com/us/nj/bet/basketball/events/all?id=5806c896-4eec-4de1-874f-afed93114b8c\")"
   ]
  },
  {
   "cell_type": "code",
   "execution_count": 27,
   "id": "c6e3d863-2b7e-4466-bf1f-cd2f4d0fa9b9",
   "metadata": {},
   "outputs": [],
   "source": [
    "from bs4 import BeautifulSoup"
   ]
  },
  {
   "cell_type": "code",
   "execution_count": 28,
   "id": "9b0498fe-87da-4010-a91d-29871d0e885b",
   "metadata": {},
   "outputs": [],
   "source": [
    "soup = BeautifulSoup(page.content, 'html.parser')"
   ]
  },
  {
   "cell_type": "code",
   "execution_count": 32,
   "id": "c96e5eb8-c383-4983-b0bb-e8d5d62d6cf0",
   "metadata": {},
   "outputs": [
    {
     "data": {
      "text/plain": [
       "[]"
      ]
     },
     "execution_count": 32,
     "metadata": {},
     "output_type": "execute_result"
    }
   ],
   "source": [
    "soup.find_all('button')"
   ]
  },
  {
   "cell_type": "code",
   "execution_count": 1,
   "id": "4d13eec7-7212-4e26-8469-dcfda19483e8",
   "metadata": {},
   "outputs": [],
   "source": [
    "from selenium import webdriver\n",
    "from selenium.webdriver.common.keys import Keys\n",
    "import time\n",
    "import pandas as pd\n",
    "import sys\n",
    "sys.path.insert(0, '/Users/bennysun/sports-arb/scripts')\n",
    "from draftkingsscrape import draftking\n",
    "from caesarscrape import caesar\n",
    "from fandualscrape import fandual\n",
    "from pointsbetscrape import pointsbet"
   ]
  },
  {
   "cell_type": "code",
   "execution_count": 2,
   "id": "f45edfbb-3751-4c0d-a8a7-8a0c954fd6e4",
   "metadata": {},
   "outputs": [],
   "source": [
    "data1 = caesar()\n",
    "data2 = draftking()\n",
    "data3 = fandual()\n",
    "data4 = pointsbet()"
   ]
  },
  {
   "cell_type": "code",
   "execution_count": null,
   "id": "78dc2a55-e220-4512-8a50-8f1b275533a2",
   "metadata": {},
   "outputs": [],
   "source": []
  },
  {
   "cell_type": "code",
   "execution_count": 2,
   "id": "9d756ed1-405f-489b-ac09-5c9b5a2f72cf",
   "metadata": {},
   "outputs": [],
   "source": [
    "data1 = [{'match': 'FRANKLIN BULLS VS WELLINGTON SAINTS',\n",
    "  'date': '11:00PM',\n",
    "  'team1': 'Franklin Bulls',\n",
    "  'team2': 'Wellington Saints',\n",
    "  'spread': {'Franklin Bulls': {'amount': 7.0, 'odds': 1.8695652173913042},\n",
    "   'Wellington Saints': {'amount': -7.0, 'odds': 1.8695652173913042}},\n",
    "  'moneyline': {'Franklin Bulls': {'odds': 3.6},\n",
    "   'Wellington Saints': {'odds': 1.2857142857142856}},\n",
    "  'points': {'Franklin Bulls': {'amount': 'Over 173.5',\n",
    "    'odds': 1.8695652173913042},\n",
    "   'Wellington Saints': {'amount': 'Under 173.5',\n",
    "    'odds': 1.8695652173913042}}},\n",
    " {'match': 'SOUTHLAND SHARKS VS MANAWATU JETS',\n",
    "  'date': '1:00AM',\n",
    "  'team1': 'Southland Sharks',\n",
    "  'team2': 'Manawatu Jets',\n",
    "  'spread': {'Southland Sharks': {'amount': -5.5, 'odds': 1.9090909090909092},\n",
    "   'Manawatu Jets': {'amount': 5.5, 'odds': 1.8333333333333335}},\n",
    "  'moneyline': {'Southland Sharks': {'odds': 1.4},\n",
    "   'Manawatu Jets': {'odds': 2.9}},\n",
    "  'points': {'Southland Sharks': {'amount': 'Over 176.5',\n",
    "    'odds': 1.8695652173913042},\n",
    "   'Manawatu Jets': {'amount': 'Under 176.5', 'odds': 1.8695652173913042}}},\n",
    " {'match': 'REAL MADRID VS FC BARCELONA',\n",
    "  'date': '12:00PM',\n",
    "  'team1': 'Real Madrid',\n",
    "  'team2': 'FC Barcelona',\n",
    "  'spread': {'Real Madrid': {'amount': -3.0, 'odds': 1.8695652173913042},\n",
    "   'FC Barcelona': {'amount': 3.0, 'odds': 1.8695652173913042}},\n",
    "  'moneyline': {'Real Madrid': {'odds': 1.5714285714285714},\n",
    "   'FC Barcelona': {'odds': 2.35}},\n",
    "  'points': {'Real Madrid': {'amount': 'Over 155.0',\n",
    "    'odds': 1.8695652173913042},\n",
    "   'FC Barcelona': {'amount': 'Under 155.0', 'odds': 1.8695652173913042}}},\n",
    " {'match': 'OLIMPIA MILANO VS VIRTUS BOLOGNA',\n",
    "  'date': '2:30PM',\n",
    "  'team1': 'Olimpia Milano',\n",
    "  'team2': 'Virtus Bologna',\n",
    "  'spread': {'Olimpia Milano': {'amount': -4.5, 'odds': 1.8333333333333335},\n",
    "   'Virtus Bologna': {'amount': 4.5, 'odds': 1.9090909090909092}},\n",
    "  'moneyline': {'Olimpia Milano': {'odds': 1.5},\n",
    "   'Virtus Bologna': {'odds': 2.6}},\n",
    "  'points': {'Olimpia Milano': {'amount': 'Over 153.5',\n",
    "    'odds': 1.8695652173913042},\n",
    "   'Virtus Bologna': {'amount': 'Under 153.5', 'odds': 1.8695652173913042}}},\n",
    " {'match': 'FC BAYERN MUNICH VS ALBA BERLIN',\n",
    "  'date': '9:00AM',\n",
    "  'team1': 'FC Bayern Munich',\n",
    "  'team2': 'Alba Berlin',\n",
    "  'spread': {'FC Bayern Munich': {'amount': -4.5, 'odds': 1.8333333333333335},\n",
    "   'Alba Berlin': {'amount': 4.5, 'odds': 1.9090909090909092}},\n",
    "  'moneyline': {'FC Bayern Munich': {'odds': 1.5},\n",
    "   'Alba Berlin': {'odds': 2.6}},\n",
    "  'points': {'FC Bayern Munich': {'amount': 'Over 152.5',\n",
    "    'odds': 1.8695652173913042},\n",
    "   'Alba Berlin': {'amount': 'Under 152.5', 'odds': 1.8695652173913042}}}]"
   ]
  },
  {
   "cell_type": "code",
   "execution_count": 3,
   "id": "e88da7c8-1507-481b-915f-239009afcfe8",
   "metadata": {},
   "outputs": [],
   "source": [
    "data2 = [{'match': 'VIRTUS BOLOGNA AT MILANO',\n",
    "  'date': '2:30PM',\n",
    "  'team1': 'Virtus Bologna',\n",
    "  'team2': 'Milano',\n",
    "  'spread': {'Virtus Bologna': {'amount': 5.0, 'odds': 1.8695652173913042},\n",
    "   'Milano': {'amount': -5.0, 'odds': 1.8695652173913042}},\n",
    "  'moneyline': {'Virtus Bologna': {'odds': 2.7},\n",
    "   'Milano': {'odds': 1.4761904761904763}},\n",
    "  'points': {'Virtus Bologna': {'amount': 'Over 152',\n",
    "    'odds': 1.8333333333333335},\n",
    "   'Milano': {'amount': 'Under 152', 'odds': 1.9090909090909092}}}]"
   ]
  },
  {
   "cell_type": "code",
   "execution_count": 4,
   "id": "9bc955c9-1b9e-41bd-9418-0d00e3e41078",
   "metadata": {},
   "outputs": [],
   "source": [
    "data3 = [{'match': 'SPAIN WOMEN AT SLOVENIA WOMEN',\n",
    "  'team1': 'Spain Women',\n",
    "  'team2': 'Slovenia Women',\n",
    "  'spread': {'Spain Women': {'amount': -9.0, 'odds': 1.8928571428571428},\n",
    "   'Slovenia Women': {'amount': 9.0, 'odds': 1.8928571428571428}},\n",
    "  'moneyline': {'Spain Women': {'odds': 1.1818181818181819},\n",
    "   'Slovenia Women': {'odds': 4.6}},\n",
    "  'points': {'Spain Women': {'amount': 'Over 141.5',\n",
    "    'odds': 1.8928571428571428},\n",
    "   'Slovenia Women': {'amount': 'Under 141.5', 'odds': 1.8928571428571428}}},\n",
    " {'match': 'AX ARMANI EXCHANGE OLIMPIA MILAN AT VIRTUS SEGAFREDO BOLOGNA',\n",
    "  'team1': 'AX Armani Exchange Olimpia Milan',\n",
    "  'team2': 'Virtus Segafredo Bologna',\n",
    "  'spread': {'AX Armani Exchange Olimpia Milan': {'amount': -4.5,\n",
    "    'odds': 1.8695652173913042},\n",
    "   'Virtus Segafredo Bologna': {'amount': 4.5, 'odds': 1.900900900900901}},\n",
    "  'moneyline': {'AX Armani Exchange Olimpia Milan': {'odds': 1.4651162790697674},\n",
    "   'Virtus Segafredo Bologna': {'odds': 2.6399999999999997}},\n",
    "  'points': {'AX Armani Exchange Olimpia Milan': {'amount': 'Over 152.5',\n",
    "    'odds': 1.8695652173913042},\n",
    "   'Virtus Segafredo Bologna': {'amount': 'Under 152.5',\n",
    "    'odds': 1.900900900900901}}},\n",
    " {'match': 'ENVIRONZ FRANKLIN BULLS AT WELLINGTON SAINTS',\n",
    "  'team1': 'EnviroNZ Franklin Bulls',\n",
    "  'team2': 'Wellington Saints',\n",
    "  'spread': {'EnviroNZ Franklin Bulls': {'amount': 7.5,\n",
    "    'odds': 1.8695652173913042},\n",
    "   'Wellington Saints': {'amount': -7.5, 'odds': 1.900900900900901}},\n",
    "  'moneyline': {'EnviroNZ Franklin Bulls': {'odds': 3.8},\n",
    "   'Wellington Saints': {'odds': 1.2564102564102564}},\n",
    "  'points': {'EnviroNZ Franklin Bulls': {'amount': 'Over 172.5',\n",
    "    'odds': 1.900900900900901},\n",
    "   'Wellington Saints': {'amount': 'Under 172.5',\n",
    "    'odds': 1.8695652173913042}}},\n",
    " {'match': 'SIT ZEROFEES SOUTHLAND SHARKS AT PB AND SMM MANAWATU JETS',\n",
    "  'team1': 'SIT Zerofees Southland Sharks',\n",
    "  'team2': 'PB and SMM Manawatu Jets',\n",
    "  'spread': {'SIT Zerofees Southland Sharks': {'amount': -5.5,\n",
    "    'odds': 1.8695652173913042},\n",
    "   'PB and SMM Manawatu Jets': {'amount': 5.5, 'odds': 1.900900900900901}},\n",
    "  'moneyline': {'SIT Zerofees Southland Sharks': {'odds': 1.4},\n",
    "   'PB and SMM Manawatu Jets': {'odds': 2.9}},\n",
    "  'points': {'SIT Zerofees Southland Sharks': {'amount': 'Over 176.5',\n",
    "    'odds': 1.900900900900901},\n",
    "   'PB and SMM Manawatu Jets': {'amount': 'Under 176.5',\n",
    "    'odds': 1.8695652173913042}}},\n",
    " {'match': 'FC BAYERN MUNCHEN AT ALBA BERLIN',\n",
    "  'team1': 'FC Bayern Munchen',\n",
    "  'team2': 'ALBA Berlin',\n",
    "  'spread': {'FC Bayern Munchen': {'amount': -4.5, 'odds': 1.8771929824561404},\n",
    "   'ALBA Berlin': {'amount': 4.5, 'odds': 1.925925925925926}},\n",
    "  'moneyline': {'FC Bayern Munchen': {'odds': 1.4651162790697674},\n",
    "   'ALBA Berlin': {'odds': 2.76}},\n",
    "  'points': {'FC Bayern Munchen': {'amount': 'Over 152.5',\n",
    "    'odds': 1.9090909090909092},\n",
    "   'ALBA Berlin': {'amount': 'Under 152.5', 'odds': 1.9090909090909092}}},\n",
    " {'match': 'REAL MADRID AT FC BARCELONA',\n",
    "  'team1': 'Real Madrid',\n",
    "  'team2': 'FC Barcelona',\n",
    "  'spread': {'Real Madrid': {'amount': -3.5, 'odds': 1.925925925925926},\n",
    "   'FC Barcelona': {'amount': 3.5, 'odds': 1.8771929824561404}},\n",
    "  'moneyline': {'Real Madrid': {'odds': 1.625}, 'FC Barcelona': {'odds': 2.3}},\n",
    "  'points': {'Real Madrid': {'amount': 'Over 155.5',\n",
    "    'odds': 1.9615384615384617},\n",
    "   'FC Barcelona': {'amount': 'Under 155.5', 'odds': 1.8620689655172413}}},\n",
    " {'match': 'KK FMP AT CRVENA ZVEZDA MTS BELGRADE',\n",
    "  'team1': 'KK FMP',\n",
    "  'team2': 'Crvena Zvezda MTS Belgrade',\n",
    "  'spread': {'KK FMP': {'amount': 20.5, 'odds': 1.8849557522123894},\n",
    "   'Crvena Zvezda MTS Belgrade': {'amount': -20.5,\n",
    "    'odds': 1.8849557522123894}},\n",
    "  'moneyline': {'KK FMP': {'odds': 15.0},\n",
    "   'Crvena Zvezda MTS Belgrade': {'odds': 1.0166666666666666}},\n",
    "  'points': {'KK FMP': {'amount': 'Over 164.5', 'odds': 1.8849557522123894},\n",
    "   'Crvena Zvezda MTS Belgrade': {'amount': 'Under 164.5',\n",
    "    'odds': 1.8849557522123894}}},\n",
    " {'match': 'AS MONACO BASKET AT LDLC ASVEL LYON-VILLEURBANNE',\n",
    "  'team1': 'AS Monaco Basket',\n",
    "  'team2': 'LDLC ASVEL Lyon-Villeurbanne',\n",
    "  'spread': {'AS Monaco Basket': {'amount': -3.5, 'odds': 1.900900900900901},\n",
    "   'LDLC ASVEL Lyon-Villeurbanne': {'amount': 3.5,\n",
    "    'odds': 1.8695652173913042}},\n",
    "  'moneyline': {'AS Monaco Basket': {'odds': 1.5813953488372094},\n",
    "   'LDLC ASVEL Lyon-Villeurbanne': {'odds': 2.34}},\n",
    "  'points': {'AS Monaco Basket': {'amount': 'Over 158.5',\n",
    "    'odds': 1.925925925925926},\n",
    "   'LDLC ASVEL Lyon-Villeurbanne': {'amount': 'Under 158.5',\n",
    "    'odds': 1.847457627118644}}}]"
   ]
  },
  {
   "cell_type": "code",
   "execution_count": 5,
   "id": "eb66a5cf-3705-4e22-ade3-1e34cf3fd532",
   "metadata": {},
   "outputs": [],
   "source": [
    "data4 = [{'match': 'SLOVENIA WOMEN AT SPAIN WOMEN',\n",
    "  'team1': 'Slovenia Women',\n",
    "  'team2': 'Spain Women',\n",
    "  'spread': {'Slovenia Women': {'amount': 9.5, 'odds': 1.9090909090909092},\n",
    "   'Spain Women': {'amount': -9.5, 'odds': 1.9090909090909092}},\n",
    "  'moneyline': {'Slovenia Women': {'odds': 4.4},\n",
    "   'Spain Women': {'odds': 1.2105263157894737}},\n",
    "  'points': {'Slovenia Women': {'amount': 'Over 141.5',\n",
    "    'odds': 1.8695652173913042},\n",
    "   'Spain Women': {'amount': 'Under 141.5', 'odds': 1.8695652173913042}}},\n",
    " {'match': 'VIRTUS SEGAFREDO BOLOGNA AT AX ARMANI EXCHANGE OLIMPIA MILAN',\n",
    "  'team1': 'Virtus Segafredo Bologna',\n",
    "  'team2': 'AX Armani Exchange Olimpia Milan',\n",
    "  'spread': {'Virtus Segafredo Bologna': {'amount': 4.5,\n",
    "    'odds': 1.9090909090909092},\n",
    "   'AX Armani Exchange Olimpia Milan': {'amount': -4.5,\n",
    "    'odds': 1.8333333333333335}},\n",
    "  'moneyline': {'Virtus Segafredo Bologna': {'odds': 2.6},\n",
    "   'AX Armani Exchange Olimpia Milan': {'odds': 1.4651162790697674}},\n",
    "  'points': {'Virtus Segafredo Bologna': {'amount': 'Over 152.5',\n",
    "    'odds': 1.8333333333333335},\n",
    "   'AX Armani Exchange Olimpia Milan': {'amount': 'Under 152.5',\n",
    "    'odds': 1.9090909090909092}}},\n",
    " {'match': 'WELLINGTON SAINTS AT ENVIRONZ FRANKLIN BULLS',\n",
    "  'team1': 'Wellington Saints',\n",
    "  'team2': 'EnviroNZ Franklin Bulls',\n",
    "  'spread': {'Wellington Saints': {'amount': -7.5, 'odds': 1.9523809523809523},\n",
    "   'EnviroNZ Franklin Bulls': {'amount': 7.5, 'odds': 1.8}},\n",
    "  'moneyline': {'Wellington Saints': {'odds': 1.2857142857142856},\n",
    "   'EnviroNZ Franklin Bulls': {'odds': 3.5}},\n",
    "  'points': {'Wellington Saints': {'amount': 'Over 172.5',\n",
    "    'odds': 1.8695652173913042},\n",
    "   'EnviroNZ Franklin Bulls': {'amount': 'Under 172.5',\n",
    "    'odds': 1.8695652173913042}}},\n",
    " {'match': 'PB AND SMM MANAWATU JETS AT SIT ZEROFEES SOUTHLAND SHARKS',\n",
    "  'team1': 'PB and SMM Manawatu Jets',\n",
    "  'team2': 'SIT Zerofees Southland Sharks',\n",
    "  'spread': {'PB and SMM Manawatu Jets': {'amount': 5.5,\n",
    "    'odds': 1.8695652173913042},\n",
    "   'SIT Zerofees Southland Sharks': {'amount': -5.5,\n",
    "    'odds': 1.8695652173913042}},\n",
    "  'moneyline': {'PB and SMM Manawatu Jets': {'odds': 2.85},\n",
    "   'SIT Zerofees Southland Sharks': {'odds': 1.4}},\n",
    "  'points': {'PB and SMM Manawatu Jets': {'amount': 'Over 176.5',\n",
    "    'odds': 1.8695652173913042},\n",
    "   'SIT Zerofees Southland Sharks': {'amount': 'Under 176.5',\n",
    "    'odds': 1.8695652173913042}}},\n",
    " {'match': 'ALBA BERLIN AT FC BAYERN MÜNCHEN',\n",
    "  'team1': 'ALBA Berlin',\n",
    "  'team2': 'FC Bayern München',\n",
    "  'spread': {'ALBA Berlin': {'amount': 4.5, 'odds': 1.9090909090909092},\n",
    "   'FC Bayern München': {'amount': -4.5, 'odds': 1.8333333333333335}},\n",
    "  'moneyline': {'ALBA Berlin': {'odds': 2.6},\n",
    "   'FC Bayern München': {'odds': 1.4651162790697674}},\n",
    "  'points': {'ALBA Berlin': {'amount': 'Over 152.5',\n",
    "    'odds': 1.8695652173913042},\n",
    "   'FC Bayern München': {'amount': 'Under 152.5',\n",
    "    'odds': 1.8695652173913042}}},\n",
    " {'match': 'FC BARCELONA AT REAL MADRID',\n",
    "  'team1': 'FC Barcelona',\n",
    "  'team2': 'Real Madrid',\n",
    "  'spread': {'FC Barcelona': {'amount': 2.5, 'odds': 1.9090909090909092},\n",
    "   'Real Madrid': {'amount': -2.5, 'odds': 1.8333333333333335}},\n",
    "  'moneyline': {'FC Barcelona': {'odds': 2.2199999999999998},\n",
    "   'Real Madrid': {'odds': 1.625}},\n",
    "  'points': {'FC Barcelona': {'amount': 'Over 155.5',\n",
    "    'odds': 1.9090909090909092},\n",
    "   'Real Madrid': {'amount': 'Under 155.5', 'odds': 1.8333333333333335}}}]"
   ]
  },
  {
   "cell_type": "code",
   "execution_count": 6,
   "id": "4688da7f-a2ca-4cfe-9863-e5ebfa6f965c",
   "metadata": {},
   "outputs": [
    {
     "name": "stderr",
     "output_type": "stream",
     "text": [
      "/Users/bennysun/opt/anaconda3/lib/python3.9/site-packages/fuzzywuzzy/fuzz.py:11: UserWarning: Using slow pure-python SequenceMatcher. Install python-Levenshtein to remove this warning\n",
      "  warnings.warn('Using slow pure-python SequenceMatcher. Install python-Levenshtein to remove this warning')\n"
     ]
    }
   ],
   "source": [
    "from compiledata import compiled"
   ]
  },
  {
   "cell_type": "code",
   "execution_count": 7,
   "id": "e1e6bd11-2017-4cc5-b5e0-6671f9b5fca0",
   "metadata": {},
   "outputs": [
    {
     "name": "stdout",
     "output_type": "stream",
     "text": [
      "[[{'match': 'FRANKLIN BULLS VS WELLINGTON SAINTS', 'date': '11:00PM', 'team1': 'Franklin Bulls', 'team2': 'Wellington Saints', 'spread': {'Franklin Bulls': {'amount': 7.0, 'odds': 1.8695652173913042}, 'Wellington Saints': {'amount': -7.0, 'odds': 1.8695652173913042}}, 'moneyline': {'Franklin Bulls': {'odds': 3.6}, 'Wellington Saints': {'odds': 1.2857142857142856}}, 'points': {'Franklin Bulls': {'amount': 'Over 173.5', 'odds': 1.8695652173913042}, 'Wellington Saints': {'amount': 'Under 173.5', 'odds': 1.8695652173913042}}}, {'match': 'SOUTHLAND SHARKS VS MANAWATU JETS', 'date': '1:00AM', 'team1': 'Southland Sharks', 'team2': 'Manawatu Jets', 'spread': {'Southland Sharks': {'amount': -5.5, 'odds': 1.9090909090909092}, 'Manawatu Jets': {'amount': 5.5, 'odds': 1.8333333333333335}}, 'moneyline': {'Southland Sharks': {'odds': 1.4}, 'Manawatu Jets': {'odds': 2.9}}, 'points': {'Southland Sharks': {'amount': 'Over 176.5', 'odds': 1.8695652173913042}, 'Manawatu Jets': {'amount': 'Under 176.5', 'odds': 1.8695652173913042}}}, {'match': 'REAL MADRID VS FC BARCELONA', 'date': '12:00PM', 'team1': 'Real Madrid', 'team2': 'FC Barcelona', 'spread': {'Real Madrid': {'amount': -3.0, 'odds': 1.8695652173913042}, 'FC Barcelona': {'amount': 3.0, 'odds': 1.8695652173913042}}, 'moneyline': {'Real Madrid': {'odds': 1.5714285714285714}, 'FC Barcelona': {'odds': 2.35}}, 'points': {'Real Madrid': {'amount': 'Over 155.0', 'odds': 1.8695652173913042}, 'FC Barcelona': {'amount': 'Under 155.0', 'odds': 1.8695652173913042}}}, {'match': 'OLIMPIA MILANO VS VIRTUS BOLOGNA', 'date': '2:30PM', 'team1': 'Olimpia Milano', 'team2': 'Virtus Bologna', 'spread': {'Olimpia Milano': {'amount': -4.5, 'odds': 1.8333333333333335}, 'Virtus Bologna': {'amount': 4.5, 'odds': 1.9090909090909092}}, 'moneyline': {'Olimpia Milano': {'odds': 1.5}, 'Virtus Bologna': {'odds': 2.6}}, 'points': {'Olimpia Milano': {'amount': 'Over 153.5', 'odds': 1.8695652173913042}, 'Virtus Bologna': {'amount': 'Under 153.5', 'odds': 1.8695652173913042}}}, {'match': 'FC BAYERN MUNICH VS ALBA BERLIN', 'date': '9:00AM', 'team1': 'FC Bayern Munich', 'team2': 'Alba Berlin', 'spread': {'FC Bayern Munich': {'amount': -4.5, 'odds': 1.8333333333333335}, 'Alba Berlin': {'amount': 4.5, 'odds': 1.9090909090909092}}, 'moneyline': {'FC Bayern Munich': {'odds': 1.5}, 'Alba Berlin': {'odds': 2.6}}, 'points': {'FC Bayern Munich': {'amount': 'Over 152.5', 'odds': 1.8695652173913042}, 'Alba Berlin': {'amount': 'Under 152.5', 'odds': 1.8695652173913042}}}], [{'match': 'VIRTUS BOLOGNA AT MILANO', 'date': '2:30PM', 'team1': 'Virtus Bologna', 'team2': 'Milano', 'spread': {'Virtus Bologna': {'amount': 5.0, 'odds': 1.8695652173913042}, 'Milano': {'amount': -5.0, 'odds': 1.8695652173913042}}, 'moneyline': {'Virtus Bologna': {'odds': 2.7}, 'Milano': {'odds': 1.4761904761904763}}, 'points': {'Virtus Bologna': {'amount': 'Over 152', 'odds': 1.8333333333333335}, 'Milano': {'amount': 'Under 152', 'odds': 1.9090909090909092}}}], [{'match': 'SPAIN WOMEN AT SLOVENIA WOMEN', 'team1': 'Spain Women', 'team2': 'Slovenia Women', 'spread': {'Spain Women': {'amount': -9.0, 'odds': 1.8928571428571428}, 'Slovenia Women': {'amount': 9.0, 'odds': 1.8928571428571428}}, 'moneyline': {'Spain Women': {'odds': 1.1818181818181819}, 'Slovenia Women': {'odds': 4.6}}, 'points': {'Spain Women': {'amount': 'Over 141.5', 'odds': 1.8928571428571428}, 'Slovenia Women': {'amount': 'Under 141.5', 'odds': 1.8928571428571428}}}, {'match': 'AX ARMANI EXCHANGE OLIMPIA MILAN AT VIRTUS SEGAFREDO BOLOGNA', 'team1': 'AX Armani Exchange Olimpia Milan', 'team2': 'Virtus Segafredo Bologna', 'spread': {'AX Armani Exchange Olimpia Milan': {'amount': -4.5, 'odds': 1.8695652173913042}, 'Virtus Segafredo Bologna': {'amount': 4.5, 'odds': 1.900900900900901}}, 'moneyline': {'AX Armani Exchange Olimpia Milan': {'odds': 1.4651162790697674}, 'Virtus Segafredo Bologna': {'odds': 2.6399999999999997}}, 'points': {'AX Armani Exchange Olimpia Milan': {'amount': 'Over 152.5', 'odds': 1.8695652173913042}, 'Virtus Segafredo Bologna': {'amount': 'Under 152.5', 'odds': 1.900900900900901}}}, {'match': 'ENVIRONZ FRANKLIN BULLS AT WELLINGTON SAINTS', 'team1': 'EnviroNZ Franklin Bulls', 'team2': 'Wellington Saints', 'spread': {'EnviroNZ Franklin Bulls': {'amount': 7.5, 'odds': 1.8695652173913042}, 'Wellington Saints': {'amount': -7.5, 'odds': 1.900900900900901}}, 'moneyline': {'EnviroNZ Franklin Bulls': {'odds': 3.8}, 'Wellington Saints': {'odds': 1.2564102564102564}}, 'points': {'EnviroNZ Franklin Bulls': {'amount': 'Over 172.5', 'odds': 1.900900900900901}, 'Wellington Saints': {'amount': 'Under 172.5', 'odds': 1.8695652173913042}}}, {'match': 'SIT ZEROFEES SOUTHLAND SHARKS AT PB AND SMM MANAWATU JETS', 'team1': 'SIT Zerofees Southland Sharks', 'team2': 'PB and SMM Manawatu Jets', 'spread': {'SIT Zerofees Southland Sharks': {'amount': -5.5, 'odds': 1.8695652173913042}, 'PB and SMM Manawatu Jets': {'amount': 5.5, 'odds': 1.900900900900901}}, 'moneyline': {'SIT Zerofees Southland Sharks': {'odds': 1.4}, 'PB and SMM Manawatu Jets': {'odds': 2.9}}, 'points': {'SIT Zerofees Southland Sharks': {'amount': 'Over 176.5', 'odds': 1.900900900900901}, 'PB and SMM Manawatu Jets': {'amount': 'Under 176.5', 'odds': 1.8695652173913042}}}, {'match': 'FC BAYERN MUNCHEN AT ALBA BERLIN', 'team1': 'FC Bayern Munchen', 'team2': 'ALBA Berlin', 'spread': {'FC Bayern Munchen': {'amount': -4.5, 'odds': 1.8771929824561404}, 'ALBA Berlin': {'amount': 4.5, 'odds': 1.925925925925926}}, 'moneyline': {'FC Bayern Munchen': {'odds': 1.4651162790697674}, 'ALBA Berlin': {'odds': 2.76}}, 'points': {'FC Bayern Munchen': {'amount': 'Over 152.5', 'odds': 1.9090909090909092}, 'ALBA Berlin': {'amount': 'Under 152.5', 'odds': 1.9090909090909092}}}, {'match': 'REAL MADRID AT FC BARCELONA', 'team1': 'Real Madrid', 'team2': 'FC Barcelona', 'spread': {'Real Madrid': {'amount': -3.5, 'odds': 1.925925925925926}, 'FC Barcelona': {'amount': 3.5, 'odds': 1.8771929824561404}}, 'moneyline': {'Real Madrid': {'odds': 1.625}, 'FC Barcelona': {'odds': 2.3}}, 'points': {'Real Madrid': {'amount': 'Over 155.5', 'odds': 1.9615384615384617}, 'FC Barcelona': {'amount': 'Under 155.5', 'odds': 1.8620689655172413}}}, {'match': 'KK FMP AT CRVENA ZVEZDA MTS BELGRADE', 'team1': 'KK FMP', 'team2': 'Crvena Zvezda MTS Belgrade', 'spread': {'KK FMP': {'amount': 20.5, 'odds': 1.8849557522123894}, 'Crvena Zvezda MTS Belgrade': {'amount': -20.5, 'odds': 1.8849557522123894}}, 'moneyline': {'KK FMP': {'odds': 15.0}, 'Crvena Zvezda MTS Belgrade': {'odds': 1.0166666666666666}}, 'points': {'KK FMP': {'amount': 'Over 164.5', 'odds': 1.8849557522123894}, 'Crvena Zvezda MTS Belgrade': {'amount': 'Under 164.5', 'odds': 1.8849557522123894}}}, {'match': 'AS MONACO BASKET AT LDLC ASVEL LYON-VILLEURBANNE', 'team1': 'AS Monaco Basket', 'team2': 'LDLC ASVEL Lyon-Villeurbanne', 'spread': {'AS Monaco Basket': {'amount': -3.5, 'odds': 1.900900900900901}, 'LDLC ASVEL Lyon-Villeurbanne': {'amount': 3.5, 'odds': 1.8695652173913042}}, 'moneyline': {'AS Monaco Basket': {'odds': 1.5813953488372094}, 'LDLC ASVEL Lyon-Villeurbanne': {'odds': 2.34}}, 'points': {'AS Monaco Basket': {'amount': 'Over 158.5', 'odds': 1.925925925925926}, 'LDLC ASVEL Lyon-Villeurbanne': {'amount': 'Under 158.5', 'odds': 1.847457627118644}}}], [{'match': 'SLOVENIA WOMEN AT SPAIN WOMEN', 'team1': 'Slovenia Women', 'team2': 'Spain Women', 'spread': {'Slovenia Women': {'amount': 9.5, 'odds': 1.9090909090909092}, 'Spain Women': {'amount': -9.5, 'odds': 1.9090909090909092}}, 'moneyline': {'Slovenia Women': {'odds': 4.4}, 'Spain Women': {'odds': 1.2105263157894737}}, 'points': {'Slovenia Women': {'amount': 'Over 141.5', 'odds': 1.8695652173913042}, 'Spain Women': {'amount': 'Under 141.5', 'odds': 1.8695652173913042}}}, {'match': 'VIRTUS SEGAFREDO BOLOGNA AT AX ARMANI EXCHANGE OLIMPIA MILAN', 'team1': 'Virtus Segafredo Bologna', 'team2': 'AX Armani Exchange Olimpia Milan', 'spread': {'Virtus Segafredo Bologna': {'amount': 4.5, 'odds': 1.9090909090909092}, 'AX Armani Exchange Olimpia Milan': {'amount': -4.5, 'odds': 1.8333333333333335}}, 'moneyline': {'Virtus Segafredo Bologna': {'odds': 2.6}, 'AX Armani Exchange Olimpia Milan': {'odds': 1.4651162790697674}}, 'points': {'Virtus Segafredo Bologna': {'amount': 'Over 152.5', 'odds': 1.8333333333333335}, 'AX Armani Exchange Olimpia Milan': {'amount': 'Under 152.5', 'odds': 1.9090909090909092}}}, {'match': 'WELLINGTON SAINTS AT ENVIRONZ FRANKLIN BULLS', 'team1': 'Wellington Saints', 'team2': 'EnviroNZ Franklin Bulls', 'spread': {'Wellington Saints': {'amount': -7.5, 'odds': 1.9523809523809523}, 'EnviroNZ Franklin Bulls': {'amount': 7.5, 'odds': 1.8}}, 'moneyline': {'Wellington Saints': {'odds': 1.2857142857142856}, 'EnviroNZ Franklin Bulls': {'odds': 3.5}}, 'points': {'Wellington Saints': {'amount': 'Over 172.5', 'odds': 1.8695652173913042}, 'EnviroNZ Franklin Bulls': {'amount': 'Under 172.5', 'odds': 1.8695652173913042}}}, {'match': 'PB AND SMM MANAWATU JETS AT SIT ZEROFEES SOUTHLAND SHARKS', 'team1': 'PB and SMM Manawatu Jets', 'team2': 'SIT Zerofees Southland Sharks', 'spread': {'PB and SMM Manawatu Jets': {'amount': 5.5, 'odds': 1.8695652173913042}, 'SIT Zerofees Southland Sharks': {'amount': -5.5, 'odds': 1.8695652173913042}}, 'moneyline': {'PB and SMM Manawatu Jets': {'odds': 2.85}, 'SIT Zerofees Southland Sharks': {'odds': 1.4}}, 'points': {'PB and SMM Manawatu Jets': {'amount': 'Over 176.5', 'odds': 1.8695652173913042}, 'SIT Zerofees Southland Sharks': {'amount': 'Under 176.5', 'odds': 1.8695652173913042}}}, {'match': 'ALBA BERLIN AT FC BAYERN MÜNCHEN', 'team1': 'ALBA Berlin', 'team2': 'FC Bayern München', 'spread': {'ALBA Berlin': {'amount': 4.5, 'odds': 1.9090909090909092}, 'FC Bayern München': {'amount': -4.5, 'odds': 1.8333333333333335}}, 'moneyline': {'ALBA Berlin': {'odds': 2.6}, 'FC Bayern München': {'odds': 1.4651162790697674}}, 'points': {'ALBA Berlin': {'amount': 'Over 152.5', 'odds': 1.8695652173913042}, 'FC Bayern München': {'amount': 'Under 152.5', 'odds': 1.8695652173913042}}}, {'match': 'FC BARCELONA AT REAL MADRID', 'team1': 'FC Barcelona', 'team2': 'Real Madrid', 'spread': {'FC Barcelona': {'amount': 2.5, 'odds': 1.9090909090909092}, 'Real Madrid': {'amount': -2.5, 'odds': 1.8333333333333335}}, 'moneyline': {'FC Barcelona': {'odds': 2.2199999999999998}, 'Real Madrid': {'odds': 1.625}}, 'points': {'FC Barcelona': {'amount': 'Over 155.5', 'odds': 1.9090909090909092}, 'Real Madrid': {'amount': 'Under 155.5', 'odds': 1.8333333333333335}}}]]\n",
      "0\n",
      "FC BAYERN MUNICH VS ALBA BERLIN\n",
      "OLIMPIA MILANO VS VIRTUS BOLOGNA\n",
      "REAL MADRID VS FC BARCELONA\n",
      "SOUTHLAND SHARKS VS MANAWATU JETS\n",
      "FRANKLIN BULLS VS WELLINGTON SAINTS\n"
     ]
    }
   ],
   "source": [
    "data = compiled(data1, data2, data3, data4)"
   ]
  },
  {
   "cell_type": "code",
   "execution_count": 8,
   "id": "705b3d4b-abe6-4806-9d69-342342a213a3",
   "metadata": {},
   "outputs": [],
   "source": [
    "l1 = [1]\n",
    "l2 = [2]\n",
    "l3 = [3]\n",
    "l4 = [4]"
   ]
  },
  {
   "cell_type": "code",
   "execution_count": 11,
   "id": "568f79ce-8c3b-49b9-aa9b-8510c1b8d317",
   "metadata": {},
   "outputs": [],
   "source": [
    "big = [l1,l2,l3,l4]"
   ]
  },
  {
   "cell_type": "code",
   "execution_count": 14,
   "id": "2609a299-e901-451b-bb73-84c52c5b764e",
   "metadata": {},
   "outputs": [
    {
     "name": "stdout",
     "output_type": "stream",
     "text": [
      "0\n",
      "1\n",
      "2\n",
      "3\n"
     ]
    }
   ],
   "source": [
    "for i in range(len(big)):\n",
    "    print(i)"
   ]
  },
  {
   "cell_type": "code",
   "execution_count": 17,
   "id": "165311e2-d088-4ef7-bb69-aadedcad7aea",
   "metadata": {},
   "outputs": [],
   "source": [
    "import fuzzywuzzy\n",
    "from fuzzywuzzy import fuzz"
   ]
  },
  {
   "cell_type": "code",
   "execution_count": 27,
   "id": "b057db22-d7a2-46d2-835d-bbe4e6b5e780",
   "metadata": {},
   "outputs": [],
   "source": [
    "from compiledata import compiled"
   ]
  },
  {
   "cell_type": "code",
   "execution_count": 4,
   "id": "e97cb40f-f050-4f0d-9d99-1ad30cb527b5",
   "metadata": {},
   "outputs": [],
   "source": [
    "data = get_data()"
   ]
  },
  {
   "cell_type": "code",
   "execution_count": 15,
   "id": "4cd90560-3161-4e25-bb3d-848083f7304a",
   "metadata": {},
   "outputs": [],
   "source": [
    "def compiled(caesar, draftkings, fandual, pointsbet):\n",
    "    \n",
    "    data = [caesar, draftkings, fandual, pointsbet]\n",
    "    print(len(data))\n",
    "    ref = [\"caesar\", \"draftkings\", \"fandual\", \"pointsbet\"]\n",
    "    shared = []\n",
    "    for i in range(len(data)):\n",
    "        for event1index in range(len(data[i]) - 1, -1, -1):\n",
    "            event1 = data[i][event1index]\n",
    "            print(event1[\"match\"])"
   ]
  },
  {
   "cell_type": "code",
   "execution_count": 33,
   "id": "16a67b35-0f3c-4468-be98-d3564d2aed01",
   "metadata": {},
   "outputs": [
    {
     "name": "stdout",
     "output_type": "stream",
     "text": [
      "5\n",
      "4\n",
      "3\n",
      "2\n",
      "1\n",
      "0\n",
      "-1\n",
      "-2\n"
     ]
    }
   ],
   "source": [
    "for i in range(5, -3, -1):\n",
    "    print(i)"
   ]
  },
  {
   "cell_type": "code",
   "execution_count": null,
   "id": "c74b7811-03cd-406a-9d0a-44d1e674350c",
   "metadata": {},
   "outputs": [],
   "source": []
  },
  {
   "cell_type": "code",
   "execution_count": 4,
   "id": "0c7b09de-a635-4f5b-8e3f-834d9cd4ed56",
   "metadata": {},
   "outputs": [
    {
     "name": "stderr",
     "output_type": "stream",
     "text": [
      "/var/folders/7s/6wrlqwfs5y1g71y3cg83c94c0000gn/T/ipykernel_82169/3797978472.py:1: DeprecationWarning: executable_path has been deprecated, please pass in a Service object\n",
      "  driver = webdriver.Chrome(\"/Users/bennysun/Downloads/chromedriver\")\n"
     ]
    }
   ],
   "source": [
    "driver = webdriver.Chrome(\"/Users/bennysun/Downloads/chromedriver\")\n",
    "driver.get(\"https://nj.pointsbet.com/sports/basketball\")"
   ]
  },
  {
   "cell_type": "code",
   "execution_count": 13,
   "id": "79512e47-477e-4deb-95da-f6f534b35113",
   "metadata": {},
   "outputs": [
    {
     "name": "stderr",
     "output_type": "stream",
     "text": [
      "/var/folders/7s/6wrlqwfs5y1g71y3cg83c94c0000gn/T/ipykernel_81530/3629592340.py:1: DeprecationWarning: find_elements_by_xpath is deprecated. Please use find_elements(by=By.XPATH, value=xpath) instead\n",
      "  events = driver.find_elements_by_xpath('//div[@class = \"fdz3fpy f1yn18fe f93i66z\"]')\n"
     ]
    }
   ],
   "source": [
    "events = driver.find_elements_by_xpath('//div[@class = \"fdz3fpy f1yn18fe f93i66z\"]')"
   ]
  },
  {
   "cell_type": "code",
   "execution_count": null,
   "id": "0ce5886e-000e-4e1e-ad65-627a426e3059",
   "metadata": {},
   "outputs": [],
   "source": [
    "events = "
   ]
  }
 ],
 "metadata": {
  "kernelspec": {
   "display_name": "Python 3 (ipykernel)",
   "language": "python",
   "name": "python3"
  },
  "language_info": {
   "codemirror_mode": {
    "name": "ipython",
    "version": 3
   },
   "file_extension": ".py",
   "mimetype": "text/x-python",
   "name": "python",
   "nbconvert_exporter": "python",
   "pygments_lexer": "ipython3",
   "version": "3.9.7"
  }
 },
 "nbformat": 4,
 "nbformat_minor": 5
}
