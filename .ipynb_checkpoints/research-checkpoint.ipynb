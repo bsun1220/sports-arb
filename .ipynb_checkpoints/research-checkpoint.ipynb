{
 "cells": [
  {
   "cell_type": "code",
   "execution_count": 4,
   "id": "03743d72-a808-441f-94e7-17b669b7b2d1",
   "metadata": {},
   "outputs": [],
   "source": [
    "import sys\n",
    "sys.path.insert(0, '/Users/bennysun/sports-arb/scripts')"
   ]
  },
  {
   "cell_type": "code",
   "execution_count": 5,
   "id": "14f53720-c9be-49e8-84ab-65ecabef3c1f",
   "metadata": {},
   "outputs": [
    {
     "ename": "SyntaxError",
     "evalue": "invalid syntax (convertodds.py, line 7)",
     "output_type": "error",
     "traceback": [
      "Traceback \u001b[0;36m(most recent call last)\u001b[0m:\n",
      "  File \u001b[1;32m\"/Users/bennysun/opt/anaconda3/lib/python3.9/site-packages/IPython/core/interactiveshell.py\"\u001b[0m, line \u001b[1;32m3444\u001b[0m, in \u001b[1;35mrun_code\u001b[0m\n    exec(code_obj, self.user_global_ns, self.user_ns)\n",
      "\u001b[0;36m  File \u001b[0;32m\"/var/folders/7s/6wrlqwfs5y1g71y3cg83c94c0000gn/T/ipykernel_67941/2882007280.py\"\u001b[0;36m, line \u001b[0;32m1\u001b[0;36m, in \u001b[0;35m<module>\u001b[0;36m\u001b[0m\n\u001b[0;31m    from convertodds import *\u001b[0m\n",
      "\u001b[0;36m  File \u001b[0;32m\"/Users/bennysun/sports-arb/scripts/convertodds.py\"\u001b[0;36m, line \u001b[0;32m7\u001b[0m\n\u001b[0;31m    elif bet < 0\u001b[0m\n\u001b[0m                ^\u001b[0m\n\u001b[0;31mSyntaxError\u001b[0m\u001b[0;31m:\u001b[0m invalid syntax\n"
     ]
    }
   ],
   "source": [
    "from convertodds import *"
   ]
  },
  {
   "cell_type": "code",
   "execution_count": null,
   "id": "4ae1f131-3e4f-4636-a89a-5aebc3d0958f",
   "metadata": {},
   "outputs": [],
   "source": []
  }
 ],
 "metadata": {
  "kernelspec": {
   "display_name": "Python 3 (ipykernel)",
   "language": "python",
   "name": "python3"
  },
  "language_info": {
   "codemirror_mode": {
    "name": "ipython",
    "version": 3
   },
   "file_extension": ".py",
   "mimetype": "text/x-python",
   "name": "python",
   "nbconvert_exporter": "python",
   "pygments_lexer": "ipython3",
   "version": "3.9.7"
  }
 },
 "nbformat": 4,
 "nbformat_minor": 5
}
