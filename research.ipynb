{
 "cells": [
  {
   "cell_type": "code",
   "execution_count": 2,
   "id": "4d13eec7-7212-4e26-8469-dcfda19483e8",
   "metadata": {},
   "outputs": [],
   "source": [
    "from selenium import webdriver\n",
    "from selenium.webdriver.common.keys import Keys\n",
    "import time\n",
    "import pandas as pd\n",
    "import sys\n",
    "sys.path.insert(0, '/Users/bennysun/sports-arb/scripts')\n",
    "from draftkingsscrape import draftking\n",
    "from caesarscrape import caesar\n",
    "from fandualscrape import fandual\n",
    "from pointsbetscrape import pointsbet\n",
    "from match import match_source\n",
    "from sort import sort_data\n",
    "from statistics import stat\n",
    "import copy\n",
    "from complete_task import find"
   ]
  },
  {
   "cell_type": "code",
   "execution_count": 25,
   "id": "f45edfbb-3751-4c0d-a8a7-8a0c954fd6e4",
   "metadata": {},
   "outputs": [
    {
     "name": "stdout",
     "output_type": "stream",
     "text": [
      "AS MONACO VS ASVEL BASKET\n",
      "Spread Information\n",
      "total market opportunity is 1.0697674418604652\n",
      "Moneyline Information\n",
      "total market opportunity is 1.0618955512572534\n",
      "Points Information\n",
      "Total market opportunity is 1.0697674418604652\n",
      "\n",
      "LARISA VS PROMITHEAS PATRAS\n",
      "Spread Information\n",
      "total market opportunity is 1.0697674418604652\n",
      "Moneyline Information\n",
      "total market opportunity is 1.051282051282051\n",
      "Points Information\n",
      "Total market opportunity is 1.0697674418604652\n",
      "\n",
      "AS MONACO BASKET AT LDLC ASVEL LYON-VILLEURBANNE\n",
      "Spread Information\n",
      "total market opportunity is 1.060950071641133\n",
      "Moneyline Information\n",
      "total market opportunity is 1.058842759071592\n",
      "Points Information\n",
      "Total market opportunity is 1.0586932447397563\n",
      "\n"
     ]
    }
   ],
   "source": [
    "find()"
   ]
  },
  {
   "cell_type": "code",
   "execution_count": 26,
   "id": "75d0468f-d641-4f00-8f7a-f545d1f21207",
   "metadata": {},
   "outputs": [
    {
     "name": "stderr",
     "output_type": "stream",
     "text": [
      "/var/folders/7s/6wrlqwfs5y1g71y3cg83c94c0000gn/T/ipykernel_252/416137954.py:1: DeprecationWarning: executable_path has been deprecated, please pass in a Service object\n",
      "  webdriver.Chrome(\"./scripts/chromedriver\")\n"
     ]
    },
    {
     "data": {
      "text/plain": [
       "<selenium.webdriver.chrome.webdriver.WebDriver (session=\"e612b1de4eafb87acfb32f9485a52c29\")>"
      ]
     },
     "execution_count": 26,
     "metadata": {},
     "output_type": "execute_result"
    }
   ],
   "source": [
    "webdriver.Chrome(\"./scripts/chromedriver\")"
   ]
  },
  {
   "cell_type": "code",
   "execution_count": null,
   "id": "bc7966d4-5f18-4364-a45f-3ef433f7973c",
   "metadata": {},
   "outputs": [],
   "source": []
  }
 ],
 "metadata": {
  "kernelspec": {
   "display_name": "Python 3 (ipykernel)",
   "language": "python",
   "name": "python3"
  },
  "language_info": {
   "codemirror_mode": {
    "name": "ipython",
    "version": 3
   },
   "file_extension": ".py",
   "mimetype": "text/x-python",
   "name": "python",
   "nbconvert_exporter": "python",
   "pygments_lexer": "ipython3",
   "version": "3.9.7"
  }
 },
 "nbformat": 4,
 "nbformat_minor": 5
}
