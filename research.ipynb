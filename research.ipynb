{
 "cells": [
  {
   "cell_type": "code",
   "execution_count": 3,
   "id": "03743d72-a808-441f-94e7-17b669b7b2d1",
   "metadata": {},
   "outputs": [],
   "source": [
    "import sys\n",
    "sys.path.insert(0, '/Users/bennysun/sports-arb/scripts')"
   ]
  },
  {
   "cell_type": "code",
   "execution_count": 2,
   "id": "70b758a1-aa64-4ad3-9629-658cf6f8889d",
   "metadata": {},
   "outputs": [],
   "source": [
    "from convertodds import *"
   ]
  },
  {
   "cell_type": "code",
   "execution_count": 19,
   "id": "cddfa8be-fd42-4553-8769-69bc49d72fea",
   "metadata": {},
   "outputs": [
    {
     "name": "stdout",
     "output_type": "stream",
     "text": [
      "2.4\n",
      "1.9090909090909092\n",
      "2.5\n",
      "2.4\n"
     ]
    }
   ],
   "source": [
    "for i in [140, 140, 150, 140]:\n",
    "    print(american_to_dec(i))"
   ]
  },
  {
   "cell_type": "code",
   "execution_count": 22,
   "id": "2b6ec474-37d5-47f7-ab82-cce51a01e1f2",
   "metadata": {},
   "outputs": [
    {
     "name": "stdout",
     "output_type": "stream",
     "text": [
      "1.625\n",
      "1.5847953216374269\n",
      "1.5714285714285714\n",
      "1.6024096385542168\n"
     ]
    }
   ],
   "source": [
    "for i in [-160, -171, -175, -166]:\n",
    "    print(american_to_dec(i))"
   ]
  },
  {
   "cell_type": "code",
   "execution_count": 8,
   "id": "26f82a85-30f2-452a-b80d-829d3d90ed35",
   "metadata": {},
   "outputs": [
    {
     "name": "stdout",
     "output_type": "stream",
     "text": [
      "Requirement already satisfied: beautifulsoup4 in /Users/bennysun/opt/anaconda3/lib/python3.9/site-packages (4.10.0)\n",
      "Requirement already satisfied: soupsieve>1.2 in /Users/bennysun/opt/anaconda3/lib/python3.9/site-packages (from beautifulsoup4) (2.2.1)\n",
      "Note: you may need to restart the kernel to use updated packages.\n"
     ]
    }
   ],
   "source": [
    "pip install beautifulsoup4"
   ]
  },
  {
   "cell_type": "code",
   "execution_count": 23,
   "id": "81ae4614-9d45-4023-89a9-89bd4e3e45eb",
   "metadata": {},
   "outputs": [
    {
     "data": {
      "text/plain": [
       "1.0153846153846153"
      ]
     },
     "execution_count": 23,
     "metadata": {},
     "output_type": "execute_result"
    }
   ],
   "source": [
    "1/1.625 + 1/2.5"
   ]
  },
  {
   "cell_type": "code",
   "execution_count": 24,
   "id": "8a3d9c72-06b3-48b0-941f-8ac2609ecc8f",
   "metadata": {},
   "outputs": [],
   "source": [
    "import requests"
   ]
  },
  {
   "cell_type": "code",
   "execution_count": 25,
   "id": "150e2aed-78ed-4386-b078-cc2a7294bfbe",
   "metadata": {},
   "outputs": [],
   "source": [
    "page = requests.get(\"https://www.williamhill.com/us/nj/bet/basketball/events/all?id=5806c896-4eec-4de1-874f-afed93114b8c\")"
   ]
  },
  {
   "cell_type": "code",
   "execution_count": 27,
   "id": "c6e3d863-2b7e-4466-bf1f-cd2f4d0fa9b9",
   "metadata": {},
   "outputs": [],
   "source": [
    "from bs4 import BeautifulSoup"
   ]
  },
  {
   "cell_type": "code",
   "execution_count": 28,
   "id": "9b0498fe-87da-4010-a91d-29871d0e885b",
   "metadata": {},
   "outputs": [],
   "source": [
    "soup = BeautifulSoup(page.content, 'html.parser')"
   ]
  },
  {
   "cell_type": "code",
   "execution_count": 29,
   "id": "101f5eb6-e057-4633-af50-d0f0894aa2f0",
   "metadata": {},
   "outputs": [
    {
     "name": "stdout",
     "output_type": "stream",
     "text": [
      "<!DOCTYPE html>\n",
      "<html lang=\"en\">\n",
      " <head>\n",
      "  <title>\n",
      "   Caesars Sportsbook\n",
      "  </title>\n",
      "  <meta charset=\"utf-8\"/>\n",
      "  <meta content=\"IE=edge\" http-equiv=\"X-UA-Compatible\"/>\n",
      "  <meta content=\"user-scalable=no,initial-scale=1,maximum-scale=1,minimum-scale=1,width=device-width,height=device-height,viewport-fit=cover\" name=\"viewport\"/>\n",
      "  <link href=\"https://www.google.com\" rel=\"preconnect\"/>\n",
      "  <link href=\"https://www.williamhill.com/us/build/czr/manifest.json\" rel=\"manifest\">\n",
      "   <link href=\"https://www.williamhill.com/us/build/czr/apple-touch-icon.png\" rel=\"apple-touch-icon\" sizes=\"180x180\"/>\n",
      "   <link href=\"https://www.williamhill.com/us/build/czr/favicon-32x32.png\" rel=\"icon\" sizes=\"32x32\" type=\"image/png\"/>\n",
      "   <link href=\"https://www.williamhill.com/us/build/czr/favicon-16x16.png\" rel=\"icon\" sizes=\"16x16\" type=\"image/png\"/>\n",
      "   <link color=\"#0b1550\" href=\"https://www.williamhill.com/us/build/czr/safari-pinned-tab.svg\" rel=\"mask-icon\"/>\n",
      "   <meta content=\"#0b1550\" name=\"msapplication-TileColor\"/>\n",
      "   <meta content=\"#ffffff\" name=\"theme-color\"/>\n",
      "   <script>\n",
      "    window.dataLayer=window.dataLayer||[]\n",
      "   </script>\n",
      "   <script>\n",
      "    if(void 0===process)var process={}\n",
      "   </script>\n",
      "   <script defer=\"defer\" src=\"https://www.williamhill.com/us/build/czr/static/js/660.66838082.js\">\n",
      "   </script>\n",
      "   <script defer=\"defer\" src=\"https://www.williamhill.com/us/build/czr/static/js/main.34048b86.js\">\n",
      "   </script>\n",
      "   <link href=\"https://www.williamhill.com/us/build/czr/czr.css\" rel=\"stylesheet\"/>\n",
      "   <link href=\"https://www.williamhill.com/us/build/czr/static/css/660.890af720.css\" rel=\"stylesheet\"/>\n",
      "   <link href=\"https://www.williamhill.com/us/build/czr/static/css/main.65e950be.css\" rel=\"stylesheet\"/>\n",
      "  </link>\n",
      " </head>\n",
      " <body>\n",
      "  <noscript>\n",
      "   To use Caesars Sportsbook, please enable JavaScript\n",
      "  </noscript>\n",
      "  <div id=\"app\">\n",
      "  </div>\n",
      "  <div id=\"modal-root\">\n",
      "  </div>\n",
      "  <script>\n",
      "   window.BUILD_INFO={COMMIT_SHA:\"85554ea4\",PIPELINE_ID:\"549963016\"},window.environment=\"prod\",window.newRelicId=\"\",window.brand=\"czr\"\n",
      "  </script>\n",
      "  <script defer=\"defer\" id=\"vs-adobeAnalytics\" src=\"https://www.williamhill.com/us/build/czr/vendorsScripts/adobeAnalytics.js\">\n",
      "  </script>\n",
      "  <script defer=\"defer\" id=\"vs-googleTagManager\" src=\"https://www.williamhill.com/us/build/czr/vendorsScripts/googleTagManager.js\">\n",
      "  </script>\n",
      "  <script defer=\"defer\" id=\"vs-initUsabilla\" src=\"https://www.williamhill.com/us/build/czr/vendorsScripts/initUsabilla.js\">\n",
      "  </script>\n",
      "  <script id=\"vs-newrelic\" src=\"https://www.williamhill.com/us/build/czr/vendorsScripts/newrelic.js\">\n",
      "  </script>\n",
      " </body>\n",
      "</html>\n"
     ]
    }
   ],
   "source": [
    "print(soup.prettify())"
   ]
  },
  {
   "cell_type": "code",
   "execution_count": 30,
   "id": "d47c1b65-9103-46d2-8c1b-d9705f5391eb",
   "metadata": {},
   "outputs": [
    {
     "data": {
      "text/plain": [
       "['html',\n",
       " <html lang=\"en\"><head><title>Caesars Sportsbook</title><meta charset=\"utf-8\"/><meta content=\"IE=edge\" http-equiv=\"X-UA-Compatible\"/><meta content=\"user-scalable=no,initial-scale=1,maximum-scale=1,minimum-scale=1,width=device-width,height=device-height,viewport-fit=cover\" name=\"viewport\"/><link href=\"https://www.google.com\" rel=\"preconnect\"/><link href=\"https://www.williamhill.com/us/build/czr/manifest.json\" rel=\"manifest\"><link href=\"https://www.williamhill.com/us/build/czr/apple-touch-icon.png\" rel=\"apple-touch-icon\" sizes=\"180x180\"/><link href=\"https://www.williamhill.com/us/build/czr/favicon-32x32.png\" rel=\"icon\" sizes=\"32x32\" type=\"image/png\"/><link href=\"https://www.williamhill.com/us/build/czr/favicon-16x16.png\" rel=\"icon\" sizes=\"16x16\" type=\"image/png\"/><link color=\"#0b1550\" href=\"https://www.williamhill.com/us/build/czr/safari-pinned-tab.svg\" rel=\"mask-icon\"/><meta content=\"#0b1550\" name=\"msapplication-TileColor\"/><meta content=\"#ffffff\" name=\"theme-color\"/><script>window.dataLayer=window.dataLayer||[]</script><script>if(void 0===process)var process={}</script><script defer=\"defer\" src=\"https://www.williamhill.com/us/build/czr/static/js/660.66838082.js\"></script><script defer=\"defer\" src=\"https://www.williamhill.com/us/build/czr/static/js/main.34048b86.js\"></script><link href=\"https://www.williamhill.com/us/build/czr/czr.css\" rel=\"stylesheet\"/><link href=\"https://www.williamhill.com/us/build/czr/static/css/660.890af720.css\" rel=\"stylesheet\"/><link href=\"https://www.williamhill.com/us/build/czr/static/css/main.65e950be.css\" rel=\"stylesheet\"/></link></head><body><noscript>To use Caesars Sportsbook, please enable JavaScript</noscript><div id=\"app\"></div><div id=\"modal-root\"></div><script>window.BUILD_INFO={COMMIT_SHA:\"85554ea4\",PIPELINE_ID:\"549963016\"},window.environment=\"prod\",window.newRelicId=\"\",window.brand=\"czr\"</script><script defer=\"defer\" id=\"vs-adobeAnalytics\" src=\"https://www.williamhill.com/us/build/czr/vendorsScripts/adobeAnalytics.js\"></script><script defer=\"defer\" id=\"vs-googleTagManager\" src=\"https://www.williamhill.com/us/build/czr/vendorsScripts/googleTagManager.js\"></script><script defer=\"defer\" id=\"vs-initUsabilla\" src=\"https://www.williamhill.com/us/build/czr/vendorsScripts/initUsabilla.js\"></script><script id=\"vs-newrelic\" src=\"https://www.williamhill.com/us/build/czr/vendorsScripts/newrelic.js\"></script></body></html>]"
      ]
     },
     "execution_count": 30,
     "metadata": {},
     "output_type": "execute_result"
    }
   ],
   "source": [
    "list(soup.children)"
   ]
  },
  {
   "cell_type": "code",
   "execution_count": 32,
   "id": "c96e5eb8-c383-4983-b0bb-e8d5d62d6cf0",
   "metadata": {},
   "outputs": [
    {
     "data": {
      "text/plain": [
       "[]"
      ]
     },
     "execution_count": 32,
     "metadata": {},
     "output_type": "execute_result"
    }
   ],
   "source": [
    "soup.find_all('button')"
   ]
  },
  {
   "cell_type": "code",
   "execution_count": 1,
   "id": "4d13eec7-7212-4e26-8469-dcfda19483e8",
   "metadata": {},
   "outputs": [],
   "source": [
    "from selenium import webdriver\n",
    "from selenium.webdriver.common.keys import Keys\n",
    "import time\n",
    "import pandas as pd\n",
    "import sys\n",
    "sys.path.insert(0, '/Users/bennysun/sports-arb/scripts')\n",
    "from draftkingsscrape import draftking\n",
    "from caesarscrape import caesar\n",
    "from fandualscrape import fandual\n",
    "from pointsbetscrape import pointsbet"
   ]
  },
  {
   "cell_type": "code",
   "execution_count": 7,
   "id": "f45edfbb-3751-4c0d-a8a7-8a0c954fd6e4",
   "metadata": {},
   "outputs": [
    {
     "data": {
      "text/plain": [
       "[{'match': 'SEATTLE STORM AT CONNECTICUT SUN',\n",
       "  'date': '7:00PM',\n",
       "  'team1': 'Seattle Storm',\n",
       "  'team2': 'Connecticut Sun',\n",
       "  'spread': {'Seattle Storm': {'amount': 7.5, 'odds': 1.9090909090909092},\n",
       "   'Connecticut Sun': {'amount': -7.5, 'odds': 1.9090909090909092}},\n",
       "  'moneyline': {'Seattle Storm': {'odds': 3.6},\n",
       "   'Connecticut Sun': {'odds': 1.303030303030303}},\n",
       "  'points': {'Seattle Storm': {'amount': 'Over 162.5',\n",
       "    'odds': 1.9090909090909092},\n",
       "   'Connecticut Sun': {'amount': 'Under 162.5', 'odds': 1.9090909090909092}}},\n",
       " {'match': 'ATLANTA DREAM AT CHICAGO SKY',\n",
       "  'date': '8:00PM',\n",
       "  'team1': 'Atlanta Dream',\n",
       "  'team2': 'Chicago Sky',\n",
       "  'spread': {'Atlanta Dream': {'amount': 7.5, 'odds': 1.9090909090909092},\n",
       "   'Chicago Sky': {'amount': -7.5, 'odds': 1.9090909090909092}},\n",
       "  'moneyline': {'Atlanta Dream': {'odds': 4.2},\n",
       "   'Chicago Sky': {'odds': 1.2380952380952381}},\n",
       "  'points': {'Atlanta Dream': {'amount': 'Over 158.5',\n",
       "    'odds': 1.9090909090909092},\n",
       "   'Chicago Sky': {'amount': 'Under 158.5', 'odds': 1.9090909090909092}}},\n",
       " {'match': 'PHOENIX MERCURY AT DALLAS WINGS',\n",
       "  'date': '8:00PM',\n",
       "  'team1': 'Phoenix Mercury',\n",
       "  'team2': 'Dallas Wings',\n",
       "  'spread': {'Phoenix Mercury': {'amount': 5.0, 'odds': 1.9090909090909092},\n",
       "   'Dallas Wings': {'amount': -5.0, 'odds': 1.9090909090909092}},\n",
       "  'moneyline': {'Phoenix Mercury': {'odds': 2.75},\n",
       "   'Dallas Wings': {'odds': 1.4761904761904763}},\n",
       "  'points': {'Phoenix Mercury': {'amount': 'Over 169.5',\n",
       "    'odds': 1.9090909090909092},\n",
       "   'Dallas Wings': {'amount': 'Under 169.5', 'odds': 1.9090909090909092}}},\n",
       " {'match': 'CANTERBURY RAMS VS MANAWATU JETS',\n",
       "  'date': '1:30AM',\n",
       "  'team1': 'Canterbury Rams',\n",
       "  'team2': 'Manawatu Jets',\n",
       "  'spread': {'Canterbury Rams': {'amount': -6.5, 'odds': 1.9090909090909092},\n",
       "   'Manawatu Jets': {'amount': 6.5, 'odds': 1.8333333333333335}},\n",
       "  'moneyline': {'Canterbury Rams': {'odds': 1.3703703703703702},\n",
       "   'Manawatu Jets': {'odds': 3.05}},\n",
       "  'points': {'Canterbury Rams': {'amount': 'Over 167.0',\n",
       "    'odds': 1.8695652173913042},\n",
       "   'Manawatu Jets': {'amount': 'Under 167.0', 'odds': 1.8695652173913042}}},\n",
       " {'match': 'BAY HAWKS VS TARANAKI MOUNTAINAIRS',\n",
       "  'date': '3:30AM',\n",
       "  'team1': 'Bay Hawks',\n",
       "  'team2': 'Taranaki Mountainairs',\n",
       "  'spread': {'Bay Hawks': {'amount': -10.5, 'odds': 1.9090909090909092},\n",
       "   'Taranaki Mountainairs': {'amount': 10.5, 'odds': 1.8333333333333335}},\n",
       "  'moneyline': {'Bay Hawks': {'odds': 1.1666666666666667},\n",
       "   'Taranaki Mountainairs': {'odds': 5.0}},\n",
       "  'points': {'Bay Hawks': {'amount': 'Over 175.5', 'odds': 1.8695652173913042},\n",
       "   'Taranaki Mountainairs': {'amount': 'Under 175.5',\n",
       "    'odds': 1.8695652173913042}}},\n",
       " {'match': 'PROMITHEAS PATRAS VS LARISA',\n",
       "  'date': '10:00AM',\n",
       "  'team1': 'Promitheas Patras',\n",
       "  'team2': 'Larisa',\n",
       "  'spread': {'Promitheas Patras': {'amount': -2.5, 'odds': 1.8695652173913042},\n",
       "   'Larisa': {'amount': 2.5, 'odds': 1.8695652173913042}},\n",
       "  'moneyline': {'Promitheas Patras': {'odds': 1.6666666666666665},\n",
       "   'Larisa': {'odds': 2.2}},\n",
       "  'points': {'Promitheas Patras': {'amount': 'Over 163.5',\n",
       "    'odds': 1.8695652173913042},\n",
       "   'Larisa': {'amount': 'Under 163.5', 'odds': 1.8695652173913042}}},\n",
       " {'match': 'OLIMPIA MILANO VS VIRTUS BOLOGNA',\n",
       "  'date': '2:30PM',\n",
       "  'team1': 'Olimpia Milano',\n",
       "  'team2': 'Virtus Bologna',\n",
       "  'spread': {'Olimpia Milano': {'amount': -4.5, 'odds': 1.8695652173913042},\n",
       "   'Virtus Bologna': {'amount': 4.5, 'odds': 1.8695652173913042}},\n",
       "  'moneyline': {'Olimpia Milano': {'odds': 1.5555555555555556},\n",
       "   'Virtus Bologna': {'odds': 2.4}},\n",
       "  'points': {'Olimpia Milano': {'amount': 'Over 152.5',\n",
       "    'odds': 1.8695652173913042},\n",
       "   'Virtus Bologna': {'amount': 'Under 152.5', 'odds': 1.8695652173913042}}}]"
      ]
     },
     "execution_count": 7,
     "metadata": {},
     "output_type": "execute_result"
    }
   ],
   "source": [
    "caesar()"
   ]
  },
  {
   "cell_type": "code",
   "execution_count": 4,
   "id": "e97cb40f-f050-4f0d-9d99-1ad30cb527b5",
   "metadata": {},
   "outputs": [],
   "source": [
    "data = get_data()"
   ]
  },
  {
   "cell_type": "code",
   "execution_count": 11,
   "id": "4cd90560-3161-4e25-bb3d-848083f7304a",
   "metadata": {},
   "outputs": [],
   "source": []
  },
  {
   "cell_type": "code",
   "execution_count": 12,
   "id": "00519acd-8195-40d3-a844-676417e87991",
   "metadata": {},
   "outputs": [
    {
     "data": {
      "text/plain": [
       "[{'match': 'SEATTLE STORM AT CONNECTICUT SUN',\n",
       "  'team1': 'Seattle Storm',\n",
       "  'team2': 'Connecticut Sun',\n",
       "  'spread': {'Seattle Storm': {'amount': 7.5, 'odds': 1.9090909090909092},\n",
       "   'Connecticut Sun': {'amount': -7.5, 'odds': 1.9090909090909092}},\n",
       "  'moneyline': {'Seattle Storm': {'odds': 3.7},\n",
       "   'Connecticut Sun': {'odds': 1.289855072463768}},\n",
       "  'points': {'Seattle Storm': {'amount': 'Over 162.5',\n",
       "    'odds': 1.9090909090909092},\n",
       "   'Connecticut Sun': {'amount': 'Under 162.5', 'odds': 1.9090909090909092}}},\n",
       " {'match': 'ATLANTA DREAM AT CHICAGO SKY',\n",
       "  'team1': 'Atlanta Dream',\n",
       "  'team2': 'Chicago Sky',\n",
       "  'spread': {'Atlanta Dream': {'amount': 7.5, 'odds': 1.9090909090909092},\n",
       "   'Chicago Sky': {'amount': -7.5, 'odds': 1.9090909090909092}},\n",
       "  'moneyline': {'Atlanta Dream': {'odds': 4.0},\n",
       "   'Chicago Sky': {'odds': 1.2557544757033248}},\n",
       "  'points': {'Atlanta Dream': {'amount': 'Over 158.5',\n",
       "    'odds': 1.9090909090909092},\n",
       "   'Chicago Sky': {'amount': 'Under 158.5', 'odds': 1.9090909090909092}}},\n",
       " {'match': 'PHOENIX MERCURY AT DALLAS WINGS',\n",
       "  'team1': 'Phoenix Mercury',\n",
       "  'team2': 'Dallas Wings',\n",
       "  'spread': {'Phoenix Mercury': {'amount': 5.0, 'odds': 1.9090909090909092},\n",
       "   'Dallas Wings': {'amount': -5.0, 'odds': 1.9090909090909092}},\n",
       "  'moneyline': {'Phoenix Mercury': {'odds': 2.7},\n",
       "   'Dallas Wings': {'odds': 1.4854368932038835}},\n",
       "  'points': {'Phoenix Mercury': {'amount': 'Over 169',\n",
       "    'odds': 1.9090909090909092},\n",
       "   'Dallas Wings': {'amount': 'Under 169', 'odds': 1.9090909090909092}}},\n",
       " {'match': 'PB AND SMM MANAWATU JETS AT THE WHEELER MOTOR CANTERBURY RAMS',\n",
       "  'team1': 'PB and SMM Manawatu Jets',\n",
       "  'team2': 'The Wheeler Motor Canterbury Rams',\n",
       "  'spread': {'PB and SMM Manawatu Jets': {'amount': 6.5,\n",
       "    'odds': 1.8695652173913042},\n",
       "   'The Wheeler Motor Canterbury Rams': {'amount': -6.5,\n",
       "    'odds': 1.8695652173913042}},\n",
       "  'moneyline': {'PB and SMM Manawatu Jets': {'odds': 3.15},\n",
       "   'The Wheeler Motor Canterbury Rams': {'odds': 1.3333333333333333}},\n",
       "  'points': {'PB and SMM Manawatu Jets': {'amount': 'Over 167.5',\n",
       "    'odds': 1.8695652173913042},\n",
       "   'The Wheeler Motor Canterbury Rams': {'amount': 'Under 167.5',\n",
       "    'odds': 1.8695652173913042}}},\n",
       " {'match': 'STEELFORMERS TARANAKI MOUNTAINAIRS AT TAYLOR HAWKS',\n",
       "  'team1': 'Steelformers Taranaki Mountainairs',\n",
       "  'team2': 'Taylor Hawks',\n",
       "  'spread': {'Steelformers Taranaki Mountainairs': {'amount': 10.5,\n",
       "    'odds': 1.8333333333333335},\n",
       "   'Taylor Hawks': {'amount': -10.5, 'odds': 1.9090909090909092}},\n",
       "  'moneyline': {'Steelformers Taranaki Mountainairs': {'odds': 4.8},\n",
       "   'Taylor Hawks': {'odds': 1.1666666666666667}},\n",
       "  'points': {'Steelformers Taranaki Mountainairs': {'amount': 'Over 175.5',\n",
       "    'odds': 1.8695652173913042},\n",
       "   'Taylor Hawks': {'amount': 'Under 175.5', 'odds': 1.8695652173913042}}},\n",
       " {'match': 'VIRTUS SEGAFREDO BOLOGNA AT AX ARMANI EXCHANGE OLIMPIA MILAN',\n",
       "  'team1': 'Virtus Segafredo Bologna',\n",
       "  'team2': 'AX Armani Exchange Olimpia Milan',\n",
       "  'spread': {'Virtus Segafredo Bologna': {'amount': 4.5,\n",
       "    'odds': 1.8333333333333335},\n",
       "   'AX Armani Exchange Olimpia Milan': {'amount': -4.5,\n",
       "    'odds': 1.9090909090909092}},\n",
       "  'moneyline': {'Virtus Segafredo Bologna': {'odds': 2.5},\n",
       "   'AX Armani Exchange Olimpia Milan': {'odds': 1.5}},\n",
       "  'points': {'Virtus Segafredo Bologna': {'amount': 'Over 152.5',\n",
       "    'odds': 1.8333333333333335},\n",
       "   'AX Armani Exchange Olimpia Milan': {'amount': 'Under 152.5',\n",
       "    'odds': 1.9090909090909092}}},\n",
       " {'match': 'WELLINGTON SAINTS AT ENVIRONZ FRANKLIN BULLS',\n",
       "  'team1': 'Wellington Saints',\n",
       "  'team2': 'EnviroNZ Franklin Bulls',\n",
       "  'spread': {'Wellington Saints': {'amount': -7.5, 'odds': 1.8333333333333335},\n",
       "   'EnviroNZ Franklin Bulls': {'amount': 7.5, 'odds': 1.9090909090909092}},\n",
       "  'moneyline': {'Wellington Saints': {'odds': 1.2105263157894737},\n",
       "   'EnviroNZ Franklin Bulls': {'odds': 4.2}},\n",
       "  'points': {'Wellington Saints': {'amount': 'Over 173.5',\n",
       "    'odds': 1.8695652173913042},\n",
       "   'EnviroNZ Franklin Bulls': {'amount': 'Under 173.5',\n",
       "    'odds': 1.8695652173913042}}},\n",
       " {'match': 'PB AND SMM MANAWATU JETS AT SIT ZEROFEES SOUTHLAND SHARKS',\n",
       "  'team1': 'PB and SMM Manawatu Jets',\n",
       "  'team2': 'SIT Zerofees Southland Sharks',\n",
       "  'spread': {'PB and SMM Manawatu Jets': {'amount': 5.5,\n",
       "    'odds': 1.8695652173913042},\n",
       "   'SIT Zerofees Southland Sharks': {'amount': -5.5,\n",
       "    'odds': 1.8695652173913042}},\n",
       "  'moneyline': {'PB and SMM Manawatu Jets': {'odds': 3.0},\n",
       "   'SIT Zerofees Southland Sharks': {'odds': 1.3636363636363638}},\n",
       "  'points': {'PB and SMM Manawatu Jets': {'amount': 'Over 176.5',\n",
       "    'odds': 1.8695652173913042},\n",
       "   'SIT Zerofees Southland Sharks': {'amount': 'Under 176.5',\n",
       "    'odds': 1.8695652173913042}}}]"
      ]
     },
     "execution_count": 12,
     "metadata": {},
     "output_type": "execute_result"
    }
   ],
   "source": [
    "transform_data(data)"
   ]
  },
  {
   "cell_type": "code",
   "execution_count": 4,
   "id": "0c7b09de-a635-4f5b-8e3f-834d9cd4ed56",
   "metadata": {},
   "outputs": [
    {
     "name": "stderr",
     "output_type": "stream",
     "text": [
      "/var/folders/7s/6wrlqwfs5y1g71y3cg83c94c0000gn/T/ipykernel_82169/3797978472.py:1: DeprecationWarning: executable_path has been deprecated, please pass in a Service object\n",
      "  driver = webdriver.Chrome(\"/Users/bennysun/Downloads/chromedriver\")\n"
     ]
    }
   ],
   "source": [
    "driver = webdriver.Chrome(\"/Users/bennysun/Downloads/chromedriver\")\n",
    "driver.get(\"https://nj.pointsbet.com/sports/basketball\")"
   ]
  },
  {
   "cell_type": "code",
   "execution_count": 13,
   "id": "79512e47-477e-4deb-95da-f6f534b35113",
   "metadata": {},
   "outputs": [
    {
     "name": "stderr",
     "output_type": "stream",
     "text": [
      "/var/folders/7s/6wrlqwfs5y1g71y3cg83c94c0000gn/T/ipykernel_81530/3629592340.py:1: DeprecationWarning: find_elements_by_xpath is deprecated. Please use find_elements(by=By.XPATH, value=xpath) instead\n",
      "  events = driver.find_elements_by_xpath('//div[@class = \"fdz3fpy f1yn18fe f93i66z\"]')\n"
     ]
    }
   ],
   "source": [
    "events = driver.find_elements_by_xpath('//div[@class = \"fdz3fpy f1yn18fe f93i66z\"]')"
   ]
  },
  {
   "cell_type": "code",
   "execution_count": 21,
   "id": "fb0a9e53-b2e2-4225-bb30-cedd7a623c40",
   "metadata": {},
   "outputs": [
    {
     "data": {
      "text/plain": [
       "['SPREAD',\n",
       " 'TOTAL',\n",
       " 'MONEYLINE',\n",
       " 'PB and SMM Manawatu Jets',\n",
       " '+6.5',\n",
       " '-120',\n",
       " 'Ov 167.5',\n",
       " '-115',\n",
       " '+210',\n",
       " 'The Wheeler Motor Canterbury Rams',\n",
       " '-6.5',\n",
       " '-110',\n",
       " 'Un 167.5',\n",
       " '-115',\n",
       " '-290']"
      ]
     },
     "execution_count": 21,
     "metadata": {},
     "output_type": "execute_result"
    }
   ],
   "source": [
    "events[3].text.split(\"\\n\")"
   ]
  },
  {
   "cell_type": "code",
   "execution_count": null,
   "id": "0ce5886e-000e-4e1e-ad65-627a426e3059",
   "metadata": {},
   "outputs": [],
   "source": [
    "events = "
   ]
  }
 ],
 "metadata": {
  "kernelspec": {
   "display_name": "Python 3 (ipykernel)",
   "language": "python",
   "name": "python3"
  },
  "language_info": {
   "codemirror_mode": {
    "name": "ipython",
    "version": 3
   },
   "file_extension": ".py",
   "mimetype": "text/x-python",
   "name": "python",
   "nbconvert_exporter": "python",
   "pygments_lexer": "ipython3",
   "version": "3.9.7"
  }
 },
 "nbformat": 4,
 "nbformat_minor": 5
}
