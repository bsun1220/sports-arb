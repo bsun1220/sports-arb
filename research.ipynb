{
 "cells": [
  {
   "cell_type": "code",
   "execution_count": 2,
   "id": "4d13eec7-7212-4e26-8469-dcfda19483e8",
   "metadata": {},
   "outputs": [],
   "source": [
    "from selenium import webdriver\n",
    "from selenium.webdriver.common.keys import Keys\n",
    "import time\n",
    "import pandas as pd\n",
    "import sys\n",
    "sys.path.insert(0, '/Users/bennysun/sports-arb/scripts')\n",
    "from draftkingsscrape import draftking\n",
    "from caesarscrape import caesar\n",
    "from fandualscrape import fandual\n",
    "from pointsbetscrape import pointsbet\n",
    "from match import match_source\n",
    "from sort import sort_data\n",
    "from statistics import stat\n",
    "import copy\n",
    "from complete_task import find"
   ]
  },
  {
   "cell_type": "code",
   "execution_count": 3,
   "id": "f45edfbb-3751-4c0d-a8a7-8a0c954fd6e4",
   "metadata": {},
   "outputs": [
    {
     "name": "stdout",
     "output_type": "stream",
     "text": [
      "AS MONACO VS ASVEL BASKET\n",
      "Spread Information\n",
      "total market opportunity is 1.0697674418604652\n",
      "Moneyline Information\n",
      "total market opportunity is 1.0618955512572534\n",
      "Points Information\n",
      "Total market opportunity is 1.0697674418604652\n",
      "\n",
      "MIN LYNX AT LV ACES\n",
      "Spread Information\n",
      "total market opportunity is 1.0610328638497653\n",
      "Moneyline Information\n",
      "total market opportunity is 1.0610328638497653\n",
      "Points Information\n",
      "Total market opportunity is 1.060017652250662\n",
      "\n",
      "AS MONACO BASKET AT LDLC ASVEL LYON-VILLEURBANNE\n",
      "Spread Information\n",
      "total market opportunity is 1.060515172900494\n",
      "Moneyline Information\n",
      "total market opportunity is 1.0598086124401913\n",
      "Points Information\n",
      "Total market opportunity is 1.060950071641133\n",
      "\n"
     ]
    }
   ],
   "source": [
    "find()"
   ]
  },
  {
   "cell_type": "code",
   "execution_count": 8,
   "id": "75d0468f-d641-4f00-8f7a-f545d1f21207",
   "metadata": {},
   "outputs": [
    {
     "name": "stdout",
     "output_type": "stream",
     "text": [
      "AS MONACO VS ASVEL BASKET\n",
      "Spread Information\n",
      "total market opportunity is 1.0697674418604652\n",
      "Moneyline Information\n",
      "total market opportunity is 1.0618955512572534\n",
      "Points Information\n",
      "total market opportunity is 1.0697674418604652\n",
      "\n",
      "MINNESOTA LYNX AT LAS VEGAS ACES\n",
      "Spread Information\n",
      "total market opportunity is 1.0476190476190477\n",
      "Moneyline Information\n",
      "total market opportunity is 1.0253378378378377\n",
      "Points Information\n",
      "total market opportunity is 1.0383726306056404\n",
      "\n",
      "AS MONACO BASKET AT LDLC ASVEL LYON-VILLEURBANNE\n",
      "Spread Information\n",
      "total market opportunity is 1.060515172900494\n",
      "Moneyline Information\n",
      "total market opportunity is 1.0598086124401913\n",
      "Points Information\n",
      "total market opportunity is 1.060950071641133\n",
      "\n"
     ]
    }
   ],
   "source": [
    "matched = match_source(copy.deepcopy(data1),copy.deepcopy(data2),copy.deepcopy(data3),copy.deepcopy(data4))\n",
    "sort = sort_data(matched)\n",
    "stat(sort)"
   ]
  },
  {
   "cell_type": "code",
   "execution_count": 9,
   "id": "a7a43460-033f-4c02-92a7-2b47f6b9e05f",
   "metadata": {},
   "outputs": [
    {
     "data": {
      "text/plain": [
       "[{'match': 'AS MONACO VS ASVEL BASKET',\n",
       "  'team1': 'AS Monaco',\n",
       "  'team2': 'ASVEL Basket',\n",
       "  'spread': {'AS Monaco': {'amount': -3.0,\n",
       "    'odds': 1.8695652173913042,\n",
       "    'src': 'caesar'},\n",
       "   'ASVEL Basket': {'amount': 3.0,\n",
       "    'odds': 1.8695652173913042,\n",
       "    'src': 'caesar'}},\n",
       "  'moneyline': {'AS Monaco': {'odds': 1.5714285714285714, 'src': 'caesar'},\n",
       "   'ASVEL Basket': {'odds': 2.35, 'src': 'caesar'}},\n",
       "  'points': [{'amount': 'Under 158.0',\n",
       "    'odds': 1.8695652173913042,\n",
       "    'src': 'caesar'},\n",
       "   {'amount': 'Over 158.0', 'odds': 1.8695652173913042, 'src': 'caesar'}]},\n",
       " {'match': 'MINNESOTA LYNX AT LAS VEGAS ACES',\n",
       "  'team1': 'Minnesota Lynx',\n",
       "  'team2': 'Las Vegas Aces',\n",
       "  'spread': {'Minnesota Lynx': {'amount': 3.5,\n",
       "    'odds': 1.9090909090909092,\n",
       "    'src': 'caesar'},\n",
       "   'Las Vegas Aces': {'amount': 30.0,\n",
       "    'odds': 1.9090909090909092,\n",
       "    'src': 'draftkings'}},\n",
       "  'moneyline': {'Minnesota Lynx': {'odds': 2.96, 'src': 'fandual'},\n",
       "   'Las Vegas Aces': {'odds': 1.4545454545454546, 'src': 'caesar'}},\n",
       "  'points': [{'amount': 'Under 172.5',\n",
       "    'odds': 1.9433962264150944,\n",
       "    'src': 'fandual'},\n",
       "   {'amount': 'Over 174', 'odds': 1.9090909090909092, 'src': 'pointsbet'}]},\n",
       " {'match': 'AS MONACO BASKET AT LDLC ASVEL LYON-VILLEURBANNE',\n",
       "  'team1': 'AS Monaco Basket',\n",
       "  'team2': 'LDLC ASVEL Lyon-Villeurbanne',\n",
       "  'spread': {'AS Monaco Basket': {'amount': -3.5,\n",
       "    'odds': 1.925925925925926,\n",
       "    'src': 'fandual'},\n",
       "   'LDLC ASVEL Lyon-Villeurbanne': {'amount': 3.5,\n",
       "    'odds': 1.847457627118644,\n",
       "    'src': 'fandual'}},\n",
       "  'moneyline': {'AS Monaco Basket': {'odds': 1.6097560975609757,\n",
       "    'src': 'fandual'},\n",
       "   'LDLC ASVEL Lyon-Villeurbanne': {'odds': 2.2800000000000002,\n",
       "    'src': 'fandual'}},\n",
       "  'points': [{'amount': 'Under 158.5',\n",
       "    'odds': 1.8695652173913042,\n",
       "    'src': 'fandual'},\n",
       "   {'amount': 'Over 158.5', 'odds': 1.900900900900901, 'src': 'fandual'}]}]"
      ]
     },
     "execution_count": 9,
     "metadata": {},
     "output_type": "execute_result"
    }
   ],
   "source": []
  },
  {
   "cell_type": "code",
   "execution_count": null,
   "id": "e21c8c12-d74e-42c4-a1c7-daa3b5f4ecb7",
   "metadata": {},
   "outputs": [],
   "source": []
  }
 ],
 "metadata": {
  "kernelspec": {
   "display_name": "Python 3 (ipykernel)",
   "language": "python",
   "name": "python3"
  },
  "language_info": {
   "codemirror_mode": {
    "name": "ipython",
    "version": 3
   },
   "file_extension": ".py",
   "mimetype": "text/x-python",
   "name": "python",
   "nbconvert_exporter": "python",
   "pygments_lexer": "ipython3",
   "version": "3.9.7"
  }
 },
 "nbformat": 4,
 "nbformat_minor": 5
}
