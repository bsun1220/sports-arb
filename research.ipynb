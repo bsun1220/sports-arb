{
 "cells": [
  {
   "cell_type": "code",
   "execution_count": 3,
   "id": "03743d72-a808-441f-94e7-17b669b7b2d1",
   "metadata": {},
   "outputs": [],
   "source": [
    "import sys\n",
    "sys.path.insert(0, '/Users/bennysun/sports-arb/scripts')"
   ]
  },
  {
   "cell_type": "code",
   "execution_count": 2,
   "id": "70b758a1-aa64-4ad3-9629-658cf6f8889d",
   "metadata": {},
   "outputs": [],
   "source": [
    "from convertodds import *"
   ]
  },
  {
   "cell_type": "code",
   "execution_count": 19,
   "id": "cddfa8be-fd42-4553-8769-69bc49d72fea",
   "metadata": {},
   "outputs": [
    {
     "name": "stdout",
     "output_type": "stream",
     "text": [
      "2.4\n",
      "1.9090909090909092\n",
      "2.5\n",
      "2.4\n"
     ]
    }
   ],
   "source": [
    "for i in [140, 140, 150, 140]:\n",
    "    print(american_to_dec(i))"
   ]
  },
  {
   "cell_type": "code",
   "execution_count": 22,
   "id": "2b6ec474-37d5-47f7-ab82-cce51a01e1f2",
   "metadata": {},
   "outputs": [
    {
     "name": "stdout",
     "output_type": "stream",
     "text": [
      "1.625\n",
      "1.5847953216374269\n",
      "1.5714285714285714\n",
      "1.6024096385542168\n"
     ]
    }
   ],
   "source": [
    "for i in [-160, -171, -175, -166]:\n",
    "    print(american_to_dec(i))"
   ]
  },
  {
   "cell_type": "code",
   "execution_count": 8,
   "id": "26f82a85-30f2-452a-b80d-829d3d90ed35",
   "metadata": {},
   "outputs": [
    {
     "name": "stdout",
     "output_type": "stream",
     "text": [
      "Requirement already satisfied: beautifulsoup4 in /Users/bennysun/opt/anaconda3/lib/python3.9/site-packages (4.10.0)\n",
      "Requirement already satisfied: soupsieve>1.2 in /Users/bennysun/opt/anaconda3/lib/python3.9/site-packages (from beautifulsoup4) (2.2.1)\n",
      "Note: you may need to restart the kernel to use updated packages.\n"
     ]
    }
   ],
   "source": [
    "pip install beautifulsoup4"
   ]
  },
  {
   "cell_type": "code",
   "execution_count": 23,
   "id": "81ae4614-9d45-4023-89a9-89bd4e3e45eb",
   "metadata": {},
   "outputs": [
    {
     "data": {
      "text/plain": [
       "1.0153846153846153"
      ]
     },
     "execution_count": 23,
     "metadata": {},
     "output_type": "execute_result"
    }
   ],
   "source": [
    "1/1.625 + 1/2.5"
   ]
  },
  {
   "cell_type": "code",
   "execution_count": 24,
   "id": "8a3d9c72-06b3-48b0-941f-8ac2609ecc8f",
   "metadata": {},
   "outputs": [],
   "source": [
    "import requests"
   ]
  },
  {
   "cell_type": "code",
   "execution_count": 25,
   "id": "150e2aed-78ed-4386-b078-cc2a7294bfbe",
   "metadata": {},
   "outputs": [],
   "source": [
    "page = requests.get(\"https://www.williamhill.com/us/nj/bet/basketball/events/all?id=5806c896-4eec-4de1-874f-afed93114b8c\")"
   ]
  },
  {
   "cell_type": "code",
   "execution_count": 27,
   "id": "c6e3d863-2b7e-4466-bf1f-cd2f4d0fa9b9",
   "metadata": {},
   "outputs": [],
   "source": [
    "from bs4 import BeautifulSoup"
   ]
  },
  {
   "cell_type": "code",
   "execution_count": 28,
   "id": "9b0498fe-87da-4010-a91d-29871d0e885b",
   "metadata": {},
   "outputs": [],
   "source": [
    "soup = BeautifulSoup(page.content, 'html.parser')"
   ]
  },
  {
   "cell_type": "code",
   "execution_count": 29,
   "id": "101f5eb6-e057-4633-af50-d0f0894aa2f0",
   "metadata": {},
   "outputs": [
    {
     "name": "stdout",
     "output_type": "stream",
     "text": [
      "<!DOCTYPE html>\n",
      "<html lang=\"en\">\n",
      " <head>\n",
      "  <title>\n",
      "   Caesars Sportsbook\n",
      "  </title>\n",
      "  <meta charset=\"utf-8\"/>\n",
      "  <meta content=\"IE=edge\" http-equiv=\"X-UA-Compatible\"/>\n",
      "  <meta content=\"user-scalable=no,initial-scale=1,maximum-scale=1,minimum-scale=1,width=device-width,height=device-height,viewport-fit=cover\" name=\"viewport\"/>\n",
      "  <link href=\"https://www.google.com\" rel=\"preconnect\"/>\n",
      "  <link href=\"https://www.williamhill.com/us/build/czr/manifest.json\" rel=\"manifest\">\n",
      "   <link href=\"https://www.williamhill.com/us/build/czr/apple-touch-icon.png\" rel=\"apple-touch-icon\" sizes=\"180x180\"/>\n",
      "   <link href=\"https://www.williamhill.com/us/build/czr/favicon-32x32.png\" rel=\"icon\" sizes=\"32x32\" type=\"image/png\"/>\n",
      "   <link href=\"https://www.williamhill.com/us/build/czr/favicon-16x16.png\" rel=\"icon\" sizes=\"16x16\" type=\"image/png\"/>\n",
      "   <link color=\"#0b1550\" href=\"https://www.williamhill.com/us/build/czr/safari-pinned-tab.svg\" rel=\"mask-icon\"/>\n",
      "   <meta content=\"#0b1550\" name=\"msapplication-TileColor\"/>\n",
      "   <meta content=\"#ffffff\" name=\"theme-color\"/>\n",
      "   <script>\n",
      "    window.dataLayer=window.dataLayer||[]\n",
      "   </script>\n",
      "   <script>\n",
      "    if(void 0===process)var process={}\n",
      "   </script>\n",
      "   <script defer=\"defer\" src=\"https://www.williamhill.com/us/build/czr/static/js/660.66838082.js\">\n",
      "   </script>\n",
      "   <script defer=\"defer\" src=\"https://www.williamhill.com/us/build/czr/static/js/main.34048b86.js\">\n",
      "   </script>\n",
      "   <link href=\"https://www.williamhill.com/us/build/czr/czr.css\" rel=\"stylesheet\"/>\n",
      "   <link href=\"https://www.williamhill.com/us/build/czr/static/css/660.890af720.css\" rel=\"stylesheet\"/>\n",
      "   <link href=\"https://www.williamhill.com/us/build/czr/static/css/main.65e950be.css\" rel=\"stylesheet\"/>\n",
      "  </link>\n",
      " </head>\n",
      " <body>\n",
      "  <noscript>\n",
      "   To use Caesars Sportsbook, please enable JavaScript\n",
      "  </noscript>\n",
      "  <div id=\"app\">\n",
      "  </div>\n",
      "  <div id=\"modal-root\">\n",
      "  </div>\n",
      "  <script>\n",
      "   window.BUILD_INFO={COMMIT_SHA:\"85554ea4\",PIPELINE_ID:\"549963016\"},window.environment=\"prod\",window.newRelicId=\"\",window.brand=\"czr\"\n",
      "  </script>\n",
      "  <script defer=\"defer\" id=\"vs-adobeAnalytics\" src=\"https://www.williamhill.com/us/build/czr/vendorsScripts/adobeAnalytics.js\">\n",
      "  </script>\n",
      "  <script defer=\"defer\" id=\"vs-googleTagManager\" src=\"https://www.williamhill.com/us/build/czr/vendorsScripts/googleTagManager.js\">\n",
      "  </script>\n",
      "  <script defer=\"defer\" id=\"vs-initUsabilla\" src=\"https://www.williamhill.com/us/build/czr/vendorsScripts/initUsabilla.js\">\n",
      "  </script>\n",
      "  <script id=\"vs-newrelic\" src=\"https://www.williamhill.com/us/build/czr/vendorsScripts/newrelic.js\">\n",
      "  </script>\n",
      " </body>\n",
      "</html>\n"
     ]
    }
   ],
   "source": [
    "print(soup.prettify())"
   ]
  },
  {
   "cell_type": "code",
   "execution_count": 30,
   "id": "d47c1b65-9103-46d2-8c1b-d9705f5391eb",
   "metadata": {},
   "outputs": [
    {
     "data": {
      "text/plain": [
       "['html',\n",
       " <html lang=\"en\"><head><title>Caesars Sportsbook</title><meta charset=\"utf-8\"/><meta content=\"IE=edge\" http-equiv=\"X-UA-Compatible\"/><meta content=\"user-scalable=no,initial-scale=1,maximum-scale=1,minimum-scale=1,width=device-width,height=device-height,viewport-fit=cover\" name=\"viewport\"/><link href=\"https://www.google.com\" rel=\"preconnect\"/><link href=\"https://www.williamhill.com/us/build/czr/manifest.json\" rel=\"manifest\"><link href=\"https://www.williamhill.com/us/build/czr/apple-touch-icon.png\" rel=\"apple-touch-icon\" sizes=\"180x180\"/><link href=\"https://www.williamhill.com/us/build/czr/favicon-32x32.png\" rel=\"icon\" sizes=\"32x32\" type=\"image/png\"/><link href=\"https://www.williamhill.com/us/build/czr/favicon-16x16.png\" rel=\"icon\" sizes=\"16x16\" type=\"image/png\"/><link color=\"#0b1550\" href=\"https://www.williamhill.com/us/build/czr/safari-pinned-tab.svg\" rel=\"mask-icon\"/><meta content=\"#0b1550\" name=\"msapplication-TileColor\"/><meta content=\"#ffffff\" name=\"theme-color\"/><script>window.dataLayer=window.dataLayer||[]</script><script>if(void 0===process)var process={}</script><script defer=\"defer\" src=\"https://www.williamhill.com/us/build/czr/static/js/660.66838082.js\"></script><script defer=\"defer\" src=\"https://www.williamhill.com/us/build/czr/static/js/main.34048b86.js\"></script><link href=\"https://www.williamhill.com/us/build/czr/czr.css\" rel=\"stylesheet\"/><link href=\"https://www.williamhill.com/us/build/czr/static/css/660.890af720.css\" rel=\"stylesheet\"/><link href=\"https://www.williamhill.com/us/build/czr/static/css/main.65e950be.css\" rel=\"stylesheet\"/></link></head><body><noscript>To use Caesars Sportsbook, please enable JavaScript</noscript><div id=\"app\"></div><div id=\"modal-root\"></div><script>window.BUILD_INFO={COMMIT_SHA:\"85554ea4\",PIPELINE_ID:\"549963016\"},window.environment=\"prod\",window.newRelicId=\"\",window.brand=\"czr\"</script><script defer=\"defer\" id=\"vs-adobeAnalytics\" src=\"https://www.williamhill.com/us/build/czr/vendorsScripts/adobeAnalytics.js\"></script><script defer=\"defer\" id=\"vs-googleTagManager\" src=\"https://www.williamhill.com/us/build/czr/vendorsScripts/googleTagManager.js\"></script><script defer=\"defer\" id=\"vs-initUsabilla\" src=\"https://www.williamhill.com/us/build/czr/vendorsScripts/initUsabilla.js\"></script><script id=\"vs-newrelic\" src=\"https://www.williamhill.com/us/build/czr/vendorsScripts/newrelic.js\"></script></body></html>]"
      ]
     },
     "execution_count": 30,
     "metadata": {},
     "output_type": "execute_result"
    }
   ],
   "source": [
    "list(soup.children)"
   ]
  },
  {
   "cell_type": "code",
   "execution_count": 32,
   "id": "c96e5eb8-c383-4983-b0bb-e8d5d62d6cf0",
   "metadata": {},
   "outputs": [
    {
     "data": {
      "text/plain": [
       "[]"
      ]
     },
     "execution_count": 32,
     "metadata": {},
     "output_type": "execute_result"
    }
   ],
   "source": [
    "soup.find_all('button')"
   ]
  },
  {
   "cell_type": "code",
   "execution_count": 6,
   "id": "4d13eec7-7212-4e26-8469-dcfda19483e8",
   "metadata": {},
   "outputs": [],
   "source": [
    "from selenium import webdriver\n",
    "from selenium.webdriver.common.keys import Keys\n",
    "import time\n",
    "import pandas as pd\n",
    "import sys\n",
    "sys.path.insert(0, '/Users/bennysun/sports-arb/scripts')\n",
    "from draftkingsscrape import draft_king\n",
    "from caesarscrape import caesar"
   ]
  },
  {
   "cell_type": "code",
   "execution_count": null,
   "id": "e4918724-0ecd-49da-ab1f-b69380ee69dd",
   "metadata": {},
   "outputs": [],
   "source": []
  }
 ],
 "metadata": {
  "kernelspec": {
   "display_name": "Python 3 (ipykernel)",
   "language": "python",
   "name": "python3"
  },
  "language_info": {
   "codemirror_mode": {
    "name": "ipython",
    "version": 3
   },
   "file_extension": ".py",
   "mimetype": "text/x-python",
   "name": "python",
   "nbconvert_exporter": "python",
   "pygments_lexer": "ipython3",
   "version": "3.9.7"
  }
 },
 "nbformat": 4,
 "nbformat_minor": 5
}
