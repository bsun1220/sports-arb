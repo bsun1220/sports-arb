{
 "cells": [
  {
   "cell_type": "code",
   "execution_count": 3,
   "id": "03743d72-a808-441f-94e7-17b669b7b2d1",
   "metadata": {},
   "outputs": [],
   "source": [
    "import sys\n",
    "sys.path.insert(0, '/Users/bennysun/sports-arb/scripts')"
   ]
  },
  {
   "cell_type": "code",
   "execution_count": 2,
   "id": "70b758a1-aa64-4ad3-9629-658cf6f8889d",
   "metadata": {},
   "outputs": [],
   "source": [
    "from convertodds import *"
   ]
  },
  {
   "cell_type": "code",
   "execution_count": 19,
   "id": "cddfa8be-fd42-4553-8769-69bc49d72fea",
   "metadata": {},
   "outputs": [
    {
     "name": "stdout",
     "output_type": "stream",
     "text": [
      "2.4\n",
      "1.9090909090909092\n",
      "2.5\n",
      "2.4\n"
     ]
    }
   ],
   "source": [
    "for i in [140, 140, 150, 140]:\n",
    "    print(american_to_dec(i))"
   ]
  },
  {
   "cell_type": "code",
   "execution_count": 22,
   "id": "2b6ec474-37d5-47f7-ab82-cce51a01e1f2",
   "metadata": {},
   "outputs": [
    {
     "name": "stdout",
     "output_type": "stream",
     "text": [
      "1.625\n",
      "1.5847953216374269\n",
      "1.5714285714285714\n",
      "1.6024096385542168\n"
     ]
    }
   ],
   "source": [
    "for i in [-160, -171, -175, -166]:\n",
    "    print(american_to_dec(i))"
   ]
  },
  {
   "cell_type": "code",
   "execution_count": 8,
   "id": "26f82a85-30f2-452a-b80d-829d3d90ed35",
   "metadata": {},
   "outputs": [
    {
     "name": "stdout",
     "output_type": "stream",
     "text": [
      "Requirement already satisfied: beautifulsoup4 in /Users/bennysun/opt/anaconda3/lib/python3.9/site-packages (4.10.0)\n",
      "Requirement already satisfied: soupsieve>1.2 in /Users/bennysun/opt/anaconda3/lib/python3.9/site-packages (from beautifulsoup4) (2.2.1)\n",
      "Note: you may need to restart the kernel to use updated packages.\n"
     ]
    }
   ],
   "source": [
    "pip install beautifulsoup4"
   ]
  },
  {
   "cell_type": "code",
   "execution_count": 23,
   "id": "81ae4614-9d45-4023-89a9-89bd4e3e45eb",
   "metadata": {},
   "outputs": [
    {
     "data": {
      "text/plain": [
       "1.0153846153846153"
      ]
     },
     "execution_count": 23,
     "metadata": {},
     "output_type": "execute_result"
    }
   ],
   "source": [
    "1/1.625 + 1/2.5"
   ]
  },
  {
   "cell_type": "code",
   "execution_count": 24,
   "id": "8a3d9c72-06b3-48b0-941f-8ac2609ecc8f",
   "metadata": {},
   "outputs": [],
   "source": [
    "import requests"
   ]
  },
  {
   "cell_type": "code",
   "execution_count": 25,
   "id": "150e2aed-78ed-4386-b078-cc2a7294bfbe",
   "metadata": {},
   "outputs": [],
   "source": [
    "page = requests.get(\"https://www.williamhill.com/us/nj/bet/basketball/events/all?id=5806c896-4eec-4de1-874f-afed93114b8c\")"
   ]
  },
  {
   "cell_type": "code",
   "execution_count": 27,
   "id": "c6e3d863-2b7e-4466-bf1f-cd2f4d0fa9b9",
   "metadata": {},
   "outputs": [],
   "source": [
    "from bs4 import BeautifulSoup"
   ]
  },
  {
   "cell_type": "code",
   "execution_count": 28,
   "id": "9b0498fe-87da-4010-a91d-29871d0e885b",
   "metadata": {},
   "outputs": [],
   "source": [
    "soup = BeautifulSoup(page.content, 'html.parser')"
   ]
  },
  {
   "cell_type": "code",
   "execution_count": 32,
   "id": "c96e5eb8-c383-4983-b0bb-e8d5d62d6cf0",
   "metadata": {},
   "outputs": [
    {
     "data": {
      "text/plain": [
       "[]"
      ]
     },
     "execution_count": 32,
     "metadata": {},
     "output_type": "execute_result"
    }
   ],
   "source": [
    "soup.find_all('button')"
   ]
  },
  {
   "cell_type": "code",
   "execution_count": 1,
   "id": "4d13eec7-7212-4e26-8469-dcfda19483e8",
   "metadata": {},
   "outputs": [],
   "source": [
    "from selenium import webdriver\n",
    "from selenium.webdriver.common.keys import Keys\n",
    "import time\n",
    "import pandas as pd\n",
    "import sys\n",
    "sys.path.insert(0, '/Users/bennysun/sports-arb/scripts')\n",
    "from draftkingsscrape import draftking\n",
    "from caesarscrape import caesar\n",
    "from fandualscrape import fandual\n",
    "from pointsbetscrape import pointsbet"
   ]
  },
  {
   "cell_type": "code",
   "execution_count": 2,
   "id": "f45edfbb-3751-4c0d-a8a7-8a0c954fd6e4",
   "metadata": {},
   "outputs": [],
   "source": [
    "data1 = caesar()\n",
    "data2 = draftking()\n",
    "data3 = fandual()\n",
    "data4 = pointsbet()"
   ]
  },
  {
   "cell_type": "code",
   "execution_count": null,
   "id": "78dc2a55-e220-4512-8a50-8f1b275533a2",
   "metadata": {},
   "outputs": [],
   "source": []
  },
  {
   "cell_type": "code",
   "execution_count": 2,
   "id": "9d756ed1-405f-489b-ac09-5c9b5a2f72cf",
   "metadata": {},
   "outputs": [],
   "source": [
    "data1 = [{'match': 'FRANKLIN BULLS VS WELLINGTON SAINTS',\n",
    "  'date': '11:00PM',\n",
    "  'team1': 'Franklin Bulls',\n",
    "  'team2': 'Wellington Saints',\n",
    "  'spread': {'Franklin Bulls': {'amount': 7.0, 'odds': 1.8695652173913042},\n",
    "   'Wellington Saints': {'amount': -7.0, 'odds': 1.8695652173913042}},\n",
    "  'moneyline': {'Franklin Bulls': {'odds': 3.6},\n",
    "   'Wellington Saints': {'odds': 1.2857142857142856}},\n",
    "  'points': {'Franklin Bulls': {'amount': 'Over 173.5',\n",
    "    'odds': 1.8695652173913042},\n",
    "   'Wellington Saints': {'amount': 'Under 173.5',\n",
    "    'odds': 1.8695652173913042}}},\n",
    " {'match': 'SOUTHLAND SHARKS VS MANAWATU JETS',\n",
    "  'date': '1:00AM',\n",
    "  'team1': 'Southland Sharks',\n",
    "  'team2': 'Manawatu Jets',\n",
    "  'spread': {'Southland Sharks': {'amount': -5.5, 'odds': 1.9090909090909092},\n",
    "   'Manawatu Jets': {'amount': 5.5, 'odds': 1.8333333333333335}},\n",
    "  'moneyline': {'Southland Sharks': {'odds': 1.4},\n",
    "   'Manawatu Jets': {'odds': 2.9}},\n",
    "  'points': {'Southland Sharks': {'amount': 'Over 176.5',\n",
    "    'odds': 1.8695652173913042},\n",
    "   'Manawatu Jets': {'amount': 'Under 176.5', 'odds': 1.8695652173913042}}},\n",
    " {'match': 'REAL MADRID VS FC BARCELONA',\n",
    "  'date': '12:00PM',\n",
    "  'team1': 'Real Madrid',\n",
    "  'team2': 'FC Barcelona',\n",
    "  'spread': {'Real Madrid': {'amount': -3.0, 'odds': 1.8695652173913042},\n",
    "   'FC Barcelona': {'amount': 3.0, 'odds': 1.8695652173913042}},\n",
    "  'moneyline': {'Real Madrid': {'odds': 1.5714285714285714},\n",
    "   'FC Barcelona': {'odds': 2.35}},\n",
    "  'points': {'Real Madrid': {'amount': 'Over 155.0',\n",
    "    'odds': 1.8695652173913042},\n",
    "   'FC Barcelona': {'amount': 'Under 155.0', 'odds': 1.8695652173913042}}},\n",
    " {'match': 'OLIMPIA MILANO VS VIRTUS BOLOGNA',\n",
    "  'date': '2:30PM',\n",
    "  'team1': 'Olimpia Milano',\n",
    "  'team2': 'Virtus Bologna',\n",
    "  'spread': {'Olimpia Milano': {'amount': -4.5, 'odds': 1.8333333333333335},\n",
    "   'Virtus Bologna': {'amount': 4.5, 'odds': 1.9090909090909092}},\n",
    "  'moneyline': {'Olimpia Milano': {'odds': 1.5},\n",
    "   'Virtus Bologna': {'odds': 2.6}},\n",
    "  'points': {'Olimpia Milano': {'amount': 'Over 153.5',\n",
    "    'odds': 1.8695652173913042},\n",
    "   'Virtus Bologna': {'amount': 'Under 153.5', 'odds': 1.8695652173913042}}},\n",
    " {'match': 'FC BAYERN MUNICH VS ALBA BERLIN',\n",
    "  'date': '9:00AM',\n",
    "  'team1': 'FC Bayern Munich',\n",
    "  'team2': 'Alba Berlin',\n",
    "  'spread': {'FC Bayern Munich': {'amount': -4.5, 'odds': 1.8333333333333335},\n",
    "   'Alba Berlin': {'amount': 4.5, 'odds': 1.9090909090909092}},\n",
    "  'moneyline': {'FC Bayern Munich': {'odds': 1.5},\n",
    "   'Alba Berlin': {'odds': 2.6}},\n",
    "  'points': {'FC Bayern Munich': {'amount': 'Over 152.5',\n",
    "    'odds': 1.8695652173913042},\n",
    "   'Alba Berlin': {'amount': 'Under 152.5', 'odds': 1.8695652173913042}}}]"
   ]
  },
  {
   "cell_type": "code",
   "execution_count": 3,
   "id": "e88da7c8-1507-481b-915f-239009afcfe8",
   "metadata": {},
   "outputs": [],
   "source": [
    "data2 = [{'match': 'VIRTUS BOLOGNA AT MILANO',\n",
    "  'date': '2:30PM',\n",
    "  'team1': 'Virtus Bologna',\n",
    "  'team2': 'Milano',\n",
    "  'spread': {'Virtus Bologna': {'amount': 5.0, 'odds': 1.8695652173913042},\n",
    "   'Milano': {'amount': -5.0, 'odds': 1.8695652173913042}},\n",
    "  'moneyline': {'Virtus Bologna': {'odds': 2.7},\n",
    "   'Milano': {'odds': 1.4761904761904763}},\n",
    "  'points': {'Virtus Bologna': {'amount': 'Over 152',\n",
    "    'odds': 1.8333333333333335},\n",
    "   'Milano': {'amount': 'Under 152', 'odds': 1.9090909090909092}}}]"
   ]
  },
  {
   "cell_type": "code",
   "execution_count": 4,
   "id": "9bc955c9-1b9e-41bd-9418-0d00e3e41078",
   "metadata": {},
   "outputs": [],
   "source": [
    "data3 = [{'match': 'SPAIN WOMEN AT SLOVENIA WOMEN',\n",
    "  'team1': 'Spain Women',\n",
    "  'team2': 'Slovenia Women',\n",
    "  'spread': {'Spain Women': {'amount': -9.0, 'odds': 1.8928571428571428},\n",
    "   'Slovenia Women': {'amount': 9.0, 'odds': 1.8928571428571428}},\n",
    "  'moneyline': {'Spain Women': {'odds': 1.1818181818181819},\n",
    "   'Slovenia Women': {'odds': 4.6}},\n",
    "  'points': {'Spain Women': {'amount': 'Over 141.5',\n",
    "    'odds': 1.8928571428571428},\n",
    "   'Slovenia Women': {'amount': 'Under 141.5', 'odds': 1.8928571428571428}}},\n",
    " {'match': 'AX ARMANI EXCHANGE OLIMPIA MILAN AT VIRTUS SEGAFREDO BOLOGNA',\n",
    "  'team1': 'AX Armani Exchange Olimpia Milan',\n",
    "  'team2': 'Virtus Segafredo Bologna',\n",
    "  'spread': {'AX Armani Exchange Olimpia Milan': {'amount': -4.5,\n",
    "    'odds': 1.8695652173913042},\n",
    "   'Virtus Segafredo Bologna': {'amount': 4.5, 'odds': 1.900900900900901}},\n",
    "  'moneyline': {'AX Armani Exchange Olimpia Milan': {'odds': 1.4651162790697674},\n",
    "   'Virtus Segafredo Bologna': {'odds': 2.6399999999999997}},\n",
    "  'points': {'AX Armani Exchange Olimpia Milan': {'amount': 'Over 152.5',\n",
    "    'odds': 1.8695652173913042},\n",
    "   'Virtus Segafredo Bologna': {'amount': 'Under 152.5',\n",
    "    'odds': 1.900900900900901}}},\n",
    " {'match': 'ENVIRONZ FRANKLIN BULLS AT WELLINGTON SAINTS',\n",
    "  'team1': 'EnviroNZ Franklin Bulls',\n",
    "  'team2': 'Wellington Saints',\n",
    "  'spread': {'EnviroNZ Franklin Bulls': {'amount': 7.5,\n",
    "    'odds': 1.8695652173913042},\n",
    "   'Wellington Saints': {'amount': -7.5, 'odds': 1.900900900900901}},\n",
    "  'moneyline': {'EnviroNZ Franklin Bulls': {'odds': 3.8},\n",
    "   'Wellington Saints': {'odds': 1.2564102564102564}},\n",
    "  'points': {'EnviroNZ Franklin Bulls': {'amount': 'Over 172.5',\n",
    "    'odds': 1.900900900900901},\n",
    "   'Wellington Saints': {'amount': 'Under 172.5',\n",
    "    'odds': 1.8695652173913042}}},\n",
    " {'match': 'SIT ZEROFEES SOUTHLAND SHARKS AT PB AND SMM MANAWATU JETS',\n",
    "  'team1': 'SIT Zerofees Southland Sharks',\n",
    "  'team2': 'PB and SMM Manawatu Jets',\n",
    "  'spread': {'SIT Zerofees Southland Sharks': {'amount': -5.5,\n",
    "    'odds': 1.8695652173913042},\n",
    "   'PB and SMM Manawatu Jets': {'amount': 5.5, 'odds': 1.900900900900901}},\n",
    "  'moneyline': {'SIT Zerofees Southland Sharks': {'odds': 1.4},\n",
    "   'PB and SMM Manawatu Jets': {'odds': 2.9}},\n",
    "  'points': {'SIT Zerofees Southland Sharks': {'amount': 'Over 176.5',\n",
    "    'odds': 1.900900900900901},\n",
    "   'PB and SMM Manawatu Jets': {'amount': 'Under 176.5',\n",
    "    'odds': 1.8695652173913042}}},\n",
    " {'match': 'FC BAYERN MUNCHEN AT ALBA BERLIN',\n",
    "  'team1': 'FC Bayern Munchen',\n",
    "  'team2': 'ALBA Berlin',\n",
    "  'spread': {'FC Bayern Munchen': {'amount': -4.5, 'odds': 1.8771929824561404},\n",
    "   'ALBA Berlin': {'amount': 4.5, 'odds': 1.925925925925926}},\n",
    "  'moneyline': {'FC Bayern Munchen': {'odds': 1.4651162790697674},\n",
    "   'ALBA Berlin': {'odds': 2.76}},\n",
    "  'points': {'FC Bayern Munchen': {'amount': 'Over 152.5',\n",
    "    'odds': 1.9090909090909092},\n",
    "   'ALBA Berlin': {'amount': 'Under 152.5', 'odds': 1.9090909090909092}}},\n",
    " {'match': 'REAL MADRID AT FC BARCELONA',\n",
    "  'team1': 'Real Madrid',\n",
    "  'team2': 'FC Barcelona',\n",
    "  'spread': {'Real Madrid': {'amount': -3.5, 'odds': 1.925925925925926},\n",
    "   'FC Barcelona': {'amount': 3.5, 'odds': 1.8771929824561404}},\n",
    "  'moneyline': {'Real Madrid': {'odds': 1.625}, 'FC Barcelona': {'odds': 2.3}},\n",
    "  'points': {'Real Madrid': {'amount': 'Over 155.5',\n",
    "    'odds': 1.9615384615384617},\n",
    "   'FC Barcelona': {'amount': 'Under 155.5', 'odds': 1.8620689655172413}}},\n",
    " {'match': 'KK FMP AT CRVENA ZVEZDA MTS BELGRADE',\n",
    "  'team1': 'KK FMP',\n",
    "  'team2': 'Crvena Zvezda MTS Belgrade',\n",
    "  'spread': {'KK FMP': {'amount': 20.5, 'odds': 1.8849557522123894},\n",
    "   'Crvena Zvezda MTS Belgrade': {'amount': -20.5,\n",
    "    'odds': 1.8849557522123894}},\n",
    "  'moneyline': {'KK FMP': {'odds': 15.0},\n",
    "   'Crvena Zvezda MTS Belgrade': {'odds': 1.0166666666666666}},\n",
    "  'points': {'KK FMP': {'amount': 'Over 164.5', 'odds': 1.8849557522123894},\n",
    "   'Crvena Zvezda MTS Belgrade': {'amount': 'Under 164.5',\n",
    "    'odds': 1.8849557522123894}}},\n",
    " {'match': 'AS MONACO BASKET AT LDLC ASVEL LYON-VILLEURBANNE',\n",
    "  'team1': 'AS Monaco Basket',\n",
    "  'team2': 'LDLC ASVEL Lyon-Villeurbanne',\n",
    "  'spread': {'AS Monaco Basket': {'amount': -3.5, 'odds': 1.900900900900901},\n",
    "   'LDLC ASVEL Lyon-Villeurbanne': {'amount': 3.5,\n",
    "    'odds': 1.8695652173913042}},\n",
    "  'moneyline': {'AS Monaco Basket': {'odds': 1.5813953488372094},\n",
    "   'LDLC ASVEL Lyon-Villeurbanne': {'odds': 2.34}},\n",
    "  'points': {'AS Monaco Basket': {'amount': 'Over 158.5',\n",
    "    'odds': 1.925925925925926},\n",
    "   'LDLC ASVEL Lyon-Villeurbanne': {'amount': 'Under 158.5',\n",
    "    'odds': 1.847457627118644}}}]"
   ]
  },
  {
   "cell_type": "code",
   "execution_count": 5,
   "id": "eb66a5cf-3705-4e22-ade3-1e34cf3fd532",
   "metadata": {},
   "outputs": [],
   "source": [
    "data4 = [{'match': 'SLOVENIA WOMEN AT SPAIN WOMEN',\n",
    "  'team1': 'Slovenia Women',\n",
    "  'team2': 'Spain Women',\n",
    "  'spread': {'Slovenia Women': {'amount': 9.5, 'odds': 1.9090909090909092},\n",
    "   'Spain Women': {'amount': -9.5, 'odds': 1.9090909090909092}},\n",
    "  'moneyline': {'Slovenia Women': {'odds': 4.4},\n",
    "   'Spain Women': {'odds': 1.2105263157894737}},\n",
    "  'points': {'Slovenia Women': {'amount': 'Over 141.5',\n",
    "    'odds': 1.8695652173913042},\n",
    "   'Spain Women': {'amount': 'Under 141.5', 'odds': 1.8695652173913042}}},\n",
    " {'match': 'VIRTUS SEGAFREDO BOLOGNA AT AX ARMANI EXCHANGE OLIMPIA MILAN',\n",
    "  'team1': 'Virtus Segafredo Bologna',\n",
    "  'team2': 'AX Armani Exchange Olimpia Milan',\n",
    "  'spread': {'Virtus Segafredo Bologna': {'amount': 4.5,\n",
    "    'odds': 1.9090909090909092},\n",
    "   'AX Armani Exchange Olimpia Milan': {'amount': -4.5,\n",
    "    'odds': 1.8333333333333335}},\n",
    "  'moneyline': {'Virtus Segafredo Bologna': {'odds': 2.6},\n",
    "   'AX Armani Exchange Olimpia Milan': {'odds': 1.4651162790697674}},\n",
    "  'points': {'Virtus Segafredo Bologna': {'amount': 'Over 152.5',\n",
    "    'odds': 1.8333333333333335},\n",
    "   'AX Armani Exchange Olimpia Milan': {'amount': 'Under 152.5',\n",
    "    'odds': 1.9090909090909092}}},\n",
    " {'match': 'WELLINGTON SAINTS AT ENVIRONZ FRANKLIN BULLS',\n",
    "  'team1': 'Wellington Saints',\n",
    "  'team2': 'EnviroNZ Franklin Bulls',\n",
    "  'spread': {'Wellington Saints': {'amount': -7.5, 'odds': 1.9523809523809523},\n",
    "   'EnviroNZ Franklin Bulls': {'amount': 7.5, 'odds': 1.8}},\n",
    "  'moneyline': {'Wellington Saints': {'odds': 1.2857142857142856},\n",
    "   'EnviroNZ Franklin Bulls': {'odds': 3.5}},\n",
    "  'points': {'Wellington Saints': {'amount': 'Over 172.5',\n",
    "    'odds': 1.8695652173913042},\n",
    "   'EnviroNZ Franklin Bulls': {'amount': 'Under 172.5',\n",
    "    'odds': 1.8695652173913042}}},\n",
    " {'match': 'PB AND SMM MANAWATU JETS AT SIT ZEROFEES SOUTHLAND SHARKS',\n",
    "  'team1': 'PB and SMM Manawatu Jets',\n",
    "  'team2': 'SIT Zerofees Southland Sharks',\n",
    "  'spread': {'PB and SMM Manawatu Jets': {'amount': 5.5,\n",
    "    'odds': 1.8695652173913042},\n",
    "   'SIT Zerofees Southland Sharks': {'amount': -5.5,\n",
    "    'odds': 1.8695652173913042}},\n",
    "  'moneyline': {'PB and SMM Manawatu Jets': {'odds': 2.85},\n",
    "   'SIT Zerofees Southland Sharks': {'odds': 1.4}},\n",
    "  'points': {'PB and SMM Manawatu Jets': {'amount': 'Over 176.5',\n",
    "    'odds': 1.8695652173913042},\n",
    "   'SIT Zerofees Southland Sharks': {'amount': 'Under 176.5',\n",
    "    'odds': 1.8695652173913042}}},\n",
    " {'match': 'ALBA BERLIN AT FC BAYERN MÜNCHEN',\n",
    "  'team1': 'ALBA Berlin',\n",
    "  'team2': 'FC Bayern München',\n",
    "  'spread': {'ALBA Berlin': {'amount': 4.5, 'odds': 1.9090909090909092},\n",
    "   'FC Bayern München': {'amount': -4.5, 'odds': 1.8333333333333335}},\n",
    "  'moneyline': {'ALBA Berlin': {'odds': 2.6},\n",
    "   'FC Bayern München': {'odds': 1.4651162790697674}},\n",
    "  'points': {'ALBA Berlin': {'amount': 'Over 152.5',\n",
    "    'odds': 1.8695652173913042},\n",
    "   'FC Bayern München': {'amount': 'Under 152.5',\n",
    "    'odds': 1.8695652173913042}}},\n",
    " {'match': 'FC BARCELONA AT REAL MADRID',\n",
    "  'team1': 'FC Barcelona',\n",
    "  'team2': 'Real Madrid',\n",
    "  'spread': {'FC Barcelona': {'amount': 2.5, 'odds': 1.9090909090909092},\n",
    "   'Real Madrid': {'amount': -2.5, 'odds': 1.8333333333333335}},\n",
    "  'moneyline': {'FC Barcelona': {'odds': 2.2199999999999998},\n",
    "   'Real Madrid': {'odds': 1.625}},\n",
    "  'points': {'FC Barcelona': {'amount': 'Over 155.5',\n",
    "    'odds': 1.9090909090909092},\n",
    "   'Real Madrid': {'amount': 'Under 155.5', 'odds': 1.8333333333333335}}}]"
   ]
  },
  {
   "cell_type": "code",
   "execution_count": 6,
   "id": "4688da7f-a2ca-4cfe-9863-e5ebfa6f965c",
   "metadata": {},
   "outputs": [
    {
     "name": "stderr",
     "output_type": "stream",
     "text": [
      "/Users/bennysun/opt/anaconda3/lib/python3.9/site-packages/fuzzywuzzy/fuzz.py:11: UserWarning: Using slow pure-python SequenceMatcher. Install python-Levenshtein to remove this warning\n",
      "  warnings.warn('Using slow pure-python SequenceMatcher. Install python-Levenshtein to remove this warning')\n"
     ]
    }
   ],
   "source": [
    "from compiledata import compiled"
   ]
  },
  {
   "cell_type": "code",
   "execution_count": 7,
   "id": "e1e6bd11-2017-4cc5-b5e0-6671f9b5fca0",
   "metadata": {},
   "outputs": [],
   "source": [
    "data = compiled(data1, data2, data3, data4)"
   ]
  },
  {
   "cell_type": "code",
   "execution_count": 8,
   "id": "a460ae36-cbf6-4484-afd6-b5a075a6ab4d",
   "metadata": {},
   "outputs": [
    {
     "data": {
      "text/plain": [
       "[{'match': 'FC BAYERN MUNICH VS ALBA BERLIN',\n",
       "  'team1': 'FC Bayern Munich',\n",
       "  'team2': 'Alba Berlin',\n",
       "  'spread': {'FC Bayern Munich': [{'amount': -4.5,\n",
       "     'odds': 1.8333333333333335,\n",
       "     'src': 'caesar'},\n",
       "    {'amount': -4.5, 'odds': 1.8771929824561404, 'src': 'fandual'},\n",
       "    {'amount': -4.5, 'odds': 1.8333333333333335, 'src': 'pointsbet'}],\n",
       "   'Alba Berlin': [{'amount': 4.5,\n",
       "     'odds': 1.9090909090909092,\n",
       "     'src': 'caesar'},\n",
       "    {'amount': 4.5, 'odds': 1.925925925925926, 'src': 'fandual'},\n",
       "    {'amount': 4.5, 'odds': 1.9090909090909092, 'src': 'pointsbet'}]},\n",
       "  'moneyline': {'FC Bayern Munich': [{'odds': 1.5, 'src': 'caesar'},\n",
       "    {'odds': 1.4651162790697674, 'src': 'fandual'},\n",
       "    {'odds': 1.4651162790697674, 'src': 'pointsbet'}],\n",
       "   'Alba Berlin': [{'odds': 2.6, 'src': 'caesar'},\n",
       "    {'odds': 2.76, 'src': 'fandual'},\n",
       "    {'odds': 2.6, 'src': 'pointsbet'}]},\n",
       "  'points': {'FC Bayern Munich': [{'amount': 'Over 152.5',\n",
       "     'odds': 1.8695652173913042,\n",
       "     'src': 'caesar'},\n",
       "    {'amount': 'Over 152.5', 'odds': 1.9090909090909092, 'src': 'fandual'},\n",
       "    {'amount': 'Under 152.5', 'odds': 1.8695652173913042, 'src': 'pointsbet'}],\n",
       "   'Alba Berlin': [{'amount': 'Under 152.5',\n",
       "     'odds': 1.8695652173913042,\n",
       "     'src': 'caesar'},\n",
       "    {'amount': 'Under 152.5', 'odds': 1.9090909090909092, 'src': 'fandual'},\n",
       "    {'amount': 'Over 152.5',\n",
       "     'odds': 1.8695652173913042,\n",
       "     'src': 'pointsbet'}]}},\n",
       " {'match': 'OLIMPIA MILANO VS VIRTUS BOLOGNA',\n",
       "  'team1': 'Olimpia Milano',\n",
       "  'team2': 'Virtus Bologna',\n",
       "  'spread': {'Olimpia Milano': [{'amount': -4.5,\n",
       "     'odds': 1.8333333333333335,\n",
       "     'src': 'caesar'},\n",
       "    {'amount': -5.0, 'odds': 1.8695652173913042, 'src': 'draftkings'},\n",
       "    {'amount': -4.5, 'odds': 1.8695652173913042, 'src': 'fandual'},\n",
       "    {'amount': -4.5, 'odds': 1.8333333333333335, 'src': 'pointsbet'}],\n",
       "   'Virtus Bologna': [{'amount': 4.5,\n",
       "     'odds': 1.9090909090909092,\n",
       "     'src': 'caesar'},\n",
       "    {'amount': 5.0, 'odds': 1.8695652173913042, 'src': 'draftkings'},\n",
       "    {'amount': 4.5, 'odds': 1.900900900900901, 'src': 'fandual'},\n",
       "    {'amount': 4.5, 'odds': 1.9090909090909092, 'src': 'pointsbet'}]},\n",
       "  'moneyline': {'Olimpia Milano': [{'odds': 1.5, 'src': 'caesar'},\n",
       "    {'odds': 1.4761904761904763, 'src': 'draftkings'},\n",
       "    {'odds': 1.4651162790697674, 'src': 'fandual'},\n",
       "    {'odds': 1.4651162790697674, 'src': 'pointsbet'}],\n",
       "   'Virtus Bologna': [{'odds': 2.6, 'src': 'caesar'},\n",
       "    {'odds': 2.7, 'src': 'draftkings'},\n",
       "    {'odds': 2.6399999999999997, 'src': 'fandual'},\n",
       "    {'odds': 2.6, 'src': 'pointsbet'}]},\n",
       "  'points': {'Olimpia Milano': [{'amount': 'Over 153.5',\n",
       "     'odds': 1.8695652173913042,\n",
       "     'src': 'caesar'},\n",
       "    {'amount': 'Under 152', 'odds': 1.9090909090909092, 'src': 'draftkings'},\n",
       "    {'amount': 'Over 152.5', 'odds': 1.8695652173913042, 'src': 'fandual'},\n",
       "    {'amount': 'Under 152.5', 'odds': 1.9090909090909092, 'src': 'pointsbet'}],\n",
       "   'Virtus Bologna': [{'amount': 'Under 153.5',\n",
       "     'odds': 1.8695652173913042,\n",
       "     'src': 'caesar'},\n",
       "    {'amount': 'Over 152', 'odds': 1.8333333333333335, 'src': 'draftkings'},\n",
       "    {'amount': 'Under 152.5', 'odds': 1.900900900900901, 'src': 'fandual'},\n",
       "    {'amount': 'Over 152.5',\n",
       "     'odds': 1.8333333333333335,\n",
       "     'src': 'pointsbet'}]}},\n",
       " {'match': 'REAL MADRID VS FC BARCELONA',\n",
       "  'team1': 'Real Madrid',\n",
       "  'team2': 'FC Barcelona',\n",
       "  'spread': {'Real Madrid': [{'amount': -3.0,\n",
       "     'odds': 1.8695652173913042,\n",
       "     'src': 'caesar'},\n",
       "    {'amount': -3.5, 'odds': 1.925925925925926, 'src': 'fandual'},\n",
       "    {'amount': -2.5, 'odds': 1.8333333333333335, 'src': 'pointsbet'}],\n",
       "   'FC Barcelona': [{'amount': 3.0,\n",
       "     'odds': 1.8695652173913042,\n",
       "     'src': 'caesar'},\n",
       "    {'amount': 3.5, 'odds': 1.8771929824561404, 'src': 'fandual'},\n",
       "    {'amount': 2.5, 'odds': 1.9090909090909092, 'src': 'pointsbet'}]},\n",
       "  'moneyline': {'Real Madrid': [{'odds': 1.5714285714285714, 'src': 'caesar'},\n",
       "    {'odds': 1.625, 'src': 'fandual'},\n",
       "    {'odds': 1.625, 'src': 'pointsbet'}],\n",
       "   'FC Barcelona': [{'odds': 2.35, 'src': 'caesar'},\n",
       "    {'odds': 2.3, 'src': 'fandual'},\n",
       "    {'odds': 2.2199999999999998, 'src': 'pointsbet'}]},\n",
       "  'points': {'Real Madrid': [{'amount': 'Over 155.0',\n",
       "     'odds': 1.8695652173913042,\n",
       "     'src': 'caesar'},\n",
       "    {'amount': 'Over 155.5', 'odds': 1.9615384615384617, 'src': 'fandual'},\n",
       "    {'amount': 'Under 155.5', 'odds': 1.8333333333333335, 'src': 'pointsbet'}],\n",
       "   'FC Barcelona': [{'amount': 'Under 155.0',\n",
       "     'odds': 1.8695652173913042,\n",
       "     'src': 'caesar'},\n",
       "    {'amount': 'Under 155.5', 'odds': 1.8620689655172413, 'src': 'fandual'},\n",
       "    {'amount': 'Over 155.5',\n",
       "     'odds': 1.9090909090909092,\n",
       "     'src': 'pointsbet'}]}},\n",
       " {'match': 'SOUTHLAND SHARKS VS MANAWATU JETS',\n",
       "  'team1': 'Southland Sharks',\n",
       "  'team2': 'Manawatu Jets',\n",
       "  'spread': {'Southland Sharks': [{'amount': -5.5,\n",
       "     'odds': 1.9090909090909092,\n",
       "     'src': 'caesar'},\n",
       "    {'amount': -5.5, 'odds': 1.8695652173913042, 'src': 'fandual'},\n",
       "    {'amount': -5.5, 'odds': 1.8695652173913042, 'src': 'pointsbet'}],\n",
       "   'Manawatu Jets': [{'amount': 5.5,\n",
       "     'odds': 1.8333333333333335,\n",
       "     'src': 'caesar'},\n",
       "    {'amount': 5.5, 'odds': 1.900900900900901, 'src': 'fandual'},\n",
       "    {'amount': 5.5, 'odds': 1.8695652173913042, 'src': 'pointsbet'}]},\n",
       "  'moneyline': {'Southland Sharks': [{'odds': 1.4, 'src': 'caesar'},\n",
       "    {'odds': 1.4, 'src': 'fandual'},\n",
       "    {'odds': 1.4, 'src': 'pointsbet'}],\n",
       "   'Manawatu Jets': [{'odds': 2.9, 'src': 'caesar'},\n",
       "    {'odds': 2.9, 'src': 'fandual'},\n",
       "    {'odds': 2.85, 'src': 'pointsbet'}]},\n",
       "  'points': {'Southland Sharks': [{'amount': 'Over 176.5',\n",
       "     'odds': 1.8695652173913042,\n",
       "     'src': 'caesar'},\n",
       "    {'amount': 'Over 176.5', 'odds': 1.900900900900901, 'src': 'fandual'},\n",
       "    {'amount': 'Under 176.5', 'odds': 1.8695652173913042, 'src': 'pointsbet'}],\n",
       "   'Manawatu Jets': [{'amount': 'Under 176.5',\n",
       "     'odds': 1.8695652173913042,\n",
       "     'src': 'caesar'},\n",
       "    {'amount': 'Under 176.5', 'odds': 1.8695652173913042, 'src': 'fandual'},\n",
       "    {'amount': 'Over 176.5',\n",
       "     'odds': 1.8695652173913042,\n",
       "     'src': 'pointsbet'}]}},\n",
       " {'match': 'FRANKLIN BULLS VS WELLINGTON SAINTS',\n",
       "  'team1': 'Franklin Bulls',\n",
       "  'team2': 'Wellington Saints',\n",
       "  'spread': {'Franklin Bulls': [{'amount': 7.0,\n",
       "     'odds': 1.8695652173913042,\n",
       "     'src': 'caesar'},\n",
       "    {'amount': 7.5, 'odds': 1.8695652173913042, 'src': 'fandual'},\n",
       "    {'amount': 7.5, 'odds': 1.8, 'src': 'pointsbet'}],\n",
       "   'Wellington Saints': [{'amount': -7.0,\n",
       "     'odds': 1.8695652173913042,\n",
       "     'src': 'caesar'},\n",
       "    {'amount': -7.5, 'odds': 1.900900900900901, 'src': 'fandual'},\n",
       "    {'amount': -7.5, 'odds': 1.9523809523809523, 'src': 'pointsbet'}]},\n",
       "  'moneyline': {'Franklin Bulls': [{'odds': 3.6, 'src': 'caesar'},\n",
       "    {'odds': 3.8, 'src': 'fandual'},\n",
       "    {'odds': 3.5, 'src': 'pointsbet'}],\n",
       "   'Wellington Saints': [{'odds': 1.2857142857142856, 'src': 'caesar'},\n",
       "    {'odds': 1.2564102564102564, 'src': 'fandual'},\n",
       "    {'odds': 1.2857142857142856, 'src': 'pointsbet'}]},\n",
       "  'points': {'Franklin Bulls': [{'amount': 'Over 173.5',\n",
       "     'odds': 1.8695652173913042,\n",
       "     'src': 'caesar'},\n",
       "    {'amount': 'Over 172.5', 'odds': 1.900900900900901, 'src': 'fandual'},\n",
       "    {'amount': 'Under 172.5', 'odds': 1.8695652173913042, 'src': 'pointsbet'}],\n",
       "   'Wellington Saints': [{'amount': 'Under 173.5',\n",
       "     'odds': 1.8695652173913042,\n",
       "     'src': 'caesar'},\n",
       "    {'amount': 'Under 172.5', 'odds': 1.8695652173913042, 'src': 'fandual'},\n",
       "    {'amount': 'Over 172.5',\n",
       "     'odds': 1.8695652173913042,\n",
       "     'src': 'pointsbet'}]}},\n",
       " {'match': 'AS MONACO BASKET AT LDLC ASVEL LYON-VILLEURBANNE',\n",
       "  'team1': 'AS Monaco Basket',\n",
       "  'team2': 'LDLC ASVEL Lyon-Villeurbanne',\n",
       "  'spread': {'AS Monaco Basket': [{'amount': -3.5,\n",
       "     'odds': 1.900900900900901,\n",
       "     'src': 'fandual'}],\n",
       "   'LDLC ASVEL Lyon-Villeurbanne': [{'amount': 3.5,\n",
       "     'odds': 1.8695652173913042,\n",
       "     'src': 'fandual'}]},\n",
       "  'moneyline': {'AS Monaco Basket': [{'odds': 1.5813953488372094,\n",
       "     'src': 'fandual'}],\n",
       "   'LDLC ASVEL Lyon-Villeurbanne': [{'odds': 2.34, 'src': 'fandual'}]},\n",
       "  'points': {'AS Monaco Basket': [{'amount': 'Over 158.5',\n",
       "     'odds': 1.925925925925926,\n",
       "     'src': 'fandual'}],\n",
       "   'LDLC ASVEL Lyon-Villeurbanne': [{'amount': 'Under 158.5',\n",
       "     'odds': 1.847457627118644,\n",
       "     'src': 'fandual'}]}},\n",
       " {'match': 'KK FMP AT CRVENA ZVEZDA MTS BELGRADE',\n",
       "  'team1': 'KK FMP',\n",
       "  'team2': 'Crvena Zvezda MTS Belgrade',\n",
       "  'spread': {'KK FMP': [{'amount': 20.5,\n",
       "     'odds': 1.8849557522123894,\n",
       "     'src': 'fandual'}],\n",
       "   'Crvena Zvezda MTS Belgrade': [{'amount': -20.5,\n",
       "     'odds': 1.8849557522123894,\n",
       "     'src': 'fandual'}]},\n",
       "  'moneyline': {'KK FMP': [{'odds': 15.0, 'src': 'fandual'}],\n",
       "   'Crvena Zvezda MTS Belgrade': [{'odds': 1.0166666666666666,\n",
       "     'src': 'fandual'}]},\n",
       "  'points': {'KK FMP': [{'amount': 'Over 164.5',\n",
       "     'odds': 1.8849557522123894,\n",
       "     'src': 'fandual'}],\n",
       "   'Crvena Zvezda MTS Belgrade': [{'amount': 'Under 164.5',\n",
       "     'odds': 1.8849557522123894,\n",
       "     'src': 'fandual'}]}},\n",
       " {'match': 'SPAIN WOMEN AT SLOVENIA WOMEN',\n",
       "  'team1': 'Spain Women',\n",
       "  'team2': 'Slovenia Women',\n",
       "  'spread': {'Spain Women': [{'amount': -9.0,\n",
       "     'odds': 1.8928571428571428,\n",
       "     'src': 'fandual'},\n",
       "    {'amount': 9.5, 'odds': 1.9090909090909092, 'src': 'pointsbet'}],\n",
       "   'Slovenia Women': [{'amount': 9.0,\n",
       "     'odds': 1.8928571428571428,\n",
       "     'src': 'fandual'},\n",
       "    {'amount': -9.5, 'odds': 1.9090909090909092, 'src': 'pointsbet'}]},\n",
       "  'moneyline': {'Spain Women': [{'odds': 1.1818181818181819, 'src': 'fandual'},\n",
       "    {'odds': 4.4, 'src': 'pointsbet'}],\n",
       "   'Slovenia Women': [{'odds': 4.6, 'src': 'fandual'},\n",
       "    {'odds': 1.2105263157894737, 'src': 'pointsbet'}]},\n",
       "  'points': {'Spain Women': [{'amount': 'Over 141.5',\n",
       "     'odds': 1.8928571428571428,\n",
       "     'src': 'fandual'},\n",
       "    {'amount': 'Over 141.5', 'odds': 1.8695652173913042, 'src': 'pointsbet'}],\n",
       "   'Slovenia Women': [{'amount': 'Under 141.5',\n",
       "     'odds': 1.8928571428571428,\n",
       "     'src': 'fandual'},\n",
       "    {'amount': 'Under 141.5',\n",
       "     'odds': 1.8695652173913042,\n",
       "     'src': 'pointsbet'}]}}]"
      ]
     },
     "execution_count": 8,
     "metadata": {},
     "output_type": "execute_result"
    }
   ],
   "source": [
    "data"
   ]
  },
  {
   "cell_type": "code",
   "execution_count": 17,
   "id": "165311e2-d088-4ef7-bb69-aadedcad7aea",
   "metadata": {},
   "outputs": [],
   "source": [
    "import fuzzywuzzy\n",
    "from fuzzywuzzy import fuzz"
   ]
  },
  {
   "cell_type": "code",
   "execution_count": 27,
   "id": "b057db22-d7a2-46d2-835d-bbe4e6b5e780",
   "metadata": {},
   "outputs": [],
   "source": [
    "from compiledata import compiled"
   ]
  },
  {
   "cell_type": "code",
   "execution_count": 4,
   "id": "e97cb40f-f050-4f0d-9d99-1ad30cb527b5",
   "metadata": {},
   "outputs": [],
   "source": [
    "data = get_data()"
   ]
  },
  {
   "cell_type": "code",
   "execution_count": 20,
   "id": "31f15b6c-a05a-4c36-9fe9-f58ff0ecee0e",
   "metadata": {},
   "outputs": [
    {
     "name": "stdout",
     "output_type": "stream",
     "text": [
      "4\n",
      "0\n",
      "FC BAYERN MUNICH VS ALBA BERLIN\n",
      "OLIMPIA MILANO VS VIRTUS BOLOGNA\n",
      "REAL MADRID VS FC BARCELONA\n",
      "SOUTHLAND SHARKS VS MANAWATU JETS\n",
      "FRANKLIN BULLS VS WELLINGTON SAINTS\n",
      "1\n",
      "VIRTUS BOLOGNA AT MILANO\n",
      "2\n",
      "AS MONACO BASKET AT LDLC ASVEL LYON-VILLEURBANNE\n",
      "KK FMP AT CRVENA ZVEZDA MTS BELGRADE\n",
      "REAL MADRID AT FC BARCELONA\n",
      "FC BAYERN MUNCHEN AT ALBA BERLIN\n",
      "SIT ZEROFEES SOUTHLAND SHARKS AT PB AND SMM MANAWATU JETS\n",
      "ENVIRONZ FRANKLIN BULLS AT WELLINGTON SAINTS\n",
      "AX ARMANI EXCHANGE OLIMPIA MILAN AT VIRTUS SEGAFREDO BOLOGNA\n",
      "SPAIN WOMEN AT SLOVENIA WOMEN\n",
      "3\n",
      "FC BARCELONA AT REAL MADRID\n",
      "ALBA BERLIN AT FC BAYERN MÜNCHEN\n",
      "PB AND SMM MANAWATU JETS AT SIT ZEROFEES SOUTHLAND SHARKS\n",
      "WELLINGTON SAINTS AT ENVIRONZ FRANKLIN BULLS\n",
      "VIRTUS SEGAFREDO BOLOGNA AT AX ARMANI EXCHANGE OLIMPIA MILAN\n",
      "SLOVENIA WOMEN AT SPAIN WOMEN\n"
     ]
    }
   ],
   "source": [
    "compiled(data1,data2,data3,data4)"
   ]
  },
  {
   "cell_type": "code",
   "execution_count": 33,
   "id": "16a67b35-0f3c-4468-be98-d3564d2aed01",
   "metadata": {},
   "outputs": [
    {
     "name": "stdout",
     "output_type": "stream",
     "text": [
      "5\n",
      "4\n",
      "3\n",
      "2\n",
      "1\n",
      "0\n",
      "-1\n",
      "-2\n"
     ]
    }
   ],
   "source": [
    "for i in range(5, -3, -1):\n",
    "    print(i)"
   ]
  },
  {
   "cell_type": "code",
   "execution_count": null,
   "id": "c74b7811-03cd-406a-9d0a-44d1e674350c",
   "metadata": {},
   "outputs": [],
   "source": []
  },
  {
   "cell_type": "code",
   "execution_count": 4,
   "id": "0c7b09de-a635-4f5b-8e3f-834d9cd4ed56",
   "metadata": {},
   "outputs": [
    {
     "name": "stderr",
     "output_type": "stream",
     "text": [
      "/var/folders/7s/6wrlqwfs5y1g71y3cg83c94c0000gn/T/ipykernel_82169/3797978472.py:1: DeprecationWarning: executable_path has been deprecated, please pass in a Service object\n",
      "  driver = webdriver.Chrome(\"/Users/bennysun/Downloads/chromedriver\")\n"
     ]
    }
   ],
   "source": [
    "driver = webdriver.Chrome(\"/Users/bennysun/Downloads/chromedriver\")\n",
    "driver.get(\"https://nj.pointsbet.com/sports/basketball\")"
   ]
  },
  {
   "cell_type": "code",
   "execution_count": 13,
   "id": "79512e47-477e-4deb-95da-f6f534b35113",
   "metadata": {},
   "outputs": [
    {
     "name": "stderr",
     "output_type": "stream",
     "text": [
      "/var/folders/7s/6wrlqwfs5y1g71y3cg83c94c0000gn/T/ipykernel_81530/3629592340.py:1: DeprecationWarning: find_elements_by_xpath is deprecated. Please use find_elements(by=By.XPATH, value=xpath) instead\n",
      "  events = driver.find_elements_by_xpath('//div[@class = \"fdz3fpy f1yn18fe f93i66z\"]')\n"
     ]
    }
   ],
   "source": [
    "events = driver.find_elements_by_xpath('//div[@class = \"fdz3fpy f1yn18fe f93i66z\"]')"
   ]
  },
  {
   "cell_type": "code",
   "execution_count": null,
   "id": "0ce5886e-000e-4e1e-ad65-627a426e3059",
   "metadata": {},
   "outputs": [],
   "source": [
    "events = "
   ]
  }
 ],
 "metadata": {
  "kernelspec": {
   "display_name": "Python 3 (ipykernel)",
   "language": "python",
   "name": "python3"
  },
  "language_info": {
   "codemirror_mode": {
    "name": "ipython",
    "version": 3
   },
   "file_extension": ".py",
   "mimetype": "text/x-python",
   "name": "python",
   "nbconvert_exporter": "python",
   "pygments_lexer": "ipython3",
   "version": "3.9.7"
  }
 },
 "nbformat": 4,
 "nbformat_minor": 5
}
