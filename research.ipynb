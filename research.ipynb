{
 "cells": [
  {
   "cell_type": "code",
   "execution_count": 3,
   "id": "03743d72-a808-441f-94e7-17b669b7b2d1",
   "metadata": {},
   "outputs": [],
   "source": [
    "import sys\n",
    "sys.path.insert(0, '/Users/bennysun/sports-arb/scripts')"
   ]
  },
  {
   "cell_type": "code",
   "execution_count": 2,
   "id": "70b758a1-aa64-4ad3-9629-658cf6f8889d",
   "metadata": {},
   "outputs": [],
   "source": [
    "from convertodds import *"
   ]
  },
  {
   "cell_type": "code",
   "execution_count": 19,
   "id": "cddfa8be-fd42-4553-8769-69bc49d72fea",
   "metadata": {},
   "outputs": [
    {
     "name": "stdout",
     "output_type": "stream",
     "text": [
      "2.4\n",
      "1.9090909090909092\n",
      "2.5\n",
      "2.4\n"
     ]
    }
   ],
   "source": [
    "for i in [140, 140, 150, 140]:\n",
    "    print(american_to_dec(i))"
   ]
  },
  {
   "cell_type": "code",
   "execution_count": 22,
   "id": "2b6ec474-37d5-47f7-ab82-cce51a01e1f2",
   "metadata": {},
   "outputs": [
    {
     "name": "stdout",
     "output_type": "stream",
     "text": [
      "1.625\n",
      "1.5847953216374269\n",
      "1.5714285714285714\n",
      "1.6024096385542168\n"
     ]
    }
   ],
   "source": [
    "for i in [-160, -171, -175, -166]:\n",
    "    print(american_to_dec(i))"
   ]
  },
  {
   "cell_type": "code",
   "execution_count": 8,
   "id": "26f82a85-30f2-452a-b80d-829d3d90ed35",
   "metadata": {},
   "outputs": [
    {
     "name": "stdout",
     "output_type": "stream",
     "text": [
      "Requirement already satisfied: beautifulsoup4 in /Users/bennysun/opt/anaconda3/lib/python3.9/site-packages (4.10.0)\n",
      "Requirement already satisfied: soupsieve>1.2 in /Users/bennysun/opt/anaconda3/lib/python3.9/site-packages (from beautifulsoup4) (2.2.1)\n",
      "Note: you may need to restart the kernel to use updated packages.\n"
     ]
    }
   ],
   "source": [
    "pip install beautifulsoup4"
   ]
  },
  {
   "cell_type": "code",
   "execution_count": 23,
   "id": "81ae4614-9d45-4023-89a9-89bd4e3e45eb",
   "metadata": {},
   "outputs": [
    {
     "data": {
      "text/plain": [
       "1.0153846153846153"
      ]
     },
     "execution_count": 23,
     "metadata": {},
     "output_type": "execute_result"
    }
   ],
   "source": [
    "1/1.625 + 1/2.5"
   ]
  },
  {
   "cell_type": "code",
   "execution_count": 24,
   "id": "8a3d9c72-06b3-48b0-941f-8ac2609ecc8f",
   "metadata": {},
   "outputs": [],
   "source": [
    "import requests"
   ]
  },
  {
   "cell_type": "code",
   "execution_count": 25,
   "id": "150e2aed-78ed-4386-b078-cc2a7294bfbe",
   "metadata": {},
   "outputs": [],
   "source": [
    "page = requests.get(\"https://www.williamhill.com/us/nj/bet/basketball/events/all?id=5806c896-4eec-4de1-874f-afed93114b8c\")"
   ]
  },
  {
   "cell_type": "code",
   "execution_count": 27,
   "id": "c6e3d863-2b7e-4466-bf1f-cd2f4d0fa9b9",
   "metadata": {},
   "outputs": [],
   "source": [
    "from bs4 import BeautifulSoup"
   ]
  },
  {
   "cell_type": "code",
   "execution_count": 28,
   "id": "9b0498fe-87da-4010-a91d-29871d0e885b",
   "metadata": {},
   "outputs": [],
   "source": [
    "soup = BeautifulSoup(page.content, 'html.parser')"
   ]
  },
  {
   "cell_type": "code",
   "execution_count": 29,
   "id": "101f5eb6-e057-4633-af50-d0f0894aa2f0",
   "metadata": {},
   "outputs": [
    {
     "name": "stdout",
     "output_type": "stream",
     "text": [
      "<!DOCTYPE html>\n",
      "<html lang=\"en\">\n",
      " <head>\n",
      "  <title>\n",
      "   Caesars Sportsbook\n",
      "  </title>\n",
      "  <meta charset=\"utf-8\"/>\n",
      "  <meta content=\"IE=edge\" http-equiv=\"X-UA-Compatible\"/>\n",
      "  <meta content=\"user-scalable=no,initial-scale=1,maximum-scale=1,minimum-scale=1,width=device-width,height=device-height,viewport-fit=cover\" name=\"viewport\"/>\n",
      "  <link href=\"https://www.google.com\" rel=\"preconnect\"/>\n",
      "  <link href=\"https://www.williamhill.com/us/build/czr/manifest.json\" rel=\"manifest\">\n",
      "   <link href=\"https://www.williamhill.com/us/build/czr/apple-touch-icon.png\" rel=\"apple-touch-icon\" sizes=\"180x180\"/>\n",
      "   <link href=\"https://www.williamhill.com/us/build/czr/favicon-32x32.png\" rel=\"icon\" sizes=\"32x32\" type=\"image/png\"/>\n",
      "   <link href=\"https://www.williamhill.com/us/build/czr/favicon-16x16.png\" rel=\"icon\" sizes=\"16x16\" type=\"image/png\"/>\n",
      "   <link color=\"#0b1550\" href=\"https://www.williamhill.com/us/build/czr/safari-pinned-tab.svg\" rel=\"mask-icon\"/>\n",
      "   <meta content=\"#0b1550\" name=\"msapplication-TileColor\"/>\n",
      "   <meta content=\"#ffffff\" name=\"theme-color\"/>\n",
      "   <script>\n",
      "    window.dataLayer=window.dataLayer||[]\n",
      "   </script>\n",
      "   <script>\n",
      "    if(void 0===process)var process={}\n",
      "   </script>\n",
      "   <script defer=\"defer\" src=\"https://www.williamhill.com/us/build/czr/static/js/660.66838082.js\">\n",
      "   </script>\n",
      "   <script defer=\"defer\" src=\"https://www.williamhill.com/us/build/czr/static/js/main.34048b86.js\">\n",
      "   </script>\n",
      "   <link href=\"https://www.williamhill.com/us/build/czr/czr.css\" rel=\"stylesheet\"/>\n",
      "   <link href=\"https://www.williamhill.com/us/build/czr/static/css/660.890af720.css\" rel=\"stylesheet\"/>\n",
      "   <link href=\"https://www.williamhill.com/us/build/czr/static/css/main.65e950be.css\" rel=\"stylesheet\"/>\n",
      "  </link>\n",
      " </head>\n",
      " <body>\n",
      "  <noscript>\n",
      "   To use Caesars Sportsbook, please enable JavaScript\n",
      "  </noscript>\n",
      "  <div id=\"app\">\n",
      "  </div>\n",
      "  <div id=\"modal-root\">\n",
      "  </div>\n",
      "  <script>\n",
      "   window.BUILD_INFO={COMMIT_SHA:\"85554ea4\",PIPELINE_ID:\"549963016\"},window.environment=\"prod\",window.newRelicId=\"\",window.brand=\"czr\"\n",
      "  </script>\n",
      "  <script defer=\"defer\" id=\"vs-adobeAnalytics\" src=\"https://www.williamhill.com/us/build/czr/vendorsScripts/adobeAnalytics.js\">\n",
      "  </script>\n",
      "  <script defer=\"defer\" id=\"vs-googleTagManager\" src=\"https://www.williamhill.com/us/build/czr/vendorsScripts/googleTagManager.js\">\n",
      "  </script>\n",
      "  <script defer=\"defer\" id=\"vs-initUsabilla\" src=\"https://www.williamhill.com/us/build/czr/vendorsScripts/initUsabilla.js\">\n",
      "  </script>\n",
      "  <script id=\"vs-newrelic\" src=\"https://www.williamhill.com/us/build/czr/vendorsScripts/newrelic.js\">\n",
      "  </script>\n",
      " </body>\n",
      "</html>\n"
     ]
    }
   ],
   "source": [
    "print(soup.prettify())"
   ]
  },
  {
   "cell_type": "code",
   "execution_count": 30,
   "id": "d47c1b65-9103-46d2-8c1b-d9705f5391eb",
   "metadata": {},
   "outputs": [
    {
     "data": {
      "text/plain": [
       "['html',\n",
       " <html lang=\"en\"><head><title>Caesars Sportsbook</title><meta charset=\"utf-8\"/><meta content=\"IE=edge\" http-equiv=\"X-UA-Compatible\"/><meta content=\"user-scalable=no,initial-scale=1,maximum-scale=1,minimum-scale=1,width=device-width,height=device-height,viewport-fit=cover\" name=\"viewport\"/><link href=\"https://www.google.com\" rel=\"preconnect\"/><link href=\"https://www.williamhill.com/us/build/czr/manifest.json\" rel=\"manifest\"><link href=\"https://www.williamhill.com/us/build/czr/apple-touch-icon.png\" rel=\"apple-touch-icon\" sizes=\"180x180\"/><link href=\"https://www.williamhill.com/us/build/czr/favicon-32x32.png\" rel=\"icon\" sizes=\"32x32\" type=\"image/png\"/><link href=\"https://www.williamhill.com/us/build/czr/favicon-16x16.png\" rel=\"icon\" sizes=\"16x16\" type=\"image/png\"/><link color=\"#0b1550\" href=\"https://www.williamhill.com/us/build/czr/safari-pinned-tab.svg\" rel=\"mask-icon\"/><meta content=\"#0b1550\" name=\"msapplication-TileColor\"/><meta content=\"#ffffff\" name=\"theme-color\"/><script>window.dataLayer=window.dataLayer||[]</script><script>if(void 0===process)var process={}</script><script defer=\"defer\" src=\"https://www.williamhill.com/us/build/czr/static/js/660.66838082.js\"></script><script defer=\"defer\" src=\"https://www.williamhill.com/us/build/czr/static/js/main.34048b86.js\"></script><link href=\"https://www.williamhill.com/us/build/czr/czr.css\" rel=\"stylesheet\"/><link href=\"https://www.williamhill.com/us/build/czr/static/css/660.890af720.css\" rel=\"stylesheet\"/><link href=\"https://www.williamhill.com/us/build/czr/static/css/main.65e950be.css\" rel=\"stylesheet\"/></link></head><body><noscript>To use Caesars Sportsbook, please enable JavaScript</noscript><div id=\"app\"></div><div id=\"modal-root\"></div><script>window.BUILD_INFO={COMMIT_SHA:\"85554ea4\",PIPELINE_ID:\"549963016\"},window.environment=\"prod\",window.newRelicId=\"\",window.brand=\"czr\"</script><script defer=\"defer\" id=\"vs-adobeAnalytics\" src=\"https://www.williamhill.com/us/build/czr/vendorsScripts/adobeAnalytics.js\"></script><script defer=\"defer\" id=\"vs-googleTagManager\" src=\"https://www.williamhill.com/us/build/czr/vendorsScripts/googleTagManager.js\"></script><script defer=\"defer\" id=\"vs-initUsabilla\" src=\"https://www.williamhill.com/us/build/czr/vendorsScripts/initUsabilla.js\"></script><script id=\"vs-newrelic\" src=\"https://www.williamhill.com/us/build/czr/vendorsScripts/newrelic.js\"></script></body></html>]"
      ]
     },
     "execution_count": 30,
     "metadata": {},
     "output_type": "execute_result"
    }
   ],
   "source": [
    "list(soup.children)"
   ]
  },
  {
   "cell_type": "code",
   "execution_count": 32,
   "id": "c96e5eb8-c383-4983-b0bb-e8d5d62d6cf0",
   "metadata": {},
   "outputs": [
    {
     "data": {
      "text/plain": [
       "[]"
      ]
     },
     "execution_count": 32,
     "metadata": {},
     "output_type": "execute_result"
    }
   ],
   "source": [
    "soup.find_all('button')"
   ]
  },
  {
   "cell_type": "code",
   "execution_count": 4,
   "id": "4d13eec7-7212-4e26-8469-dcfda19483e8",
   "metadata": {},
   "outputs": [],
   "source": [
    "from selenium import webdriver\n",
    "from selenium.webdriver.common.keys import Keys\n",
    "import pandas as pd"
   ]
  },
  {
   "cell_type": "code",
   "execution_count": 5,
   "id": "7e7f58fb-20b7-4d64-99bc-64e6b8ced6e5",
   "metadata": {},
   "outputs": [
    {
     "name": "stderr",
     "output_type": "stream",
     "text": [
      "/var/folders/7s/6wrlqwfs5y1g71y3cg83c94c0000gn/T/ipykernel_72053/3976088808.py:1: DeprecationWarning: executable_path has been deprecated, please pass in a Service object\n",
      "  driver = webdriver.Chrome(\"/Users/bennysun/Downloads/chromedriver\")\n"
     ]
    }
   ],
   "source": [
    "driver = webdriver.Chrome(\"/Users/bennysun/Downloads/chromedriver\")"
   ]
  },
  {
   "cell_type": "code",
   "execution_count": 6,
   "id": "6f4ea7de-fe59-4f70-85a7-09816f70db81",
   "metadata": {},
   "outputs": [],
   "source": [
    "driver.get(\"https://www.williamhill.com/us/nj/bet/basketball/events/all?id=5806c896-4eec-4de1-874f-afed93114b8c\")"
   ]
  },
  {
   "cell_type": "code",
   "execution_count": 9,
   "id": "5f82ec26-bae3-4b0c-b31f-1e46f181e2ac",
   "metadata": {},
   "outputs": [
    {
     "name": "stderr",
     "output_type": "stream",
     "text": [
      "/var/folders/7s/6wrlqwfs5y1g71y3cg83c94c0000gn/T/ipykernel_72053/1144702696.py:1: DeprecationWarning: find_elements_by_xpath is deprecated. Please use find_elements(by=By.XPATH, value=xpath) instead\n",
      "  events = driver.find_elements_by_xpath('//div[@class=\"eventList\"]')\n"
     ]
    }
   ],
   "source": [
    "events = driver.find_elements_by_xpath('//div[@class=\"eventList\"]')"
   ]
  },
  {
   "cell_type": "code",
   "execution_count": 1,
   "id": "67cd4805-61a1-4acd-9328-1a2e9cd16887",
   "metadata": {},
   "outputs": [
    {
     "ename": "NameError",
     "evalue": "name 'events' is not defined",
     "output_type": "error",
     "traceback": [
      "\u001b[0;31m---------------------------------------------------------------------------\u001b[0m",
      "\u001b[0;31mNameError\u001b[0m                                 Traceback (most recent call last)",
      "\u001b[0;32m/var/folders/7s/6wrlqwfs5y1g71y3cg83c94c0000gn/T/ipykernel_72424/4258276245.py\u001b[0m in \u001b[0;36m<module>\u001b[0;34m\u001b[0m\n\u001b[0;32m----> 1\u001b[0;31m \u001b[0mevents\u001b[0m\u001b[0;34m[\u001b[0m\u001b[0;36m0\u001b[0m\u001b[0;34m]\u001b[0m\u001b[0;34m.\u001b[0m\u001b[0mtext\u001b[0m\u001b[0;34m.\u001b[0m\u001b[0msplit\u001b[0m\u001b[0;34m(\u001b[0m\u001b[0;34m\"\\n\"\u001b[0m\u001b[0;34m)\u001b[0m\u001b[0;34m\u001b[0m\u001b[0;34m\u001b[0m\u001b[0m\n\u001b[0m",
      "\u001b[0;31mNameError\u001b[0m: name 'events' is not defined"
     ]
    }
   ],
   "source": [
    "events[0].text.split(\"\\n\")"
   ]
  },
  {
   "cell_type": "code",
   "execution_count": 1,
   "id": "cf1a2ef4-49a4-4eec-b0fe-ecccedb076ae",
   "metadata": {},
   "outputs": [],
   "source": [
    "import sys\n",
    "sys.path.insert(0, '/Users/bennysun/sports-arb/scripts')\n",
    "from caesarscrape import *"
   ]
  },
  {
   "cell_type": "code",
   "execution_count": 2,
   "id": "0f756624-788a-43b7-b250-76bd00076409",
   "metadata": {},
   "outputs": [
    {
     "data": {
      "text/plain": [
       "[{'match': 'GOLDEN STATE WARRIORS AT BOSTON CELTICS',\n",
       "  'date': 'JUN 16',\n",
       "  'team1': 'Golden State Warriors',\n",
       "  'team2': 'Boston Celtics',\n",
       "  'spread': {'Golden State Warriors': {'amount': 3.5,\n",
       "    'odds': 1.9090909090909092},\n",
       "   'Boston Celtics': {'amount': -3.5, 'odds': 1.9090909090909092}},\n",
       "  'moneyline': {'Golden State Warriors': {'odds': 2.4},\n",
       "   'Boston Celtics': {'odds': 1.625}},\n",
       "  'points': {'Golden State Warriors': {'amount': 'Over 210.5',\n",
       "    'odds': 1.9090909090909092},\n",
       "   'Boston Celtics': {'amount': 'Under 210.5', 'odds': 1.9090909090909092}}}]"
      ]
     },
     "execution_count": 2,
     "metadata": {},
     "output_type": "execute_result"
    }
   ],
   "source": [
    "caesar()"
   ]
  },
  {
   "cell_type": "code",
   "execution_count": 15,
   "id": "e797be8d-868e-4aa0-b2c9-a3e9d4935417",
   "metadata": {},
   "outputs": [],
   "source": [
    "clean_data = {}"
   ]
  },
  {
   "cell_type": "code",
   "execution_count": 14,
   "id": "2dada9d1-4fea-4803-a1f2-1e1fa2e9893b",
   "metadata": {},
   "outputs": [
    {
     "data": {
      "text/plain": [
       "['GOLDEN STATE WARRIORS AT BOSTON CELTICS',\n",
       " 'JUN 16 | 9:00PM',\n",
       " 'Golden State Warriors',\n",
       " 'Boston Celtics',\n",
       " 'SPREAD',\n",
       " '+3.5',\n",
       " '-110',\n",
       " '-3.5',\n",
       " '-110',\n",
       " 'MONEY LINE',\n",
       " '+140',\n",
       " '-160',\n",
       " 'TOTAL POINTS',\n",
       " 'Over 210.5',\n",
       " '-110',\n",
       " 'Under 210.5',\n",
       " '-110']"
      ]
     },
     "execution_count": 14,
     "metadata": {},
     "output_type": "execute_result"
    }
   ],
   "source": [
    "event"
   ]
  },
  {
   "cell_type": "code",
   "execution_count": 20,
   "id": "76a1597d-ea8f-476b-895e-8e069e8f1634",
   "metadata": {},
   "outputs": [],
   "source": [
    "clean_data[\"match\"] = event[0]\n",
    "clean_data[\"date\"] = event[1].split(\" |\")[0]\n",
    "clean_data[\"team1\"] = event[2]\n",
    "clean_data[\"team2\"] = event[3]\n",
    "clean_data[\"spread\"] = {}\n",
    "clean_data[\"spread\"][event[2]] = {\"Amount\":event[5]}"
   ]
  },
  {
   "cell_type": "code",
   "execution_count": 21,
   "id": "1cbaa184-c4df-4bcd-adb5-aaa68db90d1d",
   "metadata": {},
   "outputs": [
    {
     "data": {
      "text/plain": [
       "{'match': 'GOLDEN STATE WARRIORS AT BOSTON CELTICS',\n",
       " 'date': 'JUN 16',\n",
       " 'team1': 'Golden State Warriors',\n",
       " 'team2': 'Boston Celtics',\n",
       " 'spread': {'Golden State Warriors': {'Amount': '+3.5'}}}"
      ]
     },
     "execution_count": 21,
     "metadata": {},
     "output_type": "execute_result"
    }
   ],
   "source": [
    "clean_data"
   ]
  },
  {
   "cell_type": "code",
   "execution_count": null,
   "id": "e4918724-0ecd-49da-ab1f-b69380ee69dd",
   "metadata": {},
   "outputs": [],
   "source": []
  }
 ],
 "metadata": {
  "kernelspec": {
   "display_name": "Python 3 (ipykernel)",
   "language": "python",
   "name": "python3"
  },
  "language_info": {
   "codemirror_mode": {
    "name": "ipython",
    "version": 3
   },
   "file_extension": ".py",
   "mimetype": "text/x-python",
   "name": "python",
   "nbconvert_exporter": "python",
   "pygments_lexer": "ipython3",
   "version": "3.9.7"
  }
 },
 "nbformat": 4,
 "nbformat_minor": 5
}
