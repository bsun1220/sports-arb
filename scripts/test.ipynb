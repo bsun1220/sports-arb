{
 "cells": [
  {
   "cell_type": "code",
   "execution_count": 1,
   "id": "bb8f0fc0-f330-4b14-b10e-f0f2dca64acb",
   "metadata": {},
   "outputs": [],
   "source": [
    "from selenium import webdriver\n",
    "from selenium.webdriver.common.keys import Keys\n",
    "import time\n",
    "import pandas as pd\n",
    "import sys\n",
    "from draftkingsscrape import draftking\n",
    "from caesarscrape import caesar\n",
    "from fandualscrape import fandual\n",
    "from pointsbetscrape import pointsbet\n",
    "from match import match_source\n",
    "from sort import sort_data\n",
    "from statistics import stat\n",
    "import copy\n",
    "from complete_task import find"
   ]
  },
  {
   "cell_type": "code",
   "execution_count": 6,
   "id": "d867a9da-64d6-4ac4-834d-391395c6ed28",
   "metadata": {},
   "outputs": [],
   "source": [
    "data = find()"
   ]
  },
  {
   "cell_type": "code",
   "execution_count": 15,
   "id": "f1cebf66-a2f6-474d-96d9-eea9dafa8519",
   "metadata": {},
   "outputs": [
    {
     "name": "stdout",
     "output_type": "stream",
     "text": [
      "Success\n"
     ]
    }
   ],
   "source": [
    "import requests\n",
    "\n",
    "url = \"http://localhost:5000/sports\"\n",
    "obj = {\"data\":data}\n",
    "\n",
    "x = requests.put(url, json = obj)\n",
    "print(x.text)"
   ]
  },
  {
   "cell_type": "code",
   "execution_count": 16,
   "id": "2f4c7ef7-eff6-4c53-9882-4ba114f5f457",
   "metadata": {},
   "outputs": [
    {
     "data": {
      "text/plain": [
       "[{'match': 'LARISA VS PROMITHEAS PATRAS',\n",
       "  'team1': 'Larisa',\n",
       "  'team2': 'Promitheas Patras',\n",
       "  'spread': {'Larisa': {'amount': -4.5,\n",
       "    'odds': 1.8695652173913042,\n",
       "    'src': 'caesar'},\n",
       "   'Promitheas Patras': {'amount': 4.5,\n",
       "    'odds': 1.8695652173913042,\n",
       "    'src': 'caesar'}},\n",
       "  'moneyline': {'Larisa': {'odds': 1.5, 'src': 'caesar'},\n",
       "   'Promitheas Patras': {'odds': 2.6, 'src': 'caesar'}},\n",
       "  'points': [{'amount': 'Under 163.5',\n",
       "    'odds': 1.8695652173913042,\n",
       "    'src': 'caesar'},\n",
       "   {'amount': 'Over 163.5', 'odds': 1.8695652173913042, 'src': 'caesar'}]},\n",
       " {'match': 'COL AVALANCHE AT TB LIGHTNING',\n",
       "  'team1': 'COL Avalanche',\n",
       "  'team2': 'TB Lightning',\n",
       "  'spread': {'COL Avalanche': {'amount': 1.5,\n",
       "    'odds': 1.392156862745098,\n",
       "    'src': 'draftkings'},\n",
       "   'TB Lightning': {'amount': -1.5, 'odds': 3.15, 'src': 'draftkings'}},\n",
       "  'moneyline': {'COL Avalanche': {'odds': 1.9523809523809523,\n",
       "    'src': 'draftkings'},\n",
       "   'TB Lightning': {'odds': 1.8695652173913042, 'src': 'draftkings'}},\n",
       "  'points': [{'amount': 'Under 6',\n",
       "    'odds': 1.8333333333333335,\n",
       "    'src': 'draftkings'},\n",
       "   {'amount': 'Over 6', 'odds': 2.0, 'src': 'draftkings'}]},\n",
       " {'match': 'EGYPT AT JORDAN',\n",
       "  'team1': 'Egypt',\n",
       "  'team2': 'Jordan',\n",
       "  'spread': {'Egypt': {'amount': -4.5,\n",
       "    'odds': 1.8771929824561404,\n",
       "    'src': 'fandual'},\n",
       "   'Jordan': {'amount': 4.5, 'odds': 1.9523809523809523, 'src': 'pointsbet'}},\n",
       "  'moneyline': {'Egypt': {'odds': 1.4694835680751175, 'src': 'pointsbet'},\n",
       "   'Jordan': {'odds': 2.7199999999999998, 'src': 'fandual'}},\n",
       "  'points': [{'amount': 'Under 141.5', 'odds': 2.08, 'src': 'pointsbet'},\n",
       "   {'amount': 'Over 143.5', 'odds': 1.9433962264150944, 'src': 'fandual'}]}]"
      ]
     },
     "execution_count": 16,
     "metadata": {},
     "output_type": "execute_result"
    }
   ],
   "source": [
    "data"
   ]
  },
  {
   "cell_type": "code",
   "execution_count": null,
   "id": "a75c4f53-6df3-4318-a264-d810ca68859d",
   "metadata": {},
   "outputs": [],
   "source": []
  }
 ],
 "metadata": {
  "kernelspec": {
   "display_name": "Python 3 (ipykernel)",
   "language": "python",
   "name": "python3"
  },
  "language_info": {
   "codemirror_mode": {
    "name": "ipython",
    "version": 3
   },
   "file_extension": ".py",
   "mimetype": "text/x-python",
   "name": "python",
   "nbconvert_exporter": "python",
   "pygments_lexer": "ipython3",
   "version": "3.9.7"
  }
 },
 "nbformat": 4,
 "nbformat_minor": 5
}
