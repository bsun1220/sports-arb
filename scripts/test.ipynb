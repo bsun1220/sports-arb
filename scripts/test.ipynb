{
 "cells": [
  {
   "cell_type": "code",
   "execution_count": 1,
   "id": "bb8f0fc0-f330-4b14-b10e-f0f2dca64acb",
   "metadata": {},
   "outputs": [],
   "source": [
    "from selenium import webdriver\n",
    "from selenium.webdriver.common.keys import Keys\n",
    "import time\n",
    "import pandas as pd\n",
    "import sys\n",
    "from draftkingsscrape import draftking\n",
    "from caesarscrape import caesar\n",
    "from fandualscrape import fandual\n",
    "from pointsbetscrape import pointsbet\n",
    "from match import match_source\n",
    "from sort import sort_data\n",
    "from statistics import stat\n",
    "import copy\n",
    "from complete_task import find"
   ]
  },
  {
   "cell_type": "code",
   "execution_count": 10,
   "id": "d867a9da-64d6-4ac4-834d-391395c6ed28",
   "metadata": {},
   "outputs": [
    {
     "name": "stdout",
     "output_type": "stream",
     "text": [
      "Success\n"
     ]
    }
   ],
   "source": [
    "find()"
   ]
  },
  {
   "cell_type": "code",
   "execution_count": 8,
   "id": "b8ea5fde-75b9-4408-8ac9-34bddd923941",
   "metadata": {},
   "outputs": [
    {
     "name": "stderr",
     "output_type": "stream",
     "text": [
      "/var/folders/7s/6wrlqwfs5y1g71y3cg83c94c0000gn/T/ipykernel_17320/3512064491.py:1: DeprecationWarning: executable_path has been deprecated, please pass in a Service object\n",
      "  driver = webdriver.Chrome(\"./chromedriver\")\n"
     ]
    }
   ],
   "source": [
    "driver = webdriver.Chrome(\"./chromedriver\")\n",
    "driver.get(\"https://nj.pointsbet.com/sports/basketball\")"
   ]
  },
  {
   "cell_type": "code",
   "execution_count": 9,
   "id": "44518db5-15b6-4823-96ea-4886109038e0",
   "metadata": {},
   "outputs": [
    {
     "data": {
      "text/plain": [
       "[{'match': 'DALLAS WINGS AT ATLANTA DREAM',\n",
       "  'team1': 'Dallas Wings',\n",
       "  'team2': 'Atlanta Dream',\n",
       "  'spread': {'Dallas Wings': {'amount': -4.0, 'odds': 1.9090909090909092},\n",
       "   'Atlanta Dream': {'amount': 4.0, 'odds': 1.9090909090909092}},\n",
       "  'moneyline': {'Dallas Wings': {'odds': 1.5681818181818183},\n",
       "   'Atlanta Dream': {'odds': 2.45}},\n",
       "  'points': {'Dallas Wings': {'amount': 'Over 164',\n",
       "    'odds': 1.9090909090909092},\n",
       "   'Atlanta Dream': {'amount': 'Under 164', 'odds': 1.9090909090909092}}},\n",
       " {'match': 'MINNESOTA LYNX AT PHOENIX MERCURY',\n",
       "  'team1': 'Minnesota Lynx',\n",
       "  'team2': 'Phoenix Mercury',\n",
       "  'spread': {'Minnesota Lynx': {'amount': 5.0, 'odds': 2.0},\n",
       "   'Phoenix Mercury': {'amount': -5.0, 'odds': 1.8264462809917354}},\n",
       "  'moneyline': {'Minnesota Lynx': {'odds': 2.9},\n",
       "   'Phoenix Mercury': {'odds': 1.423728813559322}},\n",
       "  'points': {'Minnesota Lynx': {'amount': 'Over 168',\n",
       "    'odds': 1.9090909090909092},\n",
       "   'Phoenix Mercury': {'amount': 'Under 168', 'odds': 1.9090909090909092}}},\n",
       " {'match': 'CHICAGO SKY AT LAS VEGAS ACES',\n",
       "  'team1': 'Chicago Sky',\n",
       "  'team2': 'Las Vegas Aces',\n",
       "  'spread': {'Chicago Sky': {'amount': 7.5, 'odds': 1.9090909090909092},\n",
       "   'Las Vegas Aces': {'amount': -7.5, 'odds': 1.9090909090909092}},\n",
       "  'moneyline': {'Chicago Sky': {'odds': 3.7},\n",
       "   'Las Vegas Aces': {'odds': 1.289855072463768}},\n",
       "  'points': {'Chicago Sky': {'amount': 'Over 174.5',\n",
       "    'odds': 1.9090909090909092},\n",
       "   'Las Vegas Aces': {'amount': 'Under 174.5', 'odds': 1.9090909090909092}}},\n",
       " {'match': 'WASHINGTON MYSTICS AT LOS ANGELES SPARKS',\n",
       "  'team1': 'Washington Mystics',\n",
       "  'team2': 'Los Angeles Sparks',\n",
       "  'spread': {'Washington Mystics': {'amount': -2.5,\n",
       "    'odds': 1.9523809523809523},\n",
       "   'Los Angeles Sparks': {'amount': 2.5, 'odds': 1.8695652173913042}},\n",
       "  'moneyline': {'Washington Mystics': {'odds': 1.7142857142857144},\n",
       "   'Los Angeles Sparks': {'odds': 2.2}},\n",
       "  'points': {'Washington Mystics': {'amount': 'Over 163.5',\n",
       "    'odds': 1.9090909090909092},\n",
       "   'Los Angeles Sparks': {'amount': 'Under 163.5',\n",
       "    'odds': 1.9090909090909092}}},\n",
       " {'match': 'LDLC ASVEL LYON-VILLEURBANNE AT AS MONACO BASKET',\n",
       "  'team1': 'LDLC ASVEL Lyon-Villeurbanne',\n",
       "  'team2': 'AS Monaco Basket',\n",
       "  'spread': {'LDLC ASVEL Lyon-Villeurbanne': {'amount': 3.5,\n",
       "    'odds': 1.8695652173913042},\n",
       "   'AS Monaco Basket': {'amount': -3.5, 'odds': 1.8695652173913042}},\n",
       "  'moneyline': {'LDLC ASVEL Lyon-Villeurbanne': {'odds': 2.34},\n",
       "   'AS Monaco Basket': {'odds': 1.5714285714285714}},\n",
       "  'points': {'LDLC ASVEL Lyon-Villeurbanne': {'amount': 'Over 159.5',\n",
       "    'odds': 1.8333333333333335},\n",
       "   'AS Monaco Basket': {'amount': 'Under 159.5', 'odds': 1.9090909090909092}}}]"
      ]
     },
     "execution_count": 9,
     "metadata": {},
     "output_type": "execute_result"
    }
   ],
   "source": [
    "pointsbet()"
   ]
  },
  {
   "cell_type": "code",
   "execution_count": null,
   "id": "8dbf2191-56d2-4555-8b3d-cadc53dbd543",
   "metadata": {},
   "outputs": [],
   "source": []
  }
 ],
 "metadata": {
  "kernelspec": {
   "display_name": "Python 3 (ipykernel)",
   "language": "python",
   "name": "python3"
  },
  "language_info": {
   "codemirror_mode": {
    "name": "ipython",
    "version": 3
   },
   "file_extension": ".py",
   "mimetype": "text/x-python",
   "name": "python",
   "nbconvert_exporter": "python",
   "pygments_lexer": "ipython3",
   "version": "3.9.7"
  }
 },
 "nbformat": 4,
 "nbformat_minor": 5
}
